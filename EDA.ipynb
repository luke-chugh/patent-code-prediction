{
 "cells": [
  {
   "cell_type": "markdown",
   "metadata": {},
   "source": [
    "#### Importing the features required for prediction of patent class"
   ]
  },
  {
   "cell_type": "code",
   "execution_count": 248,
   "metadata": {},
   "outputs": [],
   "source": [
    "import pandas as pd\n",
    "features = pd.read_csv(\"./data/patent_class_features_after_2022_20230611.csv\")\n",
    "class_labels = pd.read_csv(\"./data/patent_class_after_2022_20230611.csv\")"
   ]
  },
  {
   "cell_type": "code",
   "execution_count": 249,
   "metadata": {},
   "outputs": [
    {
     "data": {
      "text/html": [
       "<div>\n",
       "<style scoped>\n",
       "    .dataframe tbody tr th:only-of-type {\n",
       "        vertical-align: middle;\n",
       "    }\n",
       "\n",
       "    .dataframe tbody tr th {\n",
       "        vertical-align: top;\n",
       "    }\n",
       "\n",
       "    .dataframe thead th {\n",
       "        text-align: right;\n",
       "    }\n",
       "</style>\n",
       "<table border=\"1\" class=\"dataframe\">\n",
       "  <thead>\n",
       "    <tr style=\"text-align: right;\">\n",
       "      <th></th>\n",
       "      <th>PATENT</th>\n",
       "      <th>PUB_DATE</th>\n",
       "      <th>COUNTRY</th>\n",
       "      <th>PRIMARY_LANG</th>\n",
       "      <th>IPC</th>\n",
       "      <th>DWPI_TITLE</th>\n",
       "      <th>DWPI_DETAILED_DESCRIPTIONS</th>\n",
       "      <th>DWPI_NOVELTY</th>\n",
       "      <th>DWPI_USE</th>\n",
       "    </tr>\n",
       "  </thead>\n",
       "  <tbody>\n",
       "    <tr>\n",
       "      <th>0</th>\n",
       "      <td>CN218280954U_</td>\n",
       "      <td>2023-01-13</td>\n",
       "      <td>CN</td>\n",
       "      <td>ZH_ZH</td>\n",
       "      <td>['B01D004604', 'B01D004676', 'B01D004602', 'B0...</td>\n",
       "      <td>Surface anti-sticking dust-removing filter bag...</td>\n",
       "      <td>NaN</td>\n",
       "      <td>The utility model claims a surface anti-sticki...</td>\n",
       "      <td>NaN</td>\n",
       "    </tr>\n",
       "    <tr>\n",
       "      <th>1</th>\n",
       "      <td>CN218188237U_</td>\n",
       "      <td>2023-01-03</td>\n",
       "      <td>CN</td>\n",
       "      <td>ZH_ZH</td>\n",
       "      <td>['B01D002996', 'B01D002933']</td>\n",
       "      <td>Environment-friendly reusable cooling liquid f...</td>\n",
       "      <td>NaN</td>\n",
       "      <td>The utility model claims a new environment-fri...</td>\n",
       "      <td>NaN</td>\n",
       "    </tr>\n",
       "    <tr>\n",
       "      <th>2</th>\n",
       "      <td>CN218442764U_</td>\n",
       "      <td>2023-02-03</td>\n",
       "      <td>CN</td>\n",
       "      <td>ZH_ZH</td>\n",
       "      <td>['F24H000118', 'B08B000304', 'F24H000902', 'F2...</td>\n",
       "      <td>Organic silicon modified epoxy heat conducting...</td>\n",
       "      <td>NaN</td>\n",
       "      <td>The utility model claims an organic silicon mo...</td>\n",
       "      <td>NaN</td>\n",
       "    </tr>\n",
       "    <tr>\n",
       "      <th>3</th>\n",
       "      <td>CN218428090U_</td>\n",
       "      <td>2023-02-03</td>\n",
       "      <td>CN</td>\n",
       "      <td>ZH_ZH</td>\n",
       "      <td>['B25B002700']</td>\n",
       "      <td>Electronic screen dismounting device, has lowe...</td>\n",
       "      <td>An INDEPENDENT CLAIM is included for the elect...</td>\n",
       "      <td>The utility model relates to screen disassembl...</td>\n",
       "      <td>NaN</td>\n",
       "    </tr>\n",
       "    <tr>\n",
       "      <th>4</th>\n",
       "      <td>CN218195410U_</td>\n",
       "      <td>2023-01-03</td>\n",
       "      <td>CN</td>\n",
       "      <td>ZH_ZH</td>\n",
       "      <td>['B26D000702', 'B26D000510', 'B26D000108']</td>\n",
       "      <td>Inclined cutting paper cutting device, has cut...</td>\n",
       "      <td>NaN</td>\n",
       "      <td>The utility model claims an inclined cutting p...</td>\n",
       "      <td>NaN</td>\n",
       "    </tr>\n",
       "  </tbody>\n",
       "</table>\n",
       "</div>"
      ],
      "text/plain": [
       "          PATENT    PUB_DATE COUNTRY PRIMARY_LANG  \\\n",
       "0  CN218280954U_  2023-01-13      CN        ZH_ZH   \n",
       "1  CN218188237U_  2023-01-03      CN        ZH_ZH   \n",
       "2  CN218442764U_  2023-02-03      CN        ZH_ZH   \n",
       "3  CN218428090U_  2023-02-03      CN        ZH_ZH   \n",
       "4  CN218195410U_  2023-01-03      CN        ZH_ZH   \n",
       "\n",
       "                                                 IPC  \\\n",
       "0  ['B01D004604', 'B01D004676', 'B01D004602', 'B0...   \n",
       "1                       ['B01D002996', 'B01D002933']   \n",
       "2  ['F24H000118', 'B08B000304', 'F24H000902', 'F2...   \n",
       "3                                     ['B25B002700']   \n",
       "4         ['B26D000702', 'B26D000510', 'B26D000108']   \n",
       "\n",
       "                                          DWPI_TITLE  \\\n",
       "0  Surface anti-sticking dust-removing filter bag...   \n",
       "1  Environment-friendly reusable cooling liquid f...   \n",
       "2  Organic silicon modified epoxy heat conducting...   \n",
       "3  Electronic screen dismounting device, has lowe...   \n",
       "4  Inclined cutting paper cutting device, has cut...   \n",
       "\n",
       "                          DWPI_DETAILED_DESCRIPTIONS  \\\n",
       "0                                                NaN   \n",
       "1                                                NaN   \n",
       "2                                                NaN   \n",
       "3  An INDEPENDENT CLAIM is included for the elect...   \n",
       "4                                                NaN   \n",
       "\n",
       "                                        DWPI_NOVELTY DWPI_USE  \n",
       "0  The utility model claims a surface anti-sticki...      NaN  \n",
       "1  The utility model claims a new environment-fri...      NaN  \n",
       "2  The utility model claims an organic silicon mo...      NaN  \n",
       "3  The utility model relates to screen disassembl...      NaN  \n",
       "4  The utility model claims an inclined cutting p...      NaN  "
      ]
     },
     "execution_count": 249,
     "metadata": {},
     "output_type": "execute_result"
    }
   ],
   "source": [
    "features.head()"
   ]
  },
  {
   "cell_type": "code",
   "execution_count": 250,
   "metadata": {},
   "outputs": [
    {
     "data": {
      "text/html": [
       "<div>\n",
       "<style scoped>\n",
       "    .dataframe tbody tr th:only-of-type {\n",
       "        vertical-align: middle;\n",
       "    }\n",
       "\n",
       "    .dataframe tbody tr th {\n",
       "        vertical-align: top;\n",
       "    }\n",
       "\n",
       "    .dataframe thead th {\n",
       "        text-align: right;\n",
       "    }\n",
       "</style>\n",
       "<table border=\"1\" class=\"dataframe\">\n",
       "  <thead>\n",
       "    <tr style=\"text-align: right;\">\n",
       "      <th></th>\n",
       "      <th>PATENT</th>\n",
       "      <th>CLASS</th>\n",
       "    </tr>\n",
       "  </thead>\n",
       "  <tbody>\n",
       "    <tr>\n",
       "      <th>0</th>\n",
       "      <td>CN218280954U_</td>\n",
       "      <td>A88</td>\n",
       "    </tr>\n",
       "    <tr>\n",
       "      <th>1</th>\n",
       "      <td>CN218188237U_</td>\n",
       "      <td>A88</td>\n",
       "    </tr>\n",
       "    <tr>\n",
       "      <th>2</th>\n",
       "      <td>CN218442764U_</td>\n",
       "      <td>A88</td>\n",
       "    </tr>\n",
       "    <tr>\n",
       "      <th>3</th>\n",
       "      <td>CN218428090U_</td>\n",
       "      <td>A88</td>\n",
       "    </tr>\n",
       "    <tr>\n",
       "      <th>4</th>\n",
       "      <td>CN218195410U_</td>\n",
       "      <td>A88</td>\n",
       "    </tr>\n",
       "  </tbody>\n",
       "</table>\n",
       "</div>"
      ],
      "text/plain": [
       "          PATENT CLASS\n",
       "0  CN218280954U_   A88\n",
       "1  CN218188237U_   A88\n",
       "2  CN218442764U_   A88\n",
       "3  CN218428090U_   A88\n",
       "4  CN218195410U_   A88"
      ]
     },
     "execution_count": 250,
     "metadata": {},
     "output_type": "execute_result"
    }
   ],
   "source": [
    "class_labels.head()"
   ]
  },
  {
   "cell_type": "code",
   "execution_count": 251,
   "metadata": {},
   "outputs": [
    {
     "name": "stdout",
     "output_type": "stream",
     "text": [
      "A: ['A11', 'A12', 'A13', 'A14', 'A17', 'A18', 'A21', 'A23', 'A25', 'A26', 'A28', 'A31', 'A32', 'A35', 'A41', 'A60', 'A81', 'A82', 'A83', 'A84', 'A85', 'A86', 'A87', 'A88', 'A89', 'A91', 'A92', 'A93', 'A94', 'A95', 'A96', 'A97']\n",
      "B: ['B01', 'B02', 'B03', 'B04', 'B05', 'B06', 'B07']\n",
      "C: ['C01', 'C02', 'C03', 'C04', 'C05', 'C06', 'C07']\n",
      "D: ['D11', 'D12', 'D13', 'D14', 'D15', 'D16', 'D17', 'D18', 'D21', 'D22', 'D23', 'D24', 'D25']\n",
      "E: ['E11', 'E12', 'E13', 'E14', 'E15', 'E16', 'E17', 'E19', 'E21', 'E22', 'E23', 'E24', 'E31', 'E32', 'E33', 'E34', 'E35', 'E36', 'E37']\n",
      "F: ['F01', 'F02', 'F03', 'F04', 'F05', 'F06', 'F07', 'F08', 'F09']\n",
      "G: ['G01', 'G02', 'G03', 'G04', 'G05', 'G06', 'G07', 'G08']\n",
      "H: ['H01', 'H02', 'H03', 'H04', 'H05', 'H06', 'H07', 'H08', 'H09']\n",
      "J: ['J01', 'J02', 'J03', 'J04', 'J05', 'J06', 'J07', 'J08', 'J09']\n",
      "K: ['K01', 'K02', 'K03', 'K04', 'K05', 'K06', 'K07', 'K08']\n",
      "L: ['L01', 'L02', 'L03']\n",
      "M: ['M11', 'M12', 'M13', 'M14', 'M21', 'M22', 'M23', 'M24', 'M25', 'M26', 'M27', 'M28', 'M29']\n",
      "P: ['P11', 'P12', 'P13', 'P14', 'P15', 'P21', 'P22', 'P23', 'P24', 'P25', 'P26', 'P27', 'P28', 'P31', 'P32', 'P33', 'P34', 'P35', 'P36', 'P41', 'P42', 'P43', 'P51', 'P52', 'P53', 'P54', 'P55', 'P56', 'P61', 'P62', 'P63', 'P64', 'P71', 'P72', 'P73', 'P74', 'P75', 'P76', 'P77', 'P78', 'P81', 'P82', 'P83', 'P84', 'P85', 'P86']\n",
      "Q: ['Q11', 'Q12', 'Q13', 'Q14', 'Q15', 'Q16', 'Q17', 'Q18', 'Q19', 'Q21', 'Q22', 'Q24', 'Q25', 'Q31', 'Q32', 'Q33', 'Q34', 'Q35', 'Q36', 'Q38', 'Q41', 'Q42', 'Q43', 'Q44', 'Q45', 'Q46', 'Q47', 'Q48', 'Q49', 'Q51', 'Q52', 'Q53', 'Q54', 'Q55', 'Q56', 'Q57', 'Q61', 'Q62', 'Q63', 'Q64', 'Q65', 'Q66', 'Q67', 'Q68', 'Q69', 'Q71', 'Q72', 'Q73', 'Q74', 'Q75', 'Q76', 'Q77', 'Q78', 'Q79']\n",
      "S: ['S01', 'S02', 'S03', 'S04', 'S05', 'S06']\n",
      "T: ['T01', 'T02', 'T03', 'T04', 'T05', 'T06', 'T07']\n",
      "U: ['U11', 'U12', 'U13', 'U14', 'U21', 'U22', 'U23', 'U24', 'U25']\n",
      "V: ['V01', 'V02', 'V03', 'V04', 'V05', 'V06', 'V07', 'V08']\n",
      "W: ['W01', 'W02', 'W03', 'W04', 'W05', 'W06', 'W07']\n",
      "X: ['X11', 'X12', 'X13', 'X14', 'X15', 'X16', 'X21', 'X22', 'X23', 'X24', 'X25', 'X26', 'X27']\n"
     ]
    }
   ],
   "source": [
    "unique_class_codes = sorted(class_labels.CLASS.unique())\n",
    "# Create a dictionary with keys as first letters and values as lists of codes\n",
    "codes_dict = {}\n",
    "for code in unique_class_codes:\n",
    "    first_letter = code[0]\n",
    "    if first_letter not in codes_dict:\n",
    "        codes_dict[first_letter] = []\n",
    "    codes_dict[first_letter].append(code)\n",
    "\n",
    "# Display the lists for each letter\n",
    "for letter, codes in codes_dict.items():\n",
    "    print(f\"{letter}: {codes}\")"
   ]
  },
  {
   "cell_type": "markdown",
   "metadata": {},
   "source": [
    "There are only IPC classes and sections under those classes. There are no subclasses and groups mentioned in class codes"
   ]
  },
  {
   "cell_type": "code",
   "execution_count": 252,
   "metadata": {},
   "outputs": [
    {
     "name": "stdout",
     "output_type": "stream",
     "text": [
      "20\n"
     ]
    }
   ],
   "source": [
    "# How many IPC sections are there ?\n",
    "total_keys = len(codes_dict.keys())\n",
    "print(total_keys)"
   ]
  },
  {
   "cell_type": "markdown",
   "metadata": {},
   "source": [
    "This means I have to create 21 different classifiers. 1 for predicting the starting Alphabet/Class i.e., the root node of the tree. The top level\n",
    "\n",
    "And then 1 classifier for each Alphabet/Class (20). So, total 21 different classifiers"
   ]
  },
  {
   "cell_type": "code",
   "execution_count": 253,
   "metadata": {},
   "outputs": [
    {
     "name": "stdout",
     "output_type": "stream",
     "text": [
      "A: 32\n",
      "B: 7\n",
      "C: 7\n",
      "D: 13\n",
      "E: 19\n",
      "F: 9\n",
      "G: 8\n",
      "H: 9\n",
      "J: 9\n",
      "K: 8\n",
      "L: 3\n",
      "M: 13\n",
      "P: 46\n",
      "Q: 54\n",
      "S: 6\n",
      "T: 7\n",
      "U: 9\n",
      "V: 8\n",
      "W: 7\n",
      "X: 13\n"
     ]
    }
   ],
   "source": [
    "# How many unique classes are there in each IPC section ?\n",
    "for letter, codes in codes_dict.items():\n",
    "    print(f\"{letter}: {len(codes)}\")"
   ]
  },
  {
   "cell_type": "code",
   "execution_count": 254,
   "metadata": {},
   "outputs": [
    {
     "data": {
      "text/plain": [
       "(344328, 9)"
      ]
     },
     "execution_count": 254,
     "metadata": {},
     "output_type": "execute_result"
    }
   ],
   "source": [
    "features.shape"
   ]
  },
  {
   "cell_type": "code",
   "execution_count": 255,
   "metadata": {},
   "outputs": [
    {
     "data": {
      "text/plain": [
       "dtype('O')"
      ]
     },
     "execution_count": 255,
     "metadata": {},
     "output_type": "execute_result"
    }
   ],
   "source": [
    "features.columns.dtype"
   ]
  },
  {
   "cell_type": "code",
   "execution_count": 256,
   "metadata": {},
   "outputs": [
    {
     "data": {
      "text/plain": [
       "(461258, 2)"
      ]
     },
     "execution_count": 256,
     "metadata": {},
     "output_type": "execute_result"
    }
   ],
   "source": [
    "class_labels.shape"
   ]
  },
  {
   "cell_type": "code",
   "execution_count": 257,
   "metadata": {},
   "outputs": [
    {
     "data": {
      "text/html": [
       "<div>\n",
       "<style scoped>\n",
       "    .dataframe tbody tr th:only-of-type {\n",
       "        vertical-align: middle;\n",
       "    }\n",
       "\n",
       "    .dataframe tbody tr th {\n",
       "        vertical-align: top;\n",
       "    }\n",
       "\n",
       "    .dataframe thead th {\n",
       "        text-align: right;\n",
       "    }\n",
       "</style>\n",
       "<table border=\"1\" class=\"dataframe\">\n",
       "  <thead>\n",
       "    <tr style=\"text-align: right;\">\n",
       "      <th></th>\n",
       "      <th>PATENT</th>\n",
       "      <th>PUB_DATE</th>\n",
       "      <th>COUNTRY</th>\n",
       "      <th>PRIMARY_LANG</th>\n",
       "      <th>IPC</th>\n",
       "      <th>DWPI_TITLE</th>\n",
       "      <th>DWPI_DETAILED_DESCRIPTIONS</th>\n",
       "      <th>DWPI_NOVELTY</th>\n",
       "      <th>DWPI_USE</th>\n",
       "    </tr>\n",
       "  </thead>\n",
       "  <tbody>\n",
       "    <tr>\n",
       "      <th>0</th>\n",
       "      <td>CN218280954U_</td>\n",
       "      <td>2023-01-13</td>\n",
       "      <td>CN</td>\n",
       "      <td>ZH_ZH</td>\n",
       "      <td>['B01D004604', 'B01D004676', 'B01D004602', 'B0...</td>\n",
       "      <td>Surface anti-sticking dust-removing filter bag...</td>\n",
       "      <td>NaN</td>\n",
       "      <td>The utility model claims a surface anti-sticki...</td>\n",
       "      <td>NaN</td>\n",
       "    </tr>\n",
       "    <tr>\n",
       "      <th>1</th>\n",
       "      <td>CN218188237U_</td>\n",
       "      <td>2023-01-03</td>\n",
       "      <td>CN</td>\n",
       "      <td>ZH_ZH</td>\n",
       "      <td>['B01D002996', 'B01D002933']</td>\n",
       "      <td>Environment-friendly reusable cooling liquid f...</td>\n",
       "      <td>NaN</td>\n",
       "      <td>The utility model claims a new environment-fri...</td>\n",
       "      <td>NaN</td>\n",
       "    </tr>\n",
       "    <tr>\n",
       "      <th>2</th>\n",
       "      <td>CN218442764U_</td>\n",
       "      <td>2023-02-03</td>\n",
       "      <td>CN</td>\n",
       "      <td>ZH_ZH</td>\n",
       "      <td>['F24H000118', 'B08B000304', 'F24H000902', 'F2...</td>\n",
       "      <td>Organic silicon modified epoxy heat conducting...</td>\n",
       "      <td>NaN</td>\n",
       "      <td>The utility model claims an organic silicon mo...</td>\n",
       "      <td>NaN</td>\n",
       "    </tr>\n",
       "    <tr>\n",
       "      <th>3</th>\n",
       "      <td>CN218428090U_</td>\n",
       "      <td>2023-02-03</td>\n",
       "      <td>CN</td>\n",
       "      <td>ZH_ZH</td>\n",
       "      <td>['B25B002700']</td>\n",
       "      <td>Electronic screen dismounting device, has lowe...</td>\n",
       "      <td>An INDEPENDENT CLAIM is included for the elect...</td>\n",
       "      <td>The utility model relates to screen disassembl...</td>\n",
       "      <td>NaN</td>\n",
       "    </tr>\n",
       "    <tr>\n",
       "      <th>4</th>\n",
       "      <td>CN218195410U_</td>\n",
       "      <td>2023-01-03</td>\n",
       "      <td>CN</td>\n",
       "      <td>ZH_ZH</td>\n",
       "      <td>['B26D000702', 'B26D000510', 'B26D000108']</td>\n",
       "      <td>Inclined cutting paper cutting device, has cut...</td>\n",
       "      <td>NaN</td>\n",
       "      <td>The utility model claims an inclined cutting p...</td>\n",
       "      <td>NaN</td>\n",
       "    </tr>\n",
       "  </tbody>\n",
       "</table>\n",
       "</div>"
      ],
      "text/plain": [
       "          PATENT    PUB_DATE COUNTRY PRIMARY_LANG  \\\n",
       "0  CN218280954U_  2023-01-13      CN        ZH_ZH   \n",
       "1  CN218188237U_  2023-01-03      CN        ZH_ZH   \n",
       "2  CN218442764U_  2023-02-03      CN        ZH_ZH   \n",
       "3  CN218428090U_  2023-02-03      CN        ZH_ZH   \n",
       "4  CN218195410U_  2023-01-03      CN        ZH_ZH   \n",
       "\n",
       "                                                 IPC  \\\n",
       "0  ['B01D004604', 'B01D004676', 'B01D004602', 'B0...   \n",
       "1                       ['B01D002996', 'B01D002933']   \n",
       "2  ['F24H000118', 'B08B000304', 'F24H000902', 'F2...   \n",
       "3                                     ['B25B002700']   \n",
       "4         ['B26D000702', 'B26D000510', 'B26D000108']   \n",
       "\n",
       "                                          DWPI_TITLE  \\\n",
       "0  Surface anti-sticking dust-removing filter bag...   \n",
       "1  Environment-friendly reusable cooling liquid f...   \n",
       "2  Organic silicon modified epoxy heat conducting...   \n",
       "3  Electronic screen dismounting device, has lowe...   \n",
       "4  Inclined cutting paper cutting device, has cut...   \n",
       "\n",
       "                          DWPI_DETAILED_DESCRIPTIONS  \\\n",
       "0                                                NaN   \n",
       "1                                                NaN   \n",
       "2                                                NaN   \n",
       "3  An INDEPENDENT CLAIM is included for the elect...   \n",
       "4                                                NaN   \n",
       "\n",
       "                                        DWPI_NOVELTY DWPI_USE  \n",
       "0  The utility model claims a surface anti-sticki...      NaN  \n",
       "1  The utility model claims a new environment-fri...      NaN  \n",
       "2  The utility model claims an organic silicon mo...      NaN  \n",
       "3  The utility model relates to screen disassembl...      NaN  \n",
       "4  The utility model claims an inclined cutting p...      NaN  "
      ]
     },
     "execution_count": 257,
     "metadata": {},
     "output_type": "execute_result"
    }
   ],
   "source": [
    "features.head()"
   ]
  },
  {
   "cell_type": "code",
   "execution_count": 258,
   "metadata": {},
   "outputs": [
    {
     "name": "stdout",
     "output_type": "stream",
     "text": [
      "Date range: 2023-01-01 to 2023-02-28\n"
     ]
    }
   ],
   "source": [
    "# PATENT, DWPI_TITLE and DWPI_NOVELTY are object data type, have to convert them to string\n",
    "features['PATENT'] = features['PATENT'].astype(str).str.strip()\n",
    "class_labels['PATENT'] = class_labels['PATENT'].astype(str).str.strip()\n",
    "features['DWPI_TITLE'] = features['DWPI_TITLE'].astype(str).str.strip()\n",
    "features['DWPI_NOVELTY'] = features['DWPI_NOVELTY'].astype(str).str.strip()\n",
    "\n",
    "# Only first 2 characters of PRIMARY_LANG before delimeter \"_\" is required\n",
    "def get_left_part(s):\n",
    "    return s.split('_')[0]\n",
    "features.PRIMARY_LANG = features.PRIMARY_LANG.apply(get_left_part)\n",
    "\n",
    "# PUB_DATE column has to be parsed as pandas datetime object\n",
    "features['PUB_DATE'] = pd.to_datetime(features['PUB_DATE'], format='%Y-%m-%d')\n",
    "# Calculate the date range\n",
    "start_date = features['PUB_DATE'].min()\n",
    "end_date = features['PUB_DATE'].max()\n",
    "# Print the date range\n",
    "print(f\"Date range: {start_date.date()} to {end_date.date()}\")"
   ]
  },
  {
   "cell_type": "code",
   "execution_count": 259,
   "metadata": {},
   "outputs": [
    {
     "data": {
      "text/plain": [
       "PATENT                        344328\n",
       "PUB_DATE                          59\n",
       "COUNTRY                           40\n",
       "PRIMARY_LANG                      23\n",
       "IPC                           264953\n",
       "DWPI_TITLE                    343353\n",
       "DWPI_DETAILED_DESCRIPTIONS     85860\n",
       "DWPI_NOVELTY                  343944\n",
       "DWPI_USE                      147691\n",
       "dtype: int64"
      ]
     },
     "execution_count": 259,
     "metadata": {},
     "output_type": "execute_result"
    }
   ],
   "source": [
    "features.nunique()"
   ]
  },
  {
   "cell_type": "code",
   "execution_count": 260,
   "metadata": {},
   "outputs": [
    {
     "name": "stdout",
     "output_type": "stream",
     "text": [
      "PATENT                             0\n",
      "PUB_DATE                           0\n",
      "COUNTRY                            0\n",
      "PRIMARY_LANG                       0\n",
      "IPC                               15\n",
      "DWPI_TITLE                         0\n",
      "DWPI_DETAILED_DESCRIPTIONS    251364\n",
      "DWPI_NOVELTY                       0\n",
      "DWPI_USE                      193017\n",
      "dtype: int64\n"
     ]
    }
   ],
   "source": [
    "missing_values_count = features.isna().sum()\n",
    "print(missing_values_count)"
   ]
  },
  {
   "cell_type": "code",
   "execution_count": 261,
   "metadata": {},
   "outputs": [
    {
     "name": "stdout",
     "output_type": "stream",
     "text": [
      "PATENT                         0.0000\n",
      "PUB_DATE                       0.0000\n",
      "COUNTRY                        0.0000\n",
      "PRIMARY_LANG                   0.0000\n",
      "IPC                            0.0044\n",
      "DWPI_TITLE                     0.0000\n",
      "DWPI_DETAILED_DESCRIPTIONS    73.0013\n",
      "DWPI_NOVELTY                   0.0000\n",
      "DWPI_USE                      56.0561\n",
      "dtype: float64\n"
     ]
    }
   ],
   "source": [
    "# representing missing values as percentages (proportion)\n",
    "# note IPC column still has 15 missing values\n",
    "missing_values_count = round((features.isna().sum()/features.shape[0])*100,4)\n",
    "print(missing_values_count)"
   ]
  },
  {
   "cell_type": "code",
   "execution_count": 262,
   "metadata": {},
   "outputs": [
    {
     "name": "stdout",
     "output_type": "stream",
     "text": [
      "Column 'PATENT' has 0.0% duplicate values.\n",
      "Column 'PUB_DATE' has 99.98% duplicate values.\n",
      "Column 'COUNTRY' has 99.99% duplicate values.\n",
      "Column 'PRIMARY_LANG' has 99.99% duplicate values.\n",
      "Column 'IPC' has 23.05% duplicate values.\n",
      "Column 'DWPI_TITLE' has 0.28% duplicate values.\n",
      "Column 'DWPI_DETAILED_DESCRIPTIONS' has 75.06% duplicate values.\n",
      "Column 'DWPI_NOVELTY' has 0.11% duplicate values.\n",
      "Column 'DWPI_USE' has 57.11% duplicate values.\n"
     ]
    }
   ],
   "source": [
    "# Count duplicates for each column\n",
    "duplicate_counts = {col: features[col].duplicated().sum() for col in features.columns}\n",
    "\n",
    "# Display results in terms of %\n",
    "for col, count in duplicate_counts.items():\n",
    "    print(f\"Column '{col}' has {round(count/features.shape[0]*100,2)}% duplicate values.\")"
   ]
  },
  {
   "cell_type": "markdown",
   "metadata": {},
   "source": [
    "**It means PATENT, IPC, DWPI_TITLE, DWPI_NOVELTY are significanlty important to differentiate between patents and maybe for even classification purposes.**\n",
    "\n",
    "**Whereas DWPI_DETAILED_DESCRIPTIONS and DWPI_USE with a lot of duplicate and missing values seem insignificant. Dropping them makes sense.**\n",
    "\n",
    "**Columns \"PUB_DATE\", \"COUNTRY\" and \"PRIMARY_LANG\" also seem insignificant for differentiating between patents and their respective classes.**\n",
    "\n",
    "I have to calculate the word embeddings for DWPI_TITLE and DWPI_NOVELTY columns. One clever way can be to combine the text in both columns to make it a single column and then calculate the word embeddings. The way we calculate embeddings for a sentence is once we have embedding for each word in the sentence, we simply add the embeddings for every single word to get embeddings for the sentence. This will be the most important feature to predict classes"
   ]
  },
  {
   "cell_type": "code",
   "execution_count": 263,
   "metadata": {},
   "outputs": [],
   "source": [
    "# Dropping insignificant columns\n",
    "features = features.drop(columns=['DWPI_DETAILED_DESCRIPTIONS', 'DWPI_USE'])"
   ]
  },
  {
   "cell_type": "code",
   "execution_count": 264,
   "metadata": {},
   "outputs": [
    {
     "data": {
      "text/plain": [
       "PATENT    344328\n",
       "CLASS        287\n",
       "dtype: int64"
      ]
     },
     "execution_count": 264,
     "metadata": {},
     "output_type": "execute_result"
    }
   ],
   "source": [
    "class_labels.nunique()"
   ]
  },
  {
   "cell_type": "markdown",
   "metadata": {},
   "source": [
    "#### There are 287 unique classes for 344328 unique patents. But the class_labels DataFrame has 344328 unique patents with 461258 rows which means that some patents belong to multiple classes"
   ]
  },
  {
   "cell_type": "code",
   "execution_count": 265,
   "metadata": {},
   "outputs": [
    {
     "data": {
      "text/html": [
       "<div>\n",
       "<style scoped>\n",
       "    .dataframe tbody tr th:only-of-type {\n",
       "        vertical-align: middle;\n",
       "    }\n",
       "\n",
       "    .dataframe tbody tr th {\n",
       "        vertical-align: top;\n",
       "    }\n",
       "\n",
       "    .dataframe thead th {\n",
       "        text-align: right;\n",
       "    }\n",
       "</style>\n",
       "<table border=\"1\" class=\"dataframe\">\n",
       "  <thead>\n",
       "    <tr style=\"text-align: right;\">\n",
       "      <th></th>\n",
       "      <th>PATENT</th>\n",
       "      <th>CLASS</th>\n",
       "    </tr>\n",
       "  </thead>\n",
       "  <tbody>\n",
       "    <tr>\n",
       "      <th>0</th>\n",
       "      <td>AR123668A1</td>\n",
       "      <td>[Q31]</td>\n",
       "    </tr>\n",
       "    <tr>\n",
       "      <th>1</th>\n",
       "      <td>AR123669A1</td>\n",
       "      <td>[T01, P14]</td>\n",
       "    </tr>\n",
       "    <tr>\n",
       "      <th>2</th>\n",
       "      <td>AR123694A1</td>\n",
       "      <td>[Q49]</td>\n",
       "    </tr>\n",
       "    <tr>\n",
       "      <th>3</th>\n",
       "      <td>AR123695A1</td>\n",
       "      <td>[S03, J04]</td>\n",
       "    </tr>\n",
       "    <tr>\n",
       "      <th>4</th>\n",
       "      <td>AR123703A1</td>\n",
       "      <td>[A93]</td>\n",
       "    </tr>\n",
       "    <tr>\n",
       "      <th>...</th>\n",
       "      <td>...</td>\n",
       "      <td>...</td>\n",
       "    </tr>\n",
       "    <tr>\n",
       "      <th>344323</th>\n",
       "      <td>ZA202213920B_</td>\n",
       "      <td>[P14]</td>\n",
       "    </tr>\n",
       "    <tr>\n",
       "      <th>344324</th>\n",
       "      <td>ZA202300109B_</td>\n",
       "      <td>[Q43]</td>\n",
       "    </tr>\n",
       "    <tr>\n",
       "      <th>344325</th>\n",
       "      <td>ZA202300118B_</td>\n",
       "      <td>[S05, T01]</td>\n",
       "    </tr>\n",
       "    <tr>\n",
       "      <th>344326</th>\n",
       "      <td>ZA202300175B_</td>\n",
       "      <td>[A96, D22, F07, P32]</td>\n",
       "    </tr>\n",
       "    <tr>\n",
       "      <th>344327</th>\n",
       "      <td>ZA202300287B_</td>\n",
       "      <td>[X25]</td>\n",
       "    </tr>\n",
       "  </tbody>\n",
       "</table>\n",
       "<p>344328 rows × 2 columns</p>\n",
       "</div>"
      ],
      "text/plain": [
       "               PATENT                 CLASS\n",
       "0          AR123668A1                 [Q31]\n",
       "1          AR123669A1            [T01, P14]\n",
       "2          AR123694A1                 [Q49]\n",
       "3          AR123695A1            [S03, J04]\n",
       "4          AR123703A1                 [A93]\n",
       "...               ...                   ...\n",
       "344323  ZA202213920B_                 [P14]\n",
       "344324  ZA202300109B_                 [Q43]\n",
       "344325  ZA202300118B_            [S05, T01]\n",
       "344326  ZA202300175B_  [A96, D22, F07, P32]\n",
       "344327  ZA202300287B_                 [X25]\n",
       "\n",
       "[344328 rows x 2 columns]"
      ]
     },
     "execution_count": 265,
     "metadata": {},
     "output_type": "execute_result"
    }
   ],
   "source": [
    "class_labels = class_labels.groupby('PATENT')['CLASS'].apply(list).reset_index()\n",
    "class_labels"
   ]
  },
  {
   "cell_type": "code",
   "execution_count": 266,
   "metadata": {},
   "outputs": [
    {
     "data": {
      "text/plain": [
       "(344328, 2)"
      ]
     },
     "execution_count": 266,
     "metadata": {},
     "output_type": "execute_result"
    }
   ],
   "source": [
    "class_labels.shape"
   ]
  },
  {
   "cell_type": "code",
   "execution_count": 267,
   "metadata": {},
   "outputs": [
    {
     "name": "stdout",
     "output_type": "stream",
     "text": [
      "Patents in features but not in class_labels: 0\n",
      "Patents in class_labels but not in features: 0\n"
     ]
    }
   ],
   "source": [
    "unmatched_in_features = features[~features['PATENT'].isin(class_labels['PATENT'])]\n",
    "unmatched_in_class_labels = class_labels[~class_labels['PATENT'].isin(features['PATENT'])]\n",
    "\n",
    "print(\"Patents in features but not in class_labels:\", len(unmatched_in_features))\n",
    "print(\"Patents in class_labels but not in features:\", len(unmatched_in_class_labels))"
   ]
  },
  {
   "cell_type": "code",
   "execution_count": 268,
   "metadata": {},
   "outputs": [
    {
     "data": {
      "text/plain": [
       "(344328, 8)"
      ]
     },
     "execution_count": 268,
     "metadata": {},
     "output_type": "execute_result"
    }
   ],
   "source": [
    "#### There are 344328 unique patents in both the data frames with exact match so doing a inner join\n",
    "df = features.merge(class_labels, on='PATENT', how='inner')\n",
    "df.shape"
   ]
  },
  {
   "cell_type": "code",
   "execution_count": 269,
   "metadata": {},
   "outputs": [
    {
     "name": "stdout",
     "output_type": "stream",
     "text": [
      "PATENT           0\n",
      "PUB_DATE         0\n",
      "COUNTRY          0\n",
      "PRIMARY_LANG     0\n",
      "IPC             15\n",
      "DWPI_TITLE       0\n",
      "DWPI_NOVELTY     0\n",
      "CLASS            0\n",
      "dtype: int64\n"
     ]
    }
   ],
   "source": [
    "# Which columns have missing values after the join ?\n",
    "missing_values_count = df.isna().sum()\n",
    "print(missing_values_count)"
   ]
  },
  {
   "cell_type": "code",
   "execution_count": 270,
   "metadata": {},
   "outputs": [
    {
     "name": "stdout",
     "output_type": "stream",
     "text": [
      "PATENT          0\n",
      "PUB_DATE        0\n",
      "COUNTRY         0\n",
      "PRIMARY_LANG    0\n",
      "IPC             0\n",
      "DWPI_TITLE      0\n",
      "DWPI_NOVELTY    0\n",
      "CLASS           0\n",
      "dtype: int64\n"
     ]
    }
   ],
   "source": [
    "# Dropping rows where IPC values are missing. It wouldn't hurt because these 15 rows account for only 0.0044% of entire dataset.\n",
    "df = df.dropna(subset=['IPC'])\n",
    "missing_values_count = df.isna().sum()\n",
    "print(missing_values_count)\n",
    "# Finally, no missing values. The dataset is still big enough for models to be trained upon. "
   ]
  },
  {
   "cell_type": "code",
   "execution_count": 271,
   "metadata": {},
   "outputs": [
    {
     "data": {
      "text/html": [
       "<div>\n",
       "<style scoped>\n",
       "    .dataframe tbody tr th:only-of-type {\n",
       "        vertical-align: middle;\n",
       "    }\n",
       "\n",
       "    .dataframe tbody tr th {\n",
       "        vertical-align: top;\n",
       "    }\n",
       "\n",
       "    .dataframe thead th {\n",
       "        text-align: right;\n",
       "    }\n",
       "</style>\n",
       "<table border=\"1\" class=\"dataframe\">\n",
       "  <thead>\n",
       "    <tr style=\"text-align: right;\">\n",
       "      <th></th>\n",
       "      <th>PATENT</th>\n",
       "      <th>PUB_DATE</th>\n",
       "      <th>COUNTRY</th>\n",
       "      <th>PRIMARY_LANG</th>\n",
       "      <th>IPC</th>\n",
       "      <th>DWPI_TITLE</th>\n",
       "      <th>DWPI_NOVELTY</th>\n",
       "      <th>CLASS</th>\n",
       "    </tr>\n",
       "  </thead>\n",
       "  <tbody>\n",
       "    <tr>\n",
       "      <th>52</th>\n",
       "      <td>CN218439434U_</td>\n",
       "      <td>2023-02-03</td>\n",
       "      <td>CN</td>\n",
       "      <td>ZH</td>\n",
       "      <td>['E21F000500', 'B03C0003017']</td>\n",
       "      <td>Automatic cleaning screen for tunnel air purif...</td>\n",
       "      <td>The utility model claims an automatic cleaning...</td>\n",
       "      <td>[J01, X25]</td>\n",
       "    </tr>\n",
       "    <tr>\n",
       "      <th>240</th>\n",
       "      <td>FR3124913A1</td>\n",
       "      <td>2023-01-06</td>\n",
       "      <td>FR</td>\n",
       "      <td>FR</td>\n",
       "      <td>['H04L00410816', 'H04L001200', 'H04L004500', '...</td>\n",
       "      <td>Method for managing orchestration entity in so...</td>\n",
       "      <td>The method involves obtaining (E70) an indicat...</td>\n",
       "      <td>[T01, W01]</td>\n",
       "    </tr>\n",
       "    <tr>\n",
       "      <th>241</th>\n",
       "      <td>CN218227814U_</td>\n",
       "      <td>2023-01-06</td>\n",
       "      <td>CN</td>\n",
       "      <td>ZH</td>\n",
       "      <td>['B29C004956', 'B29C004942', 'B29C004964', 'B2...</td>\n",
       "      <td>nan</td>\n",
       "      <td>The machine has a pull plate device whose bott...</td>\n",
       "      <td>[A92, A32]</td>\n",
       "    </tr>\n",
       "    <tr>\n",
       "      <th>245</th>\n",
       "      <td>WO2023279108A1</td>\n",
       "      <td>2023-01-05</td>\n",
       "      <td>WO</td>\n",
       "      <td>EN</td>\n",
       "      <td>['C12N001586', 'A61K004800', 'C07K001447']</td>\n",
       "      <td>New nucleic acid molecule comprising an adeno-...</td>\n",
       "      <td>Nucleic acid molecule, comprising an adeno-ass...</td>\n",
       "      <td>[B04, D16]</td>\n",
       "    </tr>\n",
       "    <tr>\n",
       "      <th>247</th>\n",
       "      <td>CN115584655A_</td>\n",
       "      <td>2023-01-10</td>\n",
       "      <td>CN</td>\n",
       "      <td>ZH</td>\n",
       "      <td>['C05B000700', 'D21B000116', 'D21C000104', 'D2...</td>\n",
       "      <td>Utilizing wheat straw crushed by-product bio-f...</td>\n",
       "      <td>Utilizing wheat straw crushed by-product bio-f...</td>\n",
       "      <td>[F09, C04]</td>\n",
       "    </tr>\n",
       "  </tbody>\n",
       "</table>\n",
       "</div>"
      ],
      "text/plain": [
       "             PATENT   PUB_DATE COUNTRY PRIMARY_LANG  \\\n",
       "52    CN218439434U_ 2023-02-03      CN           ZH   \n",
       "240     FR3124913A1 2023-01-06      FR           FR   \n",
       "241   CN218227814U_ 2023-01-06      CN           ZH   \n",
       "245  WO2023279108A1 2023-01-05      WO           EN   \n",
       "247   CN115584655A_ 2023-01-10      CN           ZH   \n",
       "\n",
       "                                                   IPC  \\\n",
       "52                       ['E21F000500', 'B03C0003017']   \n",
       "240  ['H04L00410816', 'H04L001200', 'H04L004500', '...   \n",
       "241  ['B29C004956', 'B29C004942', 'B29C004964', 'B2...   \n",
       "245         ['C12N001586', 'A61K004800', 'C07K001447']   \n",
       "247  ['C05B000700', 'D21B000116', 'D21C000104', 'D2...   \n",
       "\n",
       "                                            DWPI_TITLE  \\\n",
       "52   Automatic cleaning screen for tunnel air purif...   \n",
       "240  Method for managing orchestration entity in so...   \n",
       "241                                                nan   \n",
       "245  New nucleic acid molecule comprising an adeno-...   \n",
       "247  Utilizing wheat straw crushed by-product bio-f...   \n",
       "\n",
       "                                          DWPI_NOVELTY       CLASS  \n",
       "52   The utility model claims an automatic cleaning...  [J01, X25]  \n",
       "240  The method involves obtaining (E70) an indicat...  [T01, W01]  \n",
       "241  The machine has a pull plate device whose bott...  [A92, A32]  \n",
       "245  Nucleic acid molecule, comprising an adeno-ass...  [B04, D16]  \n",
       "247  Utilizing wheat straw crushed by-product bio-f...  [F09, C04]  "
      ]
     },
     "execution_count": 271,
     "metadata": {},
     "output_type": "execute_result"
    }
   ],
   "source": [
    "# Just looking at some examples where Class has multiple values\n",
    "df_multi_class = df[df['CLASS'].apply(lambda x: len(x) > 1)]\n",
    "df_multi_class.head()"
   ]
  },
  {
   "cell_type": "code",
   "execution_count": 273,
   "metadata": {},
   "outputs": [],
   "source": [
    "# IPC is a list of codes but the list is parsed as string. Converting the string to an actual list\n",
    "df['IPC'] = df['IPC'].apply(eval)\n",
    "# Stripping the IPC codes to limit it to just the first 3 characters only\n",
    "def mask_IPC(x):\n",
    "    return list(set([ipc[:3] for ipc in x]))\n",
    "df.IPC = df.IPC.apply(mask_IPC)"
   ]
  },
  {
   "cell_type": "code",
   "execution_count": 278,
   "metadata": {},
   "outputs": [
    {
     "data": {
      "text/html": [
       "<div>\n",
       "<style scoped>\n",
       "    .dataframe tbody tr th:only-of-type {\n",
       "        vertical-align: middle;\n",
       "    }\n",
       "\n",
       "    .dataframe tbody tr th {\n",
       "        vertical-align: top;\n",
       "    }\n",
       "\n",
       "    .dataframe thead th {\n",
       "        text-align: right;\n",
       "    }\n",
       "</style>\n",
       "<table border=\"1\" class=\"dataframe\">\n",
       "  <thead>\n",
       "    <tr style=\"text-align: right;\">\n",
       "      <th></th>\n",
       "      <th>PATENT</th>\n",
       "      <th>PUB_DATE</th>\n",
       "      <th>COUNTRY</th>\n",
       "      <th>PRIMARY_LANG</th>\n",
       "      <th>IPC</th>\n",
       "      <th>DWPI_TITLE</th>\n",
       "      <th>DWPI_NOVELTY</th>\n",
       "      <th>CLASS</th>\n",
       "    </tr>\n",
       "  </thead>\n",
       "  <tbody>\n",
       "    <tr>\n",
       "      <th>0</th>\n",
       "      <td>CN218280954U_</td>\n",
       "      <td>2023-01-13</td>\n",
       "      <td>CN</td>\n",
       "      <td>ZH</td>\n",
       "      <td>[B01]</td>\n",
       "      <td>Surface anti-sticking dust-removing filter bag...</td>\n",
       "      <td>The utility model claims a surface anti-sticki...</td>\n",
       "      <td>[A88]</td>\n",
       "    </tr>\n",
       "    <tr>\n",
       "      <th>1</th>\n",
       "      <td>CN218188237U_</td>\n",
       "      <td>2023-01-03</td>\n",
       "      <td>CN</td>\n",
       "      <td>ZH</td>\n",
       "      <td>[B01]</td>\n",
       "      <td>Environment-friendly reusable cooling liquid f...</td>\n",
       "      <td>The utility model claims a new environment-fri...</td>\n",
       "      <td>[A88]</td>\n",
       "    </tr>\n",
       "    <tr>\n",
       "      <th>2</th>\n",
       "      <td>CN218442764U_</td>\n",
       "      <td>2023-02-03</td>\n",
       "      <td>CN</td>\n",
       "      <td>ZH</td>\n",
       "      <td>[F24, B08]</td>\n",
       "      <td>Organic silicon modified epoxy heat conducting...</td>\n",
       "      <td>The utility model claims an organic silicon mo...</td>\n",
       "      <td>[A88]</td>\n",
       "    </tr>\n",
       "    <tr>\n",
       "      <th>3</th>\n",
       "      <td>CN218428090U_</td>\n",
       "      <td>2023-02-03</td>\n",
       "      <td>CN</td>\n",
       "      <td>ZH</td>\n",
       "      <td>[B25]</td>\n",
       "      <td>Electronic screen dismounting device, has lowe...</td>\n",
       "      <td>The utility model relates to screen disassembl...</td>\n",
       "      <td>[A88]</td>\n",
       "    </tr>\n",
       "    <tr>\n",
       "      <th>4</th>\n",
       "      <td>CN218195410U_</td>\n",
       "      <td>2023-01-03</td>\n",
       "      <td>CN</td>\n",
       "      <td>ZH</td>\n",
       "      <td>[B26]</td>\n",
       "      <td>Inclined cutting paper cutting device, has cut...</td>\n",
       "      <td>The utility model claims an inclined cutting p...</td>\n",
       "      <td>[A88]</td>\n",
       "    </tr>\n",
       "  </tbody>\n",
       "</table>\n",
       "</div>"
      ],
      "text/plain": [
       "          PATENT   PUB_DATE COUNTRY PRIMARY_LANG         IPC  \\\n",
       "0  CN218280954U_ 2023-01-13      CN           ZH       [B01]   \n",
       "1  CN218188237U_ 2023-01-03      CN           ZH       [B01]   \n",
       "2  CN218442764U_ 2023-02-03      CN           ZH  [F24, B08]   \n",
       "3  CN218428090U_ 2023-02-03      CN           ZH       [B25]   \n",
       "4  CN218195410U_ 2023-01-03      CN           ZH       [B26]   \n",
       "\n",
       "                                          DWPI_TITLE  \\\n",
       "0  Surface anti-sticking dust-removing filter bag...   \n",
       "1  Environment-friendly reusable cooling liquid f...   \n",
       "2  Organic silicon modified epoxy heat conducting...   \n",
       "3  Electronic screen dismounting device, has lowe...   \n",
       "4  Inclined cutting paper cutting device, has cut...   \n",
       "\n",
       "                                        DWPI_NOVELTY  CLASS  \n",
       "0  The utility model claims a surface anti-sticki...  [A88]  \n",
       "1  The utility model claims a new environment-fri...  [A88]  \n",
       "2  The utility model claims an organic silicon mo...  [A88]  \n",
       "3  The utility model relates to screen disassembl...  [A88]  \n",
       "4  The utility model claims an inclined cutting p...  [A88]  "
      ]
     },
     "execution_count": 278,
     "metadata": {},
     "output_type": "execute_result"
    }
   ],
   "source": [
    "# We can drop, PATENT, PUB_DATE, PRIMARY_LANG and COUNTRY column. \n",
    "# We need correlations to come to that conclusion\n",
    "df.head()"
   ]
  },
  {
   "cell_type": "code",
   "execution_count": 281,
   "metadata": {},
   "outputs": [
    {
     "name": "stdout",
     "output_type": "stream",
     "text": [
      "Overall Correlation between IPC and CLASS: -0.0002680179388479074\n"
     ]
    }
   ],
   "source": [
    "# One-hot encoding IPC and CLASS columns\n",
    "ipc_encoded = df.explode('IPC')['IPC'].str.get_dummies().groupby(level=0).sum()\n",
    "class_encoded = df.explode('CLASS')['CLASS'].str.get_dummies().groupby(level=0).sum()\n",
    "\n",
    "# Calculate overall correlation\n",
    "overall_correlation = ipc_encoded.corrwith(class_encoded, axis=0).mean()\n",
    "print(\"Overall Correlation between IPC and CLASS:\", overall_correlation)"
   ]
  },
  {
   "cell_type": "code",
   "execution_count": null,
   "metadata": {},
   "outputs": [],
   "source": [
    "# Make different dataframes for each class starting alphabet and plot alphabet count for each country\n",
    "''' \n",
    "DWPI_TITLE and DWPI_NOVELTY columns can be combined into a single column and then embeddings can be generated for this combined column.\n",
    "PATENT column doesnt seem to have any meaning because it is unique for each row. It seems like a primary key which is not important for classification.\n",
    "Some patents have more than 1 Class/Alphabet associated with them such as [J01, X25]. \n",
    "The classifier at the top level needs to predict both J and X for this patent.\n",
    "Then, I will send this patent to be further classified into the sections of J and X by using different classifiers trained for J and X respectively.\n",
    "'''"
   ]
  }
 ],
 "metadata": {
  "kernelspec": {
   "display_name": "base",
   "language": "python",
   "name": "python3"
  },
  "language_info": {
   "codemirror_mode": {
    "name": "ipython",
    "version": 3
   },
   "file_extension": ".py",
   "mimetype": "text/x-python",
   "name": "python",
   "nbconvert_exporter": "python",
   "pygments_lexer": "ipython3",
   "version": "3.12.4"
  }
 },
 "nbformat": 4,
 "nbformat_minor": 2
}
