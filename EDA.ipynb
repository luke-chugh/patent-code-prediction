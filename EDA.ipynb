{
 "cells": [
  {
   "cell_type": "markdown",
   "metadata": {},
   "source": [
    "#### Importing the features required for prediction of patent class"
   ]
  },
  {
   "cell_type": "code",
   "execution_count": 171,
   "metadata": {},
   "outputs": [],
   "source": [
    "import pandas as pd\n",
    "features = pd.read_csv(\"./data/patent_class_features_after_2022_20230611.csv\")\n",
    "class_labels = pd.read_csv(\"./data/patent_class_after_2022_20230611.csv\")\n",
    "class_title_mapping = pd.read_csv(\"./data/class_title_mapping.csv\")"
   ]
  },
  {
   "cell_type": "code",
   "execution_count": 142,
   "metadata": {},
   "outputs": [
    {
     "data": {
      "text/html": [
       "<div>\n",
       "<style scoped>\n",
       "    .dataframe tbody tr th:only-of-type {\n",
       "        vertical-align: middle;\n",
       "    }\n",
       "\n",
       "    .dataframe tbody tr th {\n",
       "        vertical-align: top;\n",
       "    }\n",
       "\n",
       "    .dataframe thead th {\n",
       "        text-align: right;\n",
       "    }\n",
       "</style>\n",
       "<table border=\"1\" class=\"dataframe\">\n",
       "  <thead>\n",
       "    <tr style=\"text-align: right;\">\n",
       "      <th></th>\n",
       "      <th>PATENT</th>\n",
       "      <th>PUB_DATE</th>\n",
       "      <th>COUNTRY</th>\n",
       "      <th>PRIMARY_LANG</th>\n",
       "      <th>IPC</th>\n",
       "      <th>DWPI_TITLE</th>\n",
       "      <th>DWPI_DETAILED_DESCRIPTIONS</th>\n",
       "      <th>DWPI_NOVELTY</th>\n",
       "      <th>DWPI_USE</th>\n",
       "    </tr>\n",
       "  </thead>\n",
       "  <tbody>\n",
       "    <tr>\n",
       "      <th>0</th>\n",
       "      <td>CN218280954U_</td>\n",
       "      <td>2023-01-13</td>\n",
       "      <td>CN</td>\n",
       "      <td>ZH_ZH</td>\n",
       "      <td>['B01D004604', 'B01D004676', 'B01D004602', 'B0...</td>\n",
       "      <td>Surface anti-sticking dust-removing filter bag...</td>\n",
       "      <td>NaN</td>\n",
       "      <td>The utility model claims a surface anti-sticki...</td>\n",
       "      <td>NaN</td>\n",
       "    </tr>\n",
       "    <tr>\n",
       "      <th>1</th>\n",
       "      <td>CN218188237U_</td>\n",
       "      <td>2023-01-03</td>\n",
       "      <td>CN</td>\n",
       "      <td>ZH_ZH</td>\n",
       "      <td>['B01D002996', 'B01D002933']</td>\n",
       "      <td>Environment-friendly reusable cooling liquid f...</td>\n",
       "      <td>NaN</td>\n",
       "      <td>The utility model claims a new environment-fri...</td>\n",
       "      <td>NaN</td>\n",
       "    </tr>\n",
       "    <tr>\n",
       "      <th>2</th>\n",
       "      <td>CN218442764U_</td>\n",
       "      <td>2023-02-03</td>\n",
       "      <td>CN</td>\n",
       "      <td>ZH_ZH</td>\n",
       "      <td>['F24H000118', 'B08B000304', 'F24H000902', 'F2...</td>\n",
       "      <td>Organic silicon modified epoxy heat conducting...</td>\n",
       "      <td>NaN</td>\n",
       "      <td>The utility model claims an organic silicon mo...</td>\n",
       "      <td>NaN</td>\n",
       "    </tr>\n",
       "    <tr>\n",
       "      <th>3</th>\n",
       "      <td>CN218428090U_</td>\n",
       "      <td>2023-02-03</td>\n",
       "      <td>CN</td>\n",
       "      <td>ZH_ZH</td>\n",
       "      <td>['B25B002700']</td>\n",
       "      <td>Electronic screen dismounting device, has lowe...</td>\n",
       "      <td>An INDEPENDENT CLAIM is included for the elect...</td>\n",
       "      <td>The utility model relates to screen disassembl...</td>\n",
       "      <td>NaN</td>\n",
       "    </tr>\n",
       "    <tr>\n",
       "      <th>4</th>\n",
       "      <td>CN218195410U_</td>\n",
       "      <td>2023-01-03</td>\n",
       "      <td>CN</td>\n",
       "      <td>ZH_ZH</td>\n",
       "      <td>['B26D000702', 'B26D000510', 'B26D000108']</td>\n",
       "      <td>Inclined cutting paper cutting device, has cut...</td>\n",
       "      <td>NaN</td>\n",
       "      <td>The utility model claims an inclined cutting p...</td>\n",
       "      <td>NaN</td>\n",
       "    </tr>\n",
       "  </tbody>\n",
       "</table>\n",
       "</div>"
      ],
      "text/plain": [
       "          PATENT    PUB_DATE COUNTRY PRIMARY_LANG  \\\n",
       "0  CN218280954U_  2023-01-13      CN        ZH_ZH   \n",
       "1  CN218188237U_  2023-01-03      CN        ZH_ZH   \n",
       "2  CN218442764U_  2023-02-03      CN        ZH_ZH   \n",
       "3  CN218428090U_  2023-02-03      CN        ZH_ZH   \n",
       "4  CN218195410U_  2023-01-03      CN        ZH_ZH   \n",
       "\n",
       "                                                 IPC  \\\n",
       "0  ['B01D004604', 'B01D004676', 'B01D004602', 'B0...   \n",
       "1                       ['B01D002996', 'B01D002933']   \n",
       "2  ['F24H000118', 'B08B000304', 'F24H000902', 'F2...   \n",
       "3                                     ['B25B002700']   \n",
       "4         ['B26D000702', 'B26D000510', 'B26D000108']   \n",
       "\n",
       "                                          DWPI_TITLE  \\\n",
       "0  Surface anti-sticking dust-removing filter bag...   \n",
       "1  Environment-friendly reusable cooling liquid f...   \n",
       "2  Organic silicon modified epoxy heat conducting...   \n",
       "3  Electronic screen dismounting device, has lowe...   \n",
       "4  Inclined cutting paper cutting device, has cut...   \n",
       "\n",
       "                          DWPI_DETAILED_DESCRIPTIONS  \\\n",
       "0                                                NaN   \n",
       "1                                                NaN   \n",
       "2                                                NaN   \n",
       "3  An INDEPENDENT CLAIM is included for the elect...   \n",
       "4                                                NaN   \n",
       "\n",
       "                                        DWPI_NOVELTY DWPI_USE  \n",
       "0  The utility model claims a surface anti-sticki...      NaN  \n",
       "1  The utility model claims a new environment-fri...      NaN  \n",
       "2  The utility model claims an organic silicon mo...      NaN  \n",
       "3  The utility model relates to screen disassembl...      NaN  \n",
       "4  The utility model claims an inclined cutting p...      NaN  "
      ]
     },
     "execution_count": 142,
     "metadata": {},
     "output_type": "execute_result"
    }
   ],
   "source": [
    "features.head()"
   ]
  },
  {
   "cell_type": "code",
   "execution_count": 143,
   "metadata": {},
   "outputs": [
    {
     "data": {
      "text/html": [
       "<div>\n",
       "<style scoped>\n",
       "    .dataframe tbody tr th:only-of-type {\n",
       "        vertical-align: middle;\n",
       "    }\n",
       "\n",
       "    .dataframe tbody tr th {\n",
       "        vertical-align: top;\n",
       "    }\n",
       "\n",
       "    .dataframe thead th {\n",
       "        text-align: right;\n",
       "    }\n",
       "</style>\n",
       "<table border=\"1\" class=\"dataframe\">\n",
       "  <thead>\n",
       "    <tr style=\"text-align: right;\">\n",
       "      <th></th>\n",
       "      <th>PATENT</th>\n",
       "      <th>CLASS</th>\n",
       "    </tr>\n",
       "  </thead>\n",
       "  <tbody>\n",
       "    <tr>\n",
       "      <th>0</th>\n",
       "      <td>CN218280954U_</td>\n",
       "      <td>A88</td>\n",
       "    </tr>\n",
       "    <tr>\n",
       "      <th>1</th>\n",
       "      <td>CN218188237U_</td>\n",
       "      <td>A88</td>\n",
       "    </tr>\n",
       "    <tr>\n",
       "      <th>2</th>\n",
       "      <td>CN218442764U_</td>\n",
       "      <td>A88</td>\n",
       "    </tr>\n",
       "    <tr>\n",
       "      <th>3</th>\n",
       "      <td>CN218428090U_</td>\n",
       "      <td>A88</td>\n",
       "    </tr>\n",
       "    <tr>\n",
       "      <th>4</th>\n",
       "      <td>CN218195410U_</td>\n",
       "      <td>A88</td>\n",
       "    </tr>\n",
       "  </tbody>\n",
       "</table>\n",
       "</div>"
      ],
      "text/plain": [
       "          PATENT CLASS\n",
       "0  CN218280954U_   A88\n",
       "1  CN218188237U_   A88\n",
       "2  CN218442764U_   A88\n",
       "3  CN218428090U_   A88\n",
       "4  CN218195410U_   A88"
      ]
     },
     "execution_count": 143,
     "metadata": {},
     "output_type": "execute_result"
    }
   ],
   "source": [
    "class_labels.head()"
   ]
  },
  {
   "cell_type": "code",
   "execution_count": 172,
   "metadata": {},
   "outputs": [
    {
     "data": {
      "text/html": [
       "<div>\n",
       "<style scoped>\n",
       "    .dataframe tbody tr th:only-of-type {\n",
       "        vertical-align: middle;\n",
       "    }\n",
       "\n",
       "    .dataframe tbody tr th {\n",
       "        vertical-align: top;\n",
       "    }\n",
       "\n",
       "    .dataframe thead th {\n",
       "        text-align: right;\n",
       "    }\n",
       "</style>\n",
       "<table border=\"1\" class=\"dataframe\">\n",
       "  <thead>\n",
       "    <tr style=\"text-align: right;\">\n",
       "      <th></th>\n",
       "      <th>Class</th>\n",
       "      <th>Title</th>\n",
       "    </tr>\n",
       "  </thead>\n",
       "  <tbody>\n",
       "    <tr>\n",
       "      <th>0</th>\n",
       "      <td>A</td>\n",
       "      <td>Polymers &amp; Plastics</td>\n",
       "    </tr>\n",
       "    <tr>\n",
       "      <th>1</th>\n",
       "      <td>B</td>\n",
       "      <td>Pharmaceuticals</td>\n",
       "    </tr>\n",
       "    <tr>\n",
       "      <th>2</th>\n",
       "      <td>C</td>\n",
       "      <td>Agricultural Chemicals</td>\n",
       "    </tr>\n",
       "    <tr>\n",
       "      <th>3</th>\n",
       "      <td>D</td>\n",
       "      <td>Food, Fermentation, Disinfectants, Detergents</td>\n",
       "    </tr>\n",
       "    <tr>\n",
       "      <th>4</th>\n",
       "      <td>E</td>\n",
       "      <td>General Chemicals</td>\n",
       "    </tr>\n",
       "  </tbody>\n",
       "</table>\n",
       "</div>"
      ],
      "text/plain": [
       "  Class                                          Title\n",
       "0     A                            Polymers & Plastics\n",
       "1     B                                Pharmaceuticals\n",
       "2     C                         Agricultural Chemicals\n",
       "3     D  Food, Fermentation, Disinfectants, Detergents\n",
       "4     E                              General Chemicals"
      ]
     },
     "execution_count": 172,
     "metadata": {},
     "output_type": "execute_result"
    }
   ],
   "source": [
    "class_title_mapping.head()"
   ]
  },
  {
   "cell_type": "code",
   "execution_count": 144,
   "metadata": {},
   "outputs": [
    {
     "name": "stdout",
     "output_type": "stream",
     "text": [
      "A: ['A11', 'A12', 'A13', 'A14', 'A17', 'A18', 'A21', 'A23', 'A25', 'A26', 'A28', 'A31', 'A32', 'A35', 'A41', 'A60', 'A81', 'A82', 'A83', 'A84', 'A85', 'A86', 'A87', 'A88', 'A89', 'A91', 'A92', 'A93', 'A94', 'A95', 'A96', 'A97']\n",
      "B: ['B01', 'B02', 'B03', 'B04', 'B05', 'B06', 'B07']\n",
      "C: ['C01', 'C02', 'C03', 'C04', 'C05', 'C06', 'C07']\n",
      "D: ['D11', 'D12', 'D13', 'D14', 'D15', 'D16', 'D17', 'D18', 'D21', 'D22', 'D23', 'D24', 'D25']\n",
      "E: ['E11', 'E12', 'E13', 'E14', 'E15', 'E16', 'E17', 'E19', 'E21', 'E22', 'E23', 'E24', 'E31', 'E32', 'E33', 'E34', 'E35', 'E36', 'E37']\n",
      "F: ['F01', 'F02', 'F03', 'F04', 'F05', 'F06', 'F07', 'F08', 'F09']\n",
      "G: ['G01', 'G02', 'G03', 'G04', 'G05', 'G06', 'G07', 'G08']\n",
      "H: ['H01', 'H02', 'H03', 'H04', 'H05', 'H06', 'H07', 'H08', 'H09']\n",
      "J: ['J01', 'J02', 'J03', 'J04', 'J05', 'J06', 'J07', 'J08', 'J09']\n",
      "K: ['K01', 'K02', 'K03', 'K04', 'K05', 'K06', 'K07', 'K08']\n",
      "L: ['L01', 'L02', 'L03']\n",
      "M: ['M11', 'M12', 'M13', 'M14', 'M21', 'M22', 'M23', 'M24', 'M25', 'M26', 'M27', 'M28', 'M29']\n",
      "P: ['P11', 'P12', 'P13', 'P14', 'P15', 'P21', 'P22', 'P23', 'P24', 'P25', 'P26', 'P27', 'P28', 'P31', 'P32', 'P33', 'P34', 'P35', 'P36', 'P41', 'P42', 'P43', 'P51', 'P52', 'P53', 'P54', 'P55', 'P56', 'P61', 'P62', 'P63', 'P64', 'P71', 'P72', 'P73', 'P74', 'P75', 'P76', 'P77', 'P78', 'P81', 'P82', 'P83', 'P84', 'P85', 'P86']\n",
      "Q: ['Q11', 'Q12', 'Q13', 'Q14', 'Q15', 'Q16', 'Q17', 'Q18', 'Q19', 'Q21', 'Q22', 'Q24', 'Q25', 'Q31', 'Q32', 'Q33', 'Q34', 'Q35', 'Q36', 'Q38', 'Q41', 'Q42', 'Q43', 'Q44', 'Q45', 'Q46', 'Q47', 'Q48', 'Q49', 'Q51', 'Q52', 'Q53', 'Q54', 'Q55', 'Q56', 'Q57', 'Q61', 'Q62', 'Q63', 'Q64', 'Q65', 'Q66', 'Q67', 'Q68', 'Q69', 'Q71', 'Q72', 'Q73', 'Q74', 'Q75', 'Q76', 'Q77', 'Q78', 'Q79']\n",
      "S: ['S01', 'S02', 'S03', 'S04', 'S05', 'S06']\n",
      "T: ['T01', 'T02', 'T03', 'T04', 'T05', 'T06', 'T07']\n",
      "U: ['U11', 'U12', 'U13', 'U14', 'U21', 'U22', 'U23', 'U24', 'U25']\n",
      "V: ['V01', 'V02', 'V03', 'V04', 'V05', 'V06', 'V07', 'V08']\n",
      "W: ['W01', 'W02', 'W03', 'W04', 'W05', 'W06', 'W07']\n",
      "X: ['X11', 'X12', 'X13', 'X14', 'X15', 'X16', 'X21', 'X22', 'X23', 'X24', 'X25', 'X26', 'X27']\n"
     ]
    }
   ],
   "source": [
    "unique_class_codes = sorted(class_labels.CLASS.unique())\n",
    "# Create a dictionary with keys as first letters and values as lists of codes\n",
    "codes_dict = {}\n",
    "for code in unique_class_codes:\n",
    "    first_letter = code[0]\n",
    "    if first_letter not in codes_dict:\n",
    "        codes_dict[first_letter] = []\n",
    "    codes_dict[first_letter].append(code)\n",
    "\n",
    "# Display the lists for each letter\n",
    "for letter, codes in codes_dict.items():\n",
    "    print(f\"{letter}: {codes}\")"
   ]
  },
  {
   "cell_type": "markdown",
   "metadata": {},
   "source": [
    "There are only IPC classes and sections under those classes. There are no subclasses and groups mentioned in class codes"
   ]
  },
  {
   "cell_type": "code",
   "execution_count": 145,
   "metadata": {},
   "outputs": [
    {
     "name": "stdout",
     "output_type": "stream",
     "text": [
      "20\n"
     ]
    }
   ],
   "source": [
    "# How many IPC sections are there ?\n",
    "total_keys = len(codes_dict.keys())\n",
    "print(total_keys)"
   ]
  },
  {
   "cell_type": "markdown",
   "metadata": {},
   "source": [
    "This means I have to create 21 different classifiers. 1 for predicting the starting Alphabet/Class i.e., the root node of the tree. The top level\n",
    "\n",
    "And then 1 classifier for each Alphabet/Class (20). So, total 21 different classifiers"
   ]
  },
  {
   "cell_type": "code",
   "execution_count": 146,
   "metadata": {},
   "outputs": [
    {
     "name": "stdout",
     "output_type": "stream",
     "text": [
      "A: 32\n",
      "B: 7\n",
      "C: 7\n",
      "D: 13\n",
      "E: 19\n",
      "F: 9\n",
      "G: 8\n",
      "H: 9\n",
      "J: 9\n",
      "K: 8\n",
      "L: 3\n",
      "M: 13\n",
      "P: 46\n",
      "Q: 54\n",
      "S: 6\n",
      "T: 7\n",
      "U: 9\n",
      "V: 8\n",
      "W: 7\n",
      "X: 13\n"
     ]
    }
   ],
   "source": [
    "# How many unique classes are there in each IPC section ?\n",
    "for letter, codes in codes_dict.items():\n",
    "    print(f\"{letter}: {len(codes)}\")"
   ]
  },
  {
   "cell_type": "code",
   "execution_count": 147,
   "metadata": {},
   "outputs": [
    {
     "data": {
      "text/plain": [
       "(344328, 9)"
      ]
     },
     "execution_count": 147,
     "metadata": {},
     "output_type": "execute_result"
    }
   ],
   "source": [
    "features.shape"
   ]
  },
  {
   "cell_type": "code",
   "execution_count": 148,
   "metadata": {},
   "outputs": [
    {
     "data": {
      "text/plain": [
       "dtype('O')"
      ]
     },
     "execution_count": 148,
     "metadata": {},
     "output_type": "execute_result"
    }
   ],
   "source": [
    "features.columns.dtype"
   ]
  },
  {
   "cell_type": "code",
   "execution_count": 149,
   "metadata": {},
   "outputs": [
    {
     "data": {
      "text/plain": [
       "(461258, 2)"
      ]
     },
     "execution_count": 149,
     "metadata": {},
     "output_type": "execute_result"
    }
   ],
   "source": [
    "class_labels.shape"
   ]
  },
  {
   "cell_type": "code",
   "execution_count": 150,
   "metadata": {},
   "outputs": [
    {
     "data": {
      "text/html": [
       "<div>\n",
       "<style scoped>\n",
       "    .dataframe tbody tr th:only-of-type {\n",
       "        vertical-align: middle;\n",
       "    }\n",
       "\n",
       "    .dataframe tbody tr th {\n",
       "        vertical-align: top;\n",
       "    }\n",
       "\n",
       "    .dataframe thead th {\n",
       "        text-align: right;\n",
       "    }\n",
       "</style>\n",
       "<table border=\"1\" class=\"dataframe\">\n",
       "  <thead>\n",
       "    <tr style=\"text-align: right;\">\n",
       "      <th></th>\n",
       "      <th>PATENT</th>\n",
       "      <th>PUB_DATE</th>\n",
       "      <th>COUNTRY</th>\n",
       "      <th>PRIMARY_LANG</th>\n",
       "      <th>IPC</th>\n",
       "      <th>DWPI_TITLE</th>\n",
       "      <th>DWPI_DETAILED_DESCRIPTIONS</th>\n",
       "      <th>DWPI_NOVELTY</th>\n",
       "      <th>DWPI_USE</th>\n",
       "    </tr>\n",
       "  </thead>\n",
       "  <tbody>\n",
       "    <tr>\n",
       "      <th>0</th>\n",
       "      <td>CN218280954U_</td>\n",
       "      <td>2023-01-13</td>\n",
       "      <td>CN</td>\n",
       "      <td>ZH_ZH</td>\n",
       "      <td>['B01D004604', 'B01D004676', 'B01D004602', 'B0...</td>\n",
       "      <td>Surface anti-sticking dust-removing filter bag...</td>\n",
       "      <td>NaN</td>\n",
       "      <td>The utility model claims a surface anti-sticki...</td>\n",
       "      <td>NaN</td>\n",
       "    </tr>\n",
       "    <tr>\n",
       "      <th>1</th>\n",
       "      <td>CN218188237U_</td>\n",
       "      <td>2023-01-03</td>\n",
       "      <td>CN</td>\n",
       "      <td>ZH_ZH</td>\n",
       "      <td>['B01D002996', 'B01D002933']</td>\n",
       "      <td>Environment-friendly reusable cooling liquid f...</td>\n",
       "      <td>NaN</td>\n",
       "      <td>The utility model claims a new environment-fri...</td>\n",
       "      <td>NaN</td>\n",
       "    </tr>\n",
       "    <tr>\n",
       "      <th>2</th>\n",
       "      <td>CN218442764U_</td>\n",
       "      <td>2023-02-03</td>\n",
       "      <td>CN</td>\n",
       "      <td>ZH_ZH</td>\n",
       "      <td>['F24H000118', 'B08B000304', 'F24H000902', 'F2...</td>\n",
       "      <td>Organic silicon modified epoxy heat conducting...</td>\n",
       "      <td>NaN</td>\n",
       "      <td>The utility model claims an organic silicon mo...</td>\n",
       "      <td>NaN</td>\n",
       "    </tr>\n",
       "    <tr>\n",
       "      <th>3</th>\n",
       "      <td>CN218428090U_</td>\n",
       "      <td>2023-02-03</td>\n",
       "      <td>CN</td>\n",
       "      <td>ZH_ZH</td>\n",
       "      <td>['B25B002700']</td>\n",
       "      <td>Electronic screen dismounting device, has lowe...</td>\n",
       "      <td>An INDEPENDENT CLAIM is included for the elect...</td>\n",
       "      <td>The utility model relates to screen disassembl...</td>\n",
       "      <td>NaN</td>\n",
       "    </tr>\n",
       "    <tr>\n",
       "      <th>4</th>\n",
       "      <td>CN218195410U_</td>\n",
       "      <td>2023-01-03</td>\n",
       "      <td>CN</td>\n",
       "      <td>ZH_ZH</td>\n",
       "      <td>['B26D000702', 'B26D000510', 'B26D000108']</td>\n",
       "      <td>Inclined cutting paper cutting device, has cut...</td>\n",
       "      <td>NaN</td>\n",
       "      <td>The utility model claims an inclined cutting p...</td>\n",
       "      <td>NaN</td>\n",
       "    </tr>\n",
       "  </tbody>\n",
       "</table>\n",
       "</div>"
      ],
      "text/plain": [
       "          PATENT    PUB_DATE COUNTRY PRIMARY_LANG  \\\n",
       "0  CN218280954U_  2023-01-13      CN        ZH_ZH   \n",
       "1  CN218188237U_  2023-01-03      CN        ZH_ZH   \n",
       "2  CN218442764U_  2023-02-03      CN        ZH_ZH   \n",
       "3  CN218428090U_  2023-02-03      CN        ZH_ZH   \n",
       "4  CN218195410U_  2023-01-03      CN        ZH_ZH   \n",
       "\n",
       "                                                 IPC  \\\n",
       "0  ['B01D004604', 'B01D004676', 'B01D004602', 'B0...   \n",
       "1                       ['B01D002996', 'B01D002933']   \n",
       "2  ['F24H000118', 'B08B000304', 'F24H000902', 'F2...   \n",
       "3                                     ['B25B002700']   \n",
       "4         ['B26D000702', 'B26D000510', 'B26D000108']   \n",
       "\n",
       "                                          DWPI_TITLE  \\\n",
       "0  Surface anti-sticking dust-removing filter bag...   \n",
       "1  Environment-friendly reusable cooling liquid f...   \n",
       "2  Organic silicon modified epoxy heat conducting...   \n",
       "3  Electronic screen dismounting device, has lowe...   \n",
       "4  Inclined cutting paper cutting device, has cut...   \n",
       "\n",
       "                          DWPI_DETAILED_DESCRIPTIONS  \\\n",
       "0                                                NaN   \n",
       "1                                                NaN   \n",
       "2                                                NaN   \n",
       "3  An INDEPENDENT CLAIM is included for the elect...   \n",
       "4                                                NaN   \n",
       "\n",
       "                                        DWPI_NOVELTY DWPI_USE  \n",
       "0  The utility model claims a surface anti-sticki...      NaN  \n",
       "1  The utility model claims a new environment-fri...      NaN  \n",
       "2  The utility model claims an organic silicon mo...      NaN  \n",
       "3  The utility model relates to screen disassembl...      NaN  \n",
       "4  The utility model claims an inclined cutting p...      NaN  "
      ]
     },
     "execution_count": 150,
     "metadata": {},
     "output_type": "execute_result"
    }
   ],
   "source": [
    "features.head()"
   ]
  },
  {
   "cell_type": "code",
   "execution_count": 151,
   "metadata": {},
   "outputs": [
    {
     "name": "stdout",
     "output_type": "stream",
     "text": [
      "Date range: 2023-01-01 to 2023-02-28\n"
     ]
    }
   ],
   "source": [
    "# PATENT, DWPI_TITLE and DWPI_NOVELTY are object data type, have to convert them to string\n",
    "features['PATENT'] = features['PATENT'].astype(str).str.strip()\n",
    "class_labels['PATENT'] = class_labels['PATENT'].astype(str).str.strip()\n",
    "features['DWPI_TITLE'] = features['DWPI_TITLE'].astype(str).str.strip()\n",
    "features['DWPI_NOVELTY'] = features['DWPI_NOVELTY'].astype(str).str.strip()\n",
    "\n",
    "# Only first 2 characters of PRIMARY_LANG before delimeter \"_\" is required\n",
    "def get_left_part(s):\n",
    "    return s.split('_')[0]\n",
    "features.PRIMARY_LANG = features.PRIMARY_LANG.apply(get_left_part)\n",
    "\n",
    "# PUB_DATE column has to be parsed as pandas datetime object\n",
    "features['PUB_DATE'] = pd.to_datetime(features['PUB_DATE'], format='%Y-%m-%d')\n",
    "# Calculate the date range\n",
    "start_date = features['PUB_DATE'].min()\n",
    "end_date = features['PUB_DATE'].max()\n",
    "# Print the date range\n",
    "print(f\"Date range: {start_date.date()} to {end_date.date()}\")"
   ]
  },
  {
   "cell_type": "code",
   "execution_count": 152,
   "metadata": {},
   "outputs": [
    {
     "data": {
      "text/plain": [
       "PATENT                        344328\n",
       "PUB_DATE                          59\n",
       "COUNTRY                           40\n",
       "PRIMARY_LANG                      23\n",
       "IPC                           264953\n",
       "DWPI_TITLE                    343353\n",
       "DWPI_DETAILED_DESCRIPTIONS     85860\n",
       "DWPI_NOVELTY                  343944\n",
       "DWPI_USE                      147691\n",
       "dtype: int64"
      ]
     },
     "execution_count": 152,
     "metadata": {},
     "output_type": "execute_result"
    }
   ],
   "source": [
    "features.nunique()"
   ]
  },
  {
   "cell_type": "code",
   "execution_count": 153,
   "metadata": {},
   "outputs": [
    {
     "name": "stdout",
     "output_type": "stream",
     "text": [
      "PATENT                             0\n",
      "PUB_DATE                           0\n",
      "COUNTRY                            0\n",
      "PRIMARY_LANG                       0\n",
      "IPC                               15\n",
      "DWPI_TITLE                         0\n",
      "DWPI_DETAILED_DESCRIPTIONS    251364\n",
      "DWPI_NOVELTY                       0\n",
      "DWPI_USE                      193017\n",
      "dtype: int64\n"
     ]
    }
   ],
   "source": [
    "missing_values_count = features.isna().sum()\n",
    "print(missing_values_count)"
   ]
  },
  {
   "cell_type": "code",
   "execution_count": 154,
   "metadata": {},
   "outputs": [
    {
     "name": "stdout",
     "output_type": "stream",
     "text": [
      "PATENT                         0.0000\n",
      "PUB_DATE                       0.0000\n",
      "COUNTRY                        0.0000\n",
      "PRIMARY_LANG                   0.0000\n",
      "IPC                            0.0044\n",
      "DWPI_TITLE                     0.0000\n",
      "DWPI_DETAILED_DESCRIPTIONS    73.0013\n",
      "DWPI_NOVELTY                   0.0000\n",
      "DWPI_USE                      56.0561\n",
      "dtype: float64\n"
     ]
    }
   ],
   "source": [
    "# representing missing values as percentages (proportion)\n",
    "# note IPC column still has 15 missing values\n",
    "missing_values_count = round((features.isna().sum()/features.shape[0])*100,4)\n",
    "print(missing_values_count)"
   ]
  },
  {
   "cell_type": "code",
   "execution_count": 155,
   "metadata": {},
   "outputs": [
    {
     "name": "stdout",
     "output_type": "stream",
     "text": [
      "Column 'PATENT' has 0.0% duplicate values.\n",
      "Column 'PUB_DATE' has 99.98% duplicate values.\n",
      "Column 'COUNTRY' has 99.99% duplicate values.\n",
      "Column 'PRIMARY_LANG' has 99.99% duplicate values.\n",
      "Column 'IPC' has 23.05% duplicate values.\n",
      "Column 'DWPI_TITLE' has 0.28% duplicate values.\n",
      "Column 'DWPI_DETAILED_DESCRIPTIONS' has 75.06% duplicate values.\n",
      "Column 'DWPI_NOVELTY' has 0.11% duplicate values.\n",
      "Column 'DWPI_USE' has 57.11% duplicate values.\n"
     ]
    }
   ],
   "source": [
    "# Count duplicates for each column\n",
    "duplicate_counts = {col: features[col].duplicated().sum() for col in features.columns}\n",
    "\n",
    "# Display results in terms of %\n",
    "for col, count in duplicate_counts.items():\n",
    "    print(f\"Column '{col}' has {round(count/features.shape[0]*100,2)}% duplicate values.\")"
   ]
  },
  {
   "cell_type": "markdown",
   "metadata": {},
   "source": [
    "**It means PATENT, IPC, DWPI_TITLE, DWPI_NOVELTY are significanlty important to differentiate between patents and maybe for even classification purposes.**\n",
    "\n",
    "**Whereas DWPI_DETAILED_DESCRIPTIONS and DWPI_USE with a lot of duplicate and missing values seem insignificant. Dropping them makes sense.**\n",
    "\n",
    "**Columns \"PUB_DATE\", \"COUNTRY\" and \"PRIMARY_LANG\" also seem insignificant for differentiating between patents and their respective classes.**\n",
    "\n",
    "I have to calculate the word embeddings for DWPI_TITLE and DWPI_NOVELTY columns. One clever way can be to combine the text in both columns to make it a single column and then calculate the word embeddings. The way we calculate embeddings for a sentence is once we have embedding for each word in the sentence, we simply add the embeddings for every single word to get embeddings for the sentence. This will be the most important feature to predict classes"
   ]
  },
  {
   "cell_type": "code",
   "execution_count": 156,
   "metadata": {},
   "outputs": [],
   "source": [
    "# Dropping insignificant columns\n",
    "features = features.drop(columns=['DWPI_DETAILED_DESCRIPTIONS', 'DWPI_USE'])"
   ]
  },
  {
   "cell_type": "code",
   "execution_count": 157,
   "metadata": {},
   "outputs": [
    {
     "data": {
      "text/plain": [
       "PATENT    344328\n",
       "CLASS        287\n",
       "dtype: int64"
      ]
     },
     "execution_count": 157,
     "metadata": {},
     "output_type": "execute_result"
    }
   ],
   "source": [
    "class_labels.nunique()"
   ]
  },
  {
   "cell_type": "markdown",
   "metadata": {},
   "source": [
    "#### There are 287 unique classes for 344328 unique patents. But the class_labels DataFrame has 344328 unique patents with 461258 rows which means that some patents belong to multiple classes"
   ]
  },
  {
   "cell_type": "code",
   "execution_count": 158,
   "metadata": {},
   "outputs": [
    {
     "data": {
      "text/html": [
       "<div>\n",
       "<style scoped>\n",
       "    .dataframe tbody tr th:only-of-type {\n",
       "        vertical-align: middle;\n",
       "    }\n",
       "\n",
       "    .dataframe tbody tr th {\n",
       "        vertical-align: top;\n",
       "    }\n",
       "\n",
       "    .dataframe thead th {\n",
       "        text-align: right;\n",
       "    }\n",
       "</style>\n",
       "<table border=\"1\" class=\"dataframe\">\n",
       "  <thead>\n",
       "    <tr style=\"text-align: right;\">\n",
       "      <th></th>\n",
       "      <th>PATENT</th>\n",
       "      <th>CLASS</th>\n",
       "    </tr>\n",
       "  </thead>\n",
       "  <tbody>\n",
       "    <tr>\n",
       "      <th>0</th>\n",
       "      <td>AR123668A1</td>\n",
       "      <td>[Q31]</td>\n",
       "    </tr>\n",
       "    <tr>\n",
       "      <th>1</th>\n",
       "      <td>AR123669A1</td>\n",
       "      <td>[T01, P14]</td>\n",
       "    </tr>\n",
       "    <tr>\n",
       "      <th>2</th>\n",
       "      <td>AR123694A1</td>\n",
       "      <td>[Q49]</td>\n",
       "    </tr>\n",
       "    <tr>\n",
       "      <th>3</th>\n",
       "      <td>AR123695A1</td>\n",
       "      <td>[S03, J04]</td>\n",
       "    </tr>\n",
       "    <tr>\n",
       "      <th>4</th>\n",
       "      <td>AR123703A1</td>\n",
       "      <td>[A93]</td>\n",
       "    </tr>\n",
       "    <tr>\n",
       "      <th>...</th>\n",
       "      <td>...</td>\n",
       "      <td>...</td>\n",
       "    </tr>\n",
       "    <tr>\n",
       "      <th>344323</th>\n",
       "      <td>ZA202213920B_</td>\n",
       "      <td>[P14]</td>\n",
       "    </tr>\n",
       "    <tr>\n",
       "      <th>344324</th>\n",
       "      <td>ZA202300109B_</td>\n",
       "      <td>[Q43]</td>\n",
       "    </tr>\n",
       "    <tr>\n",
       "      <th>344325</th>\n",
       "      <td>ZA202300118B_</td>\n",
       "      <td>[S05, T01]</td>\n",
       "    </tr>\n",
       "    <tr>\n",
       "      <th>344326</th>\n",
       "      <td>ZA202300175B_</td>\n",
       "      <td>[A96, D22, F07, P32]</td>\n",
       "    </tr>\n",
       "    <tr>\n",
       "      <th>344327</th>\n",
       "      <td>ZA202300287B_</td>\n",
       "      <td>[X25]</td>\n",
       "    </tr>\n",
       "  </tbody>\n",
       "</table>\n",
       "<p>344328 rows × 2 columns</p>\n",
       "</div>"
      ],
      "text/plain": [
       "               PATENT                 CLASS\n",
       "0          AR123668A1                 [Q31]\n",
       "1          AR123669A1            [T01, P14]\n",
       "2          AR123694A1                 [Q49]\n",
       "3          AR123695A1            [S03, J04]\n",
       "4          AR123703A1                 [A93]\n",
       "...               ...                   ...\n",
       "344323  ZA202213920B_                 [P14]\n",
       "344324  ZA202300109B_                 [Q43]\n",
       "344325  ZA202300118B_            [S05, T01]\n",
       "344326  ZA202300175B_  [A96, D22, F07, P32]\n",
       "344327  ZA202300287B_                 [X25]\n",
       "\n",
       "[344328 rows x 2 columns]"
      ]
     },
     "execution_count": 158,
     "metadata": {},
     "output_type": "execute_result"
    }
   ],
   "source": [
    "class_labels = class_labels.groupby('PATENT')['CLASS'].apply(list).reset_index()\n",
    "class_labels"
   ]
  },
  {
   "cell_type": "code",
   "execution_count": 159,
   "metadata": {},
   "outputs": [
    {
     "data": {
      "text/plain": [
       "(344328, 2)"
      ]
     },
     "execution_count": 159,
     "metadata": {},
     "output_type": "execute_result"
    }
   ],
   "source": [
    "class_labels.shape"
   ]
  },
  {
   "cell_type": "code",
   "execution_count": 160,
   "metadata": {},
   "outputs": [
    {
     "name": "stdout",
     "output_type": "stream",
     "text": [
      "Patents in features but not in class_labels: 0\n",
      "Patents in class_labels but not in features: 0\n"
     ]
    }
   ],
   "source": [
    "unmatched_in_features = features[~features['PATENT'].isin(class_labels['PATENT'])]\n",
    "unmatched_in_class_labels = class_labels[~class_labels['PATENT'].isin(features['PATENT'])]\n",
    "\n",
    "print(\"Patents in features but not in class_labels:\", len(unmatched_in_features))\n",
    "print(\"Patents in class_labels but not in features:\", len(unmatched_in_class_labels))"
   ]
  },
  {
   "cell_type": "code",
   "execution_count": 161,
   "metadata": {},
   "outputs": [
    {
     "data": {
      "text/plain": [
       "(344328, 8)"
      ]
     },
     "execution_count": 161,
     "metadata": {},
     "output_type": "execute_result"
    }
   ],
   "source": [
    "#### There are 344328 unique patents in both the data frames with exact match so doing a inner join\n",
    "df = features.merge(class_labels, on='PATENT', how='inner')\n",
    "df.shape"
   ]
  },
  {
   "cell_type": "code",
   "execution_count": 162,
   "metadata": {},
   "outputs": [
    {
     "name": "stdout",
     "output_type": "stream",
     "text": [
      "PATENT           0\n",
      "PUB_DATE         0\n",
      "COUNTRY          0\n",
      "PRIMARY_LANG     0\n",
      "IPC             15\n",
      "DWPI_TITLE       0\n",
      "DWPI_NOVELTY     0\n",
      "CLASS            0\n",
      "dtype: int64\n"
     ]
    }
   ],
   "source": [
    "# Which columns have missing values after the join ?\n",
    "missing_values_count = df.isna().sum()\n",
    "print(missing_values_count)"
   ]
  },
  {
   "cell_type": "code",
   "execution_count": 163,
   "metadata": {},
   "outputs": [
    {
     "name": "stdout",
     "output_type": "stream",
     "text": [
      "PATENT          0\n",
      "PUB_DATE        0\n",
      "COUNTRY         0\n",
      "PRIMARY_LANG    0\n",
      "IPC             0\n",
      "DWPI_TITLE      0\n",
      "DWPI_NOVELTY    0\n",
      "CLASS           0\n",
      "dtype: int64\n"
     ]
    }
   ],
   "source": [
    "# Dropping rows where IPC values are missing. It wouldn't hurt because these 15 rows account for only 0.0044% of entire dataset.\n",
    "df = df.dropna(subset=['IPC'])\n",
    "missing_values_count = df.isna().sum()\n",
    "print(missing_values_count)\n",
    "# Finally, no missing values. The dataset is still big enough for models to be trained upon. "
   ]
  },
  {
   "cell_type": "code",
   "execution_count": 164,
   "metadata": {},
   "outputs": [
    {
     "data": {
      "text/html": [
       "<div>\n",
       "<style scoped>\n",
       "    .dataframe tbody tr th:only-of-type {\n",
       "        vertical-align: middle;\n",
       "    }\n",
       "\n",
       "    .dataframe tbody tr th {\n",
       "        vertical-align: top;\n",
       "    }\n",
       "\n",
       "    .dataframe thead th {\n",
       "        text-align: right;\n",
       "    }\n",
       "</style>\n",
       "<table border=\"1\" class=\"dataframe\">\n",
       "  <thead>\n",
       "    <tr style=\"text-align: right;\">\n",
       "      <th></th>\n",
       "      <th>PATENT</th>\n",
       "      <th>PUB_DATE</th>\n",
       "      <th>COUNTRY</th>\n",
       "      <th>PRIMARY_LANG</th>\n",
       "      <th>IPC</th>\n",
       "      <th>DWPI_TITLE</th>\n",
       "      <th>DWPI_NOVELTY</th>\n",
       "      <th>CLASS</th>\n",
       "    </tr>\n",
       "  </thead>\n",
       "  <tbody>\n",
       "    <tr>\n",
       "      <th>52</th>\n",
       "      <td>CN218439434U_</td>\n",
       "      <td>2023-02-03</td>\n",
       "      <td>CN</td>\n",
       "      <td>ZH</td>\n",
       "      <td>['E21F000500', 'B03C0003017']</td>\n",
       "      <td>Automatic cleaning screen for tunnel air purif...</td>\n",
       "      <td>The utility model claims an automatic cleaning...</td>\n",
       "      <td>[J01, X25]</td>\n",
       "    </tr>\n",
       "    <tr>\n",
       "      <th>240</th>\n",
       "      <td>FR3124913A1</td>\n",
       "      <td>2023-01-06</td>\n",
       "      <td>FR</td>\n",
       "      <td>FR</td>\n",
       "      <td>['H04L00410816', 'H04L001200', 'H04L004500', '...</td>\n",
       "      <td>Method for managing orchestration entity in so...</td>\n",
       "      <td>The method involves obtaining (E70) an indicat...</td>\n",
       "      <td>[T01, W01]</td>\n",
       "    </tr>\n",
       "    <tr>\n",
       "      <th>241</th>\n",
       "      <td>CN218227814U_</td>\n",
       "      <td>2023-01-06</td>\n",
       "      <td>CN</td>\n",
       "      <td>ZH</td>\n",
       "      <td>['B29C004956', 'B29C004942', 'B29C004964', 'B2...</td>\n",
       "      <td>nan</td>\n",
       "      <td>The machine has a pull plate device whose bott...</td>\n",
       "      <td>[A92, A32]</td>\n",
       "    </tr>\n",
       "    <tr>\n",
       "      <th>245</th>\n",
       "      <td>WO2023279108A1</td>\n",
       "      <td>2023-01-05</td>\n",
       "      <td>WO</td>\n",
       "      <td>EN</td>\n",
       "      <td>['C12N001586', 'A61K004800', 'C07K001447']</td>\n",
       "      <td>New nucleic acid molecule comprising an adeno-...</td>\n",
       "      <td>Nucleic acid molecule, comprising an adeno-ass...</td>\n",
       "      <td>[B04, D16]</td>\n",
       "    </tr>\n",
       "    <tr>\n",
       "      <th>247</th>\n",
       "      <td>CN115584655A_</td>\n",
       "      <td>2023-01-10</td>\n",
       "      <td>CN</td>\n",
       "      <td>ZH</td>\n",
       "      <td>['C05B000700', 'D21B000116', 'D21C000104', 'D2...</td>\n",
       "      <td>Utilizing wheat straw crushed by-product bio-f...</td>\n",
       "      <td>Utilizing wheat straw crushed by-product bio-f...</td>\n",
       "      <td>[F09, C04]</td>\n",
       "    </tr>\n",
       "  </tbody>\n",
       "</table>\n",
       "</div>"
      ],
      "text/plain": [
       "             PATENT   PUB_DATE COUNTRY PRIMARY_LANG  \\\n",
       "52    CN218439434U_ 2023-02-03      CN           ZH   \n",
       "240     FR3124913A1 2023-01-06      FR           FR   \n",
       "241   CN218227814U_ 2023-01-06      CN           ZH   \n",
       "245  WO2023279108A1 2023-01-05      WO           EN   \n",
       "247   CN115584655A_ 2023-01-10      CN           ZH   \n",
       "\n",
       "                                                   IPC  \\\n",
       "52                       ['E21F000500', 'B03C0003017']   \n",
       "240  ['H04L00410816', 'H04L001200', 'H04L004500', '...   \n",
       "241  ['B29C004956', 'B29C004942', 'B29C004964', 'B2...   \n",
       "245         ['C12N001586', 'A61K004800', 'C07K001447']   \n",
       "247  ['C05B000700', 'D21B000116', 'D21C000104', 'D2...   \n",
       "\n",
       "                                            DWPI_TITLE  \\\n",
       "52   Automatic cleaning screen for tunnel air purif...   \n",
       "240  Method for managing orchestration entity in so...   \n",
       "241                                                nan   \n",
       "245  New nucleic acid molecule comprising an adeno-...   \n",
       "247  Utilizing wheat straw crushed by-product bio-f...   \n",
       "\n",
       "                                          DWPI_NOVELTY       CLASS  \n",
       "52   The utility model claims an automatic cleaning...  [J01, X25]  \n",
       "240  The method involves obtaining (E70) an indicat...  [T01, W01]  \n",
       "241  The machine has a pull plate device whose bott...  [A92, A32]  \n",
       "245  Nucleic acid molecule, comprising an adeno-ass...  [B04, D16]  \n",
       "247  Utilizing wheat straw crushed by-product bio-f...  [F09, C04]  "
      ]
     },
     "execution_count": 164,
     "metadata": {},
     "output_type": "execute_result"
    }
   ],
   "source": [
    "# Just looking at some examples where Class has multiple values\n",
    "df_multi_class = df[df['CLASS'].apply(lambda x: len(x) > 1)]\n",
    "df_multi_class.head()"
   ]
  },
  {
   "cell_type": "code",
   "execution_count": 165,
   "metadata": {},
   "outputs": [],
   "source": [
    "# IPC is a list of codes but the list is parsed as string. Converting the string to an actual list\n",
    "df['IPC'] = df['IPC'].apply(eval)\n",
    "# Stripping the IPC codes to limit it to just the first 3 characters only\n",
    "def mask_IPC(x):\n",
    "    return list(set([ipc[:3] for ipc in x]))\n",
    "df.IPC = df.IPC.apply(mask_IPC)"
   ]
  },
  {
   "cell_type": "code",
   "execution_count": 166,
   "metadata": {},
   "outputs": [
    {
     "data": {
      "text/html": [
       "<div>\n",
       "<style scoped>\n",
       "    .dataframe tbody tr th:only-of-type {\n",
       "        vertical-align: middle;\n",
       "    }\n",
       "\n",
       "    .dataframe tbody tr th {\n",
       "        vertical-align: top;\n",
       "    }\n",
       "\n",
       "    .dataframe thead th {\n",
       "        text-align: right;\n",
       "    }\n",
       "</style>\n",
       "<table border=\"1\" class=\"dataframe\">\n",
       "  <thead>\n",
       "    <tr style=\"text-align: right;\">\n",
       "      <th></th>\n",
       "      <th>PATENT</th>\n",
       "      <th>PUB_DATE</th>\n",
       "      <th>COUNTRY</th>\n",
       "      <th>PRIMARY_LANG</th>\n",
       "      <th>IPC</th>\n",
       "      <th>DWPI_TITLE</th>\n",
       "      <th>DWPI_NOVELTY</th>\n",
       "      <th>CLASS</th>\n",
       "    </tr>\n",
       "  </thead>\n",
       "  <tbody>\n",
       "    <tr>\n",
       "      <th>0</th>\n",
       "      <td>CN218280954U_</td>\n",
       "      <td>2023-01-13</td>\n",
       "      <td>CN</td>\n",
       "      <td>ZH</td>\n",
       "      <td>[B01]</td>\n",
       "      <td>Surface anti-sticking dust-removing filter bag...</td>\n",
       "      <td>The utility model claims a surface anti-sticki...</td>\n",
       "      <td>[A88]</td>\n",
       "    </tr>\n",
       "    <tr>\n",
       "      <th>1</th>\n",
       "      <td>CN218188237U_</td>\n",
       "      <td>2023-01-03</td>\n",
       "      <td>CN</td>\n",
       "      <td>ZH</td>\n",
       "      <td>[B01]</td>\n",
       "      <td>Environment-friendly reusable cooling liquid f...</td>\n",
       "      <td>The utility model claims a new environment-fri...</td>\n",
       "      <td>[A88]</td>\n",
       "    </tr>\n",
       "    <tr>\n",
       "      <th>2</th>\n",
       "      <td>CN218442764U_</td>\n",
       "      <td>2023-02-03</td>\n",
       "      <td>CN</td>\n",
       "      <td>ZH</td>\n",
       "      <td>[F24, B08]</td>\n",
       "      <td>Organic silicon modified epoxy heat conducting...</td>\n",
       "      <td>The utility model claims an organic silicon mo...</td>\n",
       "      <td>[A88]</td>\n",
       "    </tr>\n",
       "    <tr>\n",
       "      <th>3</th>\n",
       "      <td>CN218428090U_</td>\n",
       "      <td>2023-02-03</td>\n",
       "      <td>CN</td>\n",
       "      <td>ZH</td>\n",
       "      <td>[B25]</td>\n",
       "      <td>Electronic screen dismounting device, has lowe...</td>\n",
       "      <td>The utility model relates to screen disassembl...</td>\n",
       "      <td>[A88]</td>\n",
       "    </tr>\n",
       "    <tr>\n",
       "      <th>4</th>\n",
       "      <td>CN218195410U_</td>\n",
       "      <td>2023-01-03</td>\n",
       "      <td>CN</td>\n",
       "      <td>ZH</td>\n",
       "      <td>[B26]</td>\n",
       "      <td>Inclined cutting paper cutting device, has cut...</td>\n",
       "      <td>The utility model claims an inclined cutting p...</td>\n",
       "      <td>[A88]</td>\n",
       "    </tr>\n",
       "  </tbody>\n",
       "</table>\n",
       "</div>"
      ],
      "text/plain": [
       "          PATENT   PUB_DATE COUNTRY PRIMARY_LANG         IPC  \\\n",
       "0  CN218280954U_ 2023-01-13      CN           ZH       [B01]   \n",
       "1  CN218188237U_ 2023-01-03      CN           ZH       [B01]   \n",
       "2  CN218442764U_ 2023-02-03      CN           ZH  [F24, B08]   \n",
       "3  CN218428090U_ 2023-02-03      CN           ZH       [B25]   \n",
       "4  CN218195410U_ 2023-01-03      CN           ZH       [B26]   \n",
       "\n",
       "                                          DWPI_TITLE  \\\n",
       "0  Surface anti-sticking dust-removing filter bag...   \n",
       "1  Environment-friendly reusable cooling liquid f...   \n",
       "2  Organic silicon modified epoxy heat conducting...   \n",
       "3  Electronic screen dismounting device, has lowe...   \n",
       "4  Inclined cutting paper cutting device, has cut...   \n",
       "\n",
       "                                        DWPI_NOVELTY  CLASS  \n",
       "0  The utility model claims a surface anti-sticki...  [A88]  \n",
       "1  The utility model claims a new environment-fri...  [A88]  \n",
       "2  The utility model claims an organic silicon mo...  [A88]  \n",
       "3  The utility model relates to screen disassembl...  [A88]  \n",
       "4  The utility model claims an inclined cutting p...  [A88]  "
      ]
     },
     "execution_count": 166,
     "metadata": {},
     "output_type": "execute_result"
    }
   ],
   "source": [
    "# We can drop, PATENT, PUB_DATE, PRIMARY_LANG and COUNTRY column. \n",
    "# We need correlations to come to that conclusion\n",
    "df.head()"
   ]
  },
  {
   "cell_type": "markdown",
   "metadata": {},
   "source": [
    "#### Finding Correlation between features and CLASS column.\n",
    "\n",
    "1. PATENT is just a primary key as it is unique for every row, So, there will be no correlation\n",
    "2. There is only 1 month of data so PUB_DATE is also not contributing to differentiate between classes. Insignificant"
   ]
  },
  {
   "cell_type": "code",
   "execution_count": 167,
   "metadata": {},
   "outputs": [
    {
     "name": "stdout",
     "output_type": "stream",
     "text": [
      "Correlation between IPC and CLASS: -0.0002680179388479074\n",
      "Correlation between PRIMARY_LANG and CLASS: 0.0\n",
      "Correlation between COUNTRY and CLASS: 0.0\n"
     ]
    }
   ],
   "source": [
    "# One-hot encoding IPC and CLASS columns\n",
    "ipc_encoded = df.explode('IPC')['IPC'].str.get_dummies().groupby(level=0).sum()\n",
    "class_encoded = df.explode('CLASS')['CLASS'].str.get_dummies().groupby(level=0).sum()\n",
    "\n",
    "# One-hot encode PRIMARY_LANG and COUNTRY\n",
    "primary_lang_encoded = pd.get_dummies(df['PRIMARY_LANG'], prefix='LANG')\n",
    "country_encoded = pd.get_dummies(df['COUNTRY'], prefix='COUNTRY')\n",
    "\n",
    "# Calculate overall correlation\n",
    "overall_correlation = ipc_encoded.corrwith(class_encoded, axis=0).mean()\n",
    "print(\"Correlation between IPC and CLASS:\", overall_correlation)\n",
    "\n",
    "# Fill NaNs with 0 to avoid calculation issues\n",
    "primary_lang_class_corr = primary_lang_encoded.corrwith(class_encoded, axis=0).fillna(0)\n",
    "country_class_corr = country_encoded.corrwith(class_encoded, axis=0).fillna(0)\n",
    "\n",
    "# Calculate the mean correlation for an overall value\n",
    "overall_primary_lang_class_corr = primary_lang_class_corr.mean()\n",
    "overall_country_class_corr = country_class_corr.mean()\n",
    "\n",
    "print(\"Correlation between PRIMARY_LANG and CLASS:\", overall_primary_lang_class_corr)\n",
    "print(\"Correlation between COUNTRY and CLASS:\", overall_country_class_corr)"
   ]
  },
  {
   "cell_type": "code",
   "execution_count": 216,
   "metadata": {},
   "outputs": [
    {
     "data": {
      "application/vnd.plotly.v1+json": {
       "config": {
        "plotlyServerURL": "https://plot.ly"
       },
       "data": [
        {
         "branchvalues": "total",
         "domain": {
          "x": [
           0,
           1
          ],
          "y": [
           0,
           1
          ]
         },
         "hovertemplate": "labels=%{label}<br>count=%{value}<br>parent=%{parent}<br>id=%{id}<extra></extra>",
         "ids": [
          "A: Polymers & Plastics/A11",
          "A: Polymers & Plastics/A12",
          "A: Polymers & Plastics/A13",
          "A: Polymers & Plastics/A14",
          "A: Polymers & Plastics/A17",
          "A: Polymers & Plastics/A18",
          "A: Polymers & Plastics/A21",
          "A: Polymers & Plastics/A23",
          "A: Polymers & Plastics/A25",
          "A: Polymers & Plastics/A26",
          "A: Polymers & Plastics/A28",
          "A: Polymers & Plastics/A31",
          "A: Polymers & Plastics/A32",
          "A: Polymers & Plastics/A35",
          "A: Polymers & Plastics/A41",
          "A: Polymers & Plastics/A60",
          "A: Polymers & Plastics/A81",
          "A: Polymers & Plastics/A82",
          "A: Polymers & Plastics/A83",
          "A: Polymers & Plastics/A84",
          "A: Polymers & Plastics/A85",
          "A: Polymers & Plastics/A86",
          "A: Polymers & Plastics/A87",
          "A: Polymers & Plastics/A88",
          "A: Polymers & Plastics/A89",
          "A: Polymers & Plastics/A91",
          "A: Polymers & Plastics/A92",
          "A: Polymers & Plastics/A93",
          "A: Polymers & Plastics/A94",
          "A: Polymers & Plastics/A95",
          "A: Polymers & Plastics/A96",
          "A: Polymers & Plastics/A97",
          "B: Pharmaceuticals/B01",
          "B: Pharmaceuticals/B02",
          "B: Pharmaceuticals/B03",
          "B: Pharmaceuticals/B04",
          "B: Pharmaceuticals/B05",
          "B: Pharmaceuticals/B06",
          "B: Pharmaceuticals/B07",
          "C: Agricultural Chemicals/C01",
          "C: Agricultural Chemicals/C02",
          "C: Agricultural Chemicals/C03",
          "C: Agricultural Chemicals/C04",
          "C: Agricultural Chemicals/C05",
          "C: Agricultural Chemicals/C06",
          "C: Agricultural Chemicals/C07",
          "D: Food, Fermentation, Disinfectants, Detergents/D11",
          "D: Food, Fermentation, Disinfectants, Detergents/D12",
          "D: Food, Fermentation, Disinfectants, Detergents/D13",
          "D: Food, Fermentation, Disinfectants, Detergents/D14",
          "D: Food, Fermentation, Disinfectants, Detergents/D15",
          "D: Food, Fermentation, Disinfectants, Detergents/D16",
          "D: Food, Fermentation, Disinfectants, Detergents/D17",
          "D: Food, Fermentation, Disinfectants, Detergents/D18",
          "D: Food, Fermentation, Disinfectants, Detergents/D21",
          "D: Food, Fermentation, Disinfectants, Detergents/D22",
          "D: Food, Fermentation, Disinfectants, Detergents/D23",
          "D: Food, Fermentation, Disinfectants, Detergents/D24",
          "D: Food, Fermentation, Disinfectants, Detergents/D25",
          "E: General Chemicals/E11",
          "E: General Chemicals/E12",
          "E: General Chemicals/E13",
          "E: General Chemicals/E14",
          "E: General Chemicals/E15",
          "E: General Chemicals/E16",
          "E: General Chemicals/E17",
          "E: General Chemicals/E19",
          "E: General Chemicals/E21",
          "E: General Chemicals/E22",
          "E: General Chemicals/E23",
          "E: General Chemicals/E24",
          "E: General Chemicals/E31",
          "E: General Chemicals/E32",
          "E: General Chemicals/E33",
          "E: General Chemicals/E34",
          "E: General Chemicals/E35",
          "E: General Chemicals/E36",
          "E: General Chemicals/E37",
          "F: Textiles,  Paper, Cellulose/F01",
          "F: Textiles,  Paper, Cellulose/F02",
          "F: Textiles,  Paper, Cellulose/F03",
          "F: Textiles,  Paper, Cellulose/F04",
          "F: Textiles,  Paper, Cellulose/F05",
          "F: Textiles,  Paper, Cellulose/F06",
          "F: Textiles,  Paper, Cellulose/F07",
          "F: Textiles,  Paper, Cellulose/F08",
          "F: Textiles,  Paper, Cellulose/F09",
          "G: Printing, Coating, Photographic/G01",
          "G: Printing, Coating, Photographic/G02",
          "G: Printing, Coating, Photographic/G03",
          "G: Printing, Coating, Photographic/G04",
          "G: Printing, Coating, Photographic/G05",
          "G: Printing, Coating, Photographic/G06",
          "G: Printing, Coating, Photographic/G07",
          "G: Printing, Coating, Photographic/G08",
          "H: Petroleum/H01",
          "H: Petroleum/H02",
          "H: Petroleum/H03",
          "H: Petroleum/H04",
          "H: Petroleum/H05",
          "H: Petroleum/H06",
          "H: Petroleum/H07",
          "H: Petroleum/H08",
          "H: Petroleum/H09",
          "J: Chemical Engineering/J01",
          "J: Chemical Engineering/J02",
          "J: Chemical Engineering/J03",
          "J: Chemical Engineering/J04",
          "J: Chemical Engineering/J05",
          "J: Chemical Engineering/J06",
          "J: Chemical Engineering/J07",
          "J: Chemical Engineering/J08",
          "J: Chemical Engineering/J09",
          "K: Nucleonics, Explosives, Protection/K01",
          "K: Nucleonics, Explosives, Protection/K02",
          "K: Nucleonics, Explosives, Protection/K03",
          "K: Nucleonics, Explosives, Protection/K04",
          "K: Nucleonics, Explosives, Protection/K05",
          "K: Nucleonics, Explosives, Protection/K06",
          "K: Nucleonics, Explosives, Protection/K07",
          "K: Nucleonics, Explosives, Protection/K08",
          "L: Glass, Ceramics, Electro(in) Organics/L01",
          "L: Glass, Ceramics, Electro(in) Organics/L02",
          "L: Glass, Ceramics, Electro(in) Organics/L03",
          "M: Metallurgy/M11",
          "M: Metallurgy/M12",
          "M: Metallurgy/M13",
          "M: Metallurgy/M14",
          "M: Metallurgy/M21",
          "M: Metallurgy/M22",
          "M: Metallurgy/M23",
          "M: Metallurgy/M24",
          "M: Metallurgy/M25",
          "M: Metallurgy/M26",
          "M: Metallurgy/M27",
          "M: Metallurgy/M28",
          "M: Metallurgy/M29",
          "P: General/P11",
          "P: General/P12",
          "P: General/P13",
          "P: General/P14",
          "P: General/P15",
          "P: General/P21",
          "P: General/P22",
          "P: General/P23",
          "P: General/P24",
          "P: General/P25",
          "P: General/P26",
          "P: General/P27",
          "P: General/P28",
          "P: General/P31",
          "P: General/P32",
          "P: General/P33",
          "P: General/P34",
          "P: General/P35",
          "P: General/P36",
          "P: General/P41",
          "P: General/P42",
          "P: General/P43",
          "P: General/P51",
          "P: General/P52",
          "P: General/P53",
          "P: General/P54",
          "P: General/P55",
          "P: General/P56",
          "P: General/P61",
          "P: General/P62",
          "P: General/P63",
          "P: General/P64",
          "P: General/P71",
          "P: General/P72",
          "P: General/P73",
          "P: General/P74",
          "P: General/P75",
          "P: General/P76",
          "P: General/P77",
          "P: General/P78",
          "P: General/P81",
          "P: General/P82",
          "P: General/P83",
          "P: General/P84",
          "P: General/P85",
          "P: General/P86",
          "Q: Mechanical/Q11",
          "Q: Mechanical/Q12",
          "Q: Mechanical/Q13",
          "Q: Mechanical/Q14",
          "Q: Mechanical/Q15",
          "Q: Mechanical/Q16",
          "Q: Mechanical/Q17",
          "Q: Mechanical/Q18",
          "Q: Mechanical/Q19",
          "Q: Mechanical/Q21",
          "Q: Mechanical/Q22",
          "Q: Mechanical/Q24",
          "Q: Mechanical/Q25",
          "Q: Mechanical/Q31",
          "Q: Mechanical/Q32",
          "Q: Mechanical/Q33",
          "Q: Mechanical/Q34",
          "Q: Mechanical/Q35",
          "Q: Mechanical/Q36",
          "Q: Mechanical/Q38",
          "Q: Mechanical/Q41",
          "Q: Mechanical/Q42",
          "Q: Mechanical/Q43",
          "Q: Mechanical/Q44",
          "Q: Mechanical/Q45",
          "Q: Mechanical/Q46",
          "Q: Mechanical/Q47",
          "Q: Mechanical/Q48",
          "Q: Mechanical/Q49",
          "Q: Mechanical/Q51",
          "Q: Mechanical/Q52",
          "Q: Mechanical/Q53",
          "Q: Mechanical/Q54",
          "Q: Mechanical/Q55",
          "Q: Mechanical/Q56",
          "Q: Mechanical/Q57",
          "Q: Mechanical/Q61",
          "Q: Mechanical/Q62",
          "Q: Mechanical/Q63",
          "Q: Mechanical/Q64",
          "Q: Mechanical/Q65",
          "Q: Mechanical/Q66",
          "Q: Mechanical/Q67",
          "Q: Mechanical/Q68",
          "Q: Mechanical/Q69",
          "Q: Mechanical/Q71",
          "Q: Mechanical/Q72",
          "Q: Mechanical/Q73",
          "Q: Mechanical/Q74",
          "Q: Mechanical/Q75",
          "Q: Mechanical/Q76",
          "Q: Mechanical/Q77",
          "Q: Mechanical/Q78",
          "Q: Mechanical/Q79",
          "S: Instrumentation, Measuring and Testing/S01",
          "S: Instrumentation, Measuring and Testing/S02",
          "S: Instrumentation, Measuring and Testing/S03",
          "S: Instrumentation, Measuring and Testing/S04",
          "S: Instrumentation, Measuring and Testing/S05",
          "S: Instrumentation, Measuring and Testing/S06",
          "T: Computing and Control/T01",
          "T: Computing and Control/T02",
          "T: Computing and Control/T03",
          "T: Computing and Control/T04",
          "T: Computing and Control/T05",
          "T: Computing and Control/T06",
          "T: Computing and Control/T07",
          "U: Semiconductors and Electronic Circuitry/U11",
          "U: Semiconductors and Electronic Circuitry/U12",
          "U: Semiconductors and Electronic Circuitry/U13",
          "U: Semiconductors and Electronic Circuitry/U14",
          "U: Semiconductors and Electronic Circuitry/U21",
          "U: Semiconductors and Electronic Circuitry/U22",
          "U: Semiconductors and Electronic Circuitry/U23",
          "U: Semiconductors and Electronic Circuitry/U24",
          "U: Semiconductors and Electronic Circuitry/U25",
          "V: Electronic Components/V01",
          "V: Electronic Components/V02",
          "V: Electronic Components/V03",
          "V: Electronic Components/V04",
          "V: Electronic Components/V05",
          "V: Electronic Components/V06",
          "V: Electronic Components/V07",
          "V: Electronic Components/V08",
          "W: Communications/W01",
          "W: Communications/W02",
          "W: Communications/W03",
          "W: Communications/W04",
          "W: Communications/W05",
          "W: Communications/W06",
          "W: Communications/W07",
          "X: Electric Power Engineering/X11",
          "X: Electric Power Engineering/X12",
          "X: Electric Power Engineering/X13",
          "X: Electric Power Engineering/X14",
          "X: Electric Power Engineering/X15",
          "X: Electric Power Engineering/X16",
          "X: Electric Power Engineering/X21",
          "X: Electric Power Engineering/X22",
          "X: Electric Power Engineering/X23",
          "X: Electric Power Engineering/X24",
          "X: Electric Power Engineering/X25",
          "X: Electric Power Engineering/X26",
          "X: Electric Power Engineering/X27",
          "A: Polymers & Plastics",
          "B: Pharmaceuticals",
          "C: Agricultural Chemicals",
          "D: Food, Fermentation, Disinfectants, Detergents",
          "E: General Chemicals",
          "F: Textiles,  Paper, Cellulose",
          "G: Printing, Coating, Photographic",
          "H: Petroleum",
          "J: Chemical Engineering",
          "K: Nucleonics, Explosives, Protection",
          "L: Glass, Ceramics, Electro(in) Organics",
          "M: Metallurgy",
          "P: General",
          "Q: Mechanical",
          "S: Instrumentation, Measuring and Testing",
          "T: Computing and Control",
          "U: Semiconductors and Electronic Circuitry",
          "V: Electronic Components",
          "W: Communications",
          "X: Electric Power Engineering"
         ],
         "labels": [
          "A11",
          "A12",
          "A13",
          "A14",
          "A17",
          "A18",
          "A21",
          "A23",
          "A25",
          "A26",
          "A28",
          "A31",
          "A32",
          "A35",
          "A41",
          "A60",
          "A81",
          "A82",
          "A83",
          "A84",
          "A85",
          "A86",
          "A87",
          "A88",
          "A89",
          "A91",
          "A92",
          "A93",
          "A94",
          "A95",
          "A96",
          "A97",
          "B01",
          "B02",
          "B03",
          "B04",
          "B05",
          "B06",
          "B07",
          "C01",
          "C02",
          "C03",
          "C04",
          "C05",
          "C06",
          "C07",
          "D11",
          "D12",
          "D13",
          "D14",
          "D15",
          "D16",
          "D17",
          "D18",
          "D21",
          "D22",
          "D23",
          "D24",
          "D25",
          "E11",
          "E12",
          "E13",
          "E14",
          "E15",
          "E16",
          "E17",
          "E19",
          "E21",
          "E22",
          "E23",
          "E24",
          "E31",
          "E32",
          "E33",
          "E34",
          "E35",
          "E36",
          "E37",
          "F01",
          "F02",
          "F03",
          "F04",
          "F05",
          "F06",
          "F07",
          "F08",
          "F09",
          "G01",
          "G02",
          "G03",
          "G04",
          "G05",
          "G06",
          "G07",
          "G08",
          "H01",
          "H02",
          "H03",
          "H04",
          "H05",
          "H06",
          "H07",
          "H08",
          "H09",
          "J01",
          "J02",
          "J03",
          "J04",
          "J05",
          "J06",
          "J07",
          "J08",
          "J09",
          "K01",
          "K02",
          "K03",
          "K04",
          "K05",
          "K06",
          "K07",
          "K08",
          "L01",
          "L02",
          "L03",
          "M11",
          "M12",
          "M13",
          "M14",
          "M21",
          "M22",
          "M23",
          "M24",
          "M25",
          "M26",
          "M27",
          "M28",
          "M29",
          "P11",
          "P12",
          "P13",
          "P14",
          "P15",
          "P21",
          "P22",
          "P23",
          "P24",
          "P25",
          "P26",
          "P27",
          "P28",
          "P31",
          "P32",
          "P33",
          "P34",
          "P35",
          "P36",
          "P41",
          "P42",
          "P43",
          "P51",
          "P52",
          "P53",
          "P54",
          "P55",
          "P56",
          "P61",
          "P62",
          "P63",
          "P64",
          "P71",
          "P72",
          "P73",
          "P74",
          "P75",
          "P76",
          "P77",
          "P78",
          "P81",
          "P82",
          "P83",
          "P84",
          "P85",
          "P86",
          "Q11",
          "Q12",
          "Q13",
          "Q14",
          "Q15",
          "Q16",
          "Q17",
          "Q18",
          "Q19",
          "Q21",
          "Q22",
          "Q24",
          "Q25",
          "Q31",
          "Q32",
          "Q33",
          "Q34",
          "Q35",
          "Q36",
          "Q38",
          "Q41",
          "Q42",
          "Q43",
          "Q44",
          "Q45",
          "Q46",
          "Q47",
          "Q48",
          "Q49",
          "Q51",
          "Q52",
          "Q53",
          "Q54",
          "Q55",
          "Q56",
          "Q57",
          "Q61",
          "Q62",
          "Q63",
          "Q64",
          "Q65",
          "Q66",
          "Q67",
          "Q68",
          "Q69",
          "Q71",
          "Q72",
          "Q73",
          "Q74",
          "Q75",
          "Q76",
          "Q77",
          "Q78",
          "Q79",
          "S01",
          "S02",
          "S03",
          "S04",
          "S05",
          "S06",
          "T01",
          "T02",
          "T03",
          "T04",
          "T05",
          "T06",
          "T07",
          "U11",
          "U12",
          "U13",
          "U14",
          "U21",
          "U22",
          "U23",
          "U24",
          "U25",
          "V01",
          "V02",
          "V03",
          "V04",
          "V05",
          "V06",
          "V07",
          "V08",
          "W01",
          "W02",
          "W03",
          "W04",
          "W05",
          "W06",
          "W07",
          "X11",
          "X12",
          "X13",
          "X14",
          "X15",
          "X16",
          "X21",
          "X22",
          "X23",
          "X24",
          "X25",
          "X26",
          "X27",
          "A: Polymers & Plastics",
          "B: Pharmaceuticals",
          "C: Agricultural Chemicals",
          "D: Food, Fermentation, Disinfectants, Detergents",
          "E: General Chemicals",
          "F: Textiles,  Paper, Cellulose",
          "G: Printing, Coating, Photographic",
          "H: Petroleum",
          "J: Chemical Engineering",
          "K: Nucleonics, Explosives, Protection",
          "L: Glass, Ceramics, Electro(in) Organics",
          "M: Metallurgy",
          "P: General",
          "Q: Mechanical",
          "S: Instrumentation, Measuring and Testing",
          "T: Computing and Control",
          "U: Semiconductors and Electronic Circuitry",
          "V: Electronic Components",
          "W: Communications",
          "X: Electric Power Engineering"
         ],
         "name": "",
         "parents": [
          "A: Polymers & Plastics",
          "A: Polymers & Plastics",
          "A: Polymers & Plastics",
          "A: Polymers & Plastics",
          "A: Polymers & Plastics",
          "A: Polymers & Plastics",
          "A: Polymers & Plastics",
          "A: Polymers & Plastics",
          "A: Polymers & Plastics",
          "A: Polymers & Plastics",
          "A: Polymers & Plastics",
          "A: Polymers & Plastics",
          "A: Polymers & Plastics",
          "A: Polymers & Plastics",
          "A: Polymers & Plastics",
          "A: Polymers & Plastics",
          "A: Polymers & Plastics",
          "A: Polymers & Plastics",
          "A: Polymers & Plastics",
          "A: Polymers & Plastics",
          "A: Polymers & Plastics",
          "A: Polymers & Plastics",
          "A: Polymers & Plastics",
          "A: Polymers & Plastics",
          "A: Polymers & Plastics",
          "A: Polymers & Plastics",
          "A: Polymers & Plastics",
          "A: Polymers & Plastics",
          "A: Polymers & Plastics",
          "A: Polymers & Plastics",
          "A: Polymers & Plastics",
          "A: Polymers & Plastics",
          "B: Pharmaceuticals",
          "B: Pharmaceuticals",
          "B: Pharmaceuticals",
          "B: Pharmaceuticals",
          "B: Pharmaceuticals",
          "B: Pharmaceuticals",
          "B: Pharmaceuticals",
          "C: Agricultural Chemicals",
          "C: Agricultural Chemicals",
          "C: Agricultural Chemicals",
          "C: Agricultural Chemicals",
          "C: Agricultural Chemicals",
          "C: Agricultural Chemicals",
          "C: Agricultural Chemicals",
          "D: Food, Fermentation, Disinfectants, Detergents",
          "D: Food, Fermentation, Disinfectants, Detergents",
          "D: Food, Fermentation, Disinfectants, Detergents",
          "D: Food, Fermentation, Disinfectants, Detergents",
          "D: Food, Fermentation, Disinfectants, Detergents",
          "D: Food, Fermentation, Disinfectants, Detergents",
          "D: Food, Fermentation, Disinfectants, Detergents",
          "D: Food, Fermentation, Disinfectants, Detergents",
          "D: Food, Fermentation, Disinfectants, Detergents",
          "D: Food, Fermentation, Disinfectants, Detergents",
          "D: Food, Fermentation, Disinfectants, Detergents",
          "D: Food, Fermentation, Disinfectants, Detergents",
          "D: Food, Fermentation, Disinfectants, Detergents",
          "E: General Chemicals",
          "E: General Chemicals",
          "E: General Chemicals",
          "E: General Chemicals",
          "E: General Chemicals",
          "E: General Chemicals",
          "E: General Chemicals",
          "E: General Chemicals",
          "E: General Chemicals",
          "E: General Chemicals",
          "E: General Chemicals",
          "E: General Chemicals",
          "E: General Chemicals",
          "E: General Chemicals",
          "E: General Chemicals",
          "E: General Chemicals",
          "E: General Chemicals",
          "E: General Chemicals",
          "E: General Chemicals",
          "F: Textiles,  Paper, Cellulose",
          "F: Textiles,  Paper, Cellulose",
          "F: Textiles,  Paper, Cellulose",
          "F: Textiles,  Paper, Cellulose",
          "F: Textiles,  Paper, Cellulose",
          "F: Textiles,  Paper, Cellulose",
          "F: Textiles,  Paper, Cellulose",
          "F: Textiles,  Paper, Cellulose",
          "F: Textiles,  Paper, Cellulose",
          "G: Printing, Coating, Photographic",
          "G: Printing, Coating, Photographic",
          "G: Printing, Coating, Photographic",
          "G: Printing, Coating, Photographic",
          "G: Printing, Coating, Photographic",
          "G: Printing, Coating, Photographic",
          "G: Printing, Coating, Photographic",
          "G: Printing, Coating, Photographic",
          "H: Petroleum",
          "H: Petroleum",
          "H: Petroleum",
          "H: Petroleum",
          "H: Petroleum",
          "H: Petroleum",
          "H: Petroleum",
          "H: Petroleum",
          "H: Petroleum",
          "J: Chemical Engineering",
          "J: Chemical Engineering",
          "J: Chemical Engineering",
          "J: Chemical Engineering",
          "J: Chemical Engineering",
          "J: Chemical Engineering",
          "J: Chemical Engineering",
          "J: Chemical Engineering",
          "J: Chemical Engineering",
          "K: Nucleonics, Explosives, Protection",
          "K: Nucleonics, Explosives, Protection",
          "K: Nucleonics, Explosives, Protection",
          "K: Nucleonics, Explosives, Protection",
          "K: Nucleonics, Explosives, Protection",
          "K: Nucleonics, Explosives, Protection",
          "K: Nucleonics, Explosives, Protection",
          "K: Nucleonics, Explosives, Protection",
          "L: Glass, Ceramics, Electro(in) Organics",
          "L: Glass, Ceramics, Electro(in) Organics",
          "L: Glass, Ceramics, Electro(in) Organics",
          "M: Metallurgy",
          "M: Metallurgy",
          "M: Metallurgy",
          "M: Metallurgy",
          "M: Metallurgy",
          "M: Metallurgy",
          "M: Metallurgy",
          "M: Metallurgy",
          "M: Metallurgy",
          "M: Metallurgy",
          "M: Metallurgy",
          "M: Metallurgy",
          "M: Metallurgy",
          "P: General",
          "P: General",
          "P: General",
          "P: General",
          "P: General",
          "P: General",
          "P: General",
          "P: General",
          "P: General",
          "P: General",
          "P: General",
          "P: General",
          "P: General",
          "P: General",
          "P: General",
          "P: General",
          "P: General",
          "P: General",
          "P: General",
          "P: General",
          "P: General",
          "P: General",
          "P: General",
          "P: General",
          "P: General",
          "P: General",
          "P: General",
          "P: General",
          "P: General",
          "P: General",
          "P: General",
          "P: General",
          "P: General",
          "P: General",
          "P: General",
          "P: General",
          "P: General",
          "P: General",
          "P: General",
          "P: General",
          "P: General",
          "P: General",
          "P: General",
          "P: General",
          "P: General",
          "P: General",
          "Q: Mechanical",
          "Q: Mechanical",
          "Q: Mechanical",
          "Q: Mechanical",
          "Q: Mechanical",
          "Q: Mechanical",
          "Q: Mechanical",
          "Q: Mechanical",
          "Q: Mechanical",
          "Q: Mechanical",
          "Q: Mechanical",
          "Q: Mechanical",
          "Q: Mechanical",
          "Q: Mechanical",
          "Q: Mechanical",
          "Q: Mechanical",
          "Q: Mechanical",
          "Q: Mechanical",
          "Q: Mechanical",
          "Q: Mechanical",
          "Q: Mechanical",
          "Q: Mechanical",
          "Q: Mechanical",
          "Q: Mechanical",
          "Q: Mechanical",
          "Q: Mechanical",
          "Q: Mechanical",
          "Q: Mechanical",
          "Q: Mechanical",
          "Q: Mechanical",
          "Q: Mechanical",
          "Q: Mechanical",
          "Q: Mechanical",
          "Q: Mechanical",
          "Q: Mechanical",
          "Q: Mechanical",
          "Q: Mechanical",
          "Q: Mechanical",
          "Q: Mechanical",
          "Q: Mechanical",
          "Q: Mechanical",
          "Q: Mechanical",
          "Q: Mechanical",
          "Q: Mechanical",
          "Q: Mechanical",
          "Q: Mechanical",
          "Q: Mechanical",
          "Q: Mechanical",
          "Q: Mechanical",
          "Q: Mechanical",
          "Q: Mechanical",
          "Q: Mechanical",
          "Q: Mechanical",
          "Q: Mechanical",
          "S: Instrumentation, Measuring and Testing",
          "S: Instrumentation, Measuring and Testing",
          "S: Instrumentation, Measuring and Testing",
          "S: Instrumentation, Measuring and Testing",
          "S: Instrumentation, Measuring and Testing",
          "S: Instrumentation, Measuring and Testing",
          "T: Computing and Control",
          "T: Computing and Control",
          "T: Computing and Control",
          "T: Computing and Control",
          "T: Computing and Control",
          "T: Computing and Control",
          "T: Computing and Control",
          "U: Semiconductors and Electronic Circuitry",
          "U: Semiconductors and Electronic Circuitry",
          "U: Semiconductors and Electronic Circuitry",
          "U: Semiconductors and Electronic Circuitry",
          "U: Semiconductors and Electronic Circuitry",
          "U: Semiconductors and Electronic Circuitry",
          "U: Semiconductors and Electronic Circuitry",
          "U: Semiconductors and Electronic Circuitry",
          "U: Semiconductors and Electronic Circuitry",
          "V: Electronic Components",
          "V: Electronic Components",
          "V: Electronic Components",
          "V: Electronic Components",
          "V: Electronic Components",
          "V: Electronic Components",
          "V: Electronic Components",
          "V: Electronic Components",
          "W: Communications",
          "W: Communications",
          "W: Communications",
          "W: Communications",
          "W: Communications",
          "W: Communications",
          "W: Communications",
          "X: Electric Power Engineering",
          "X: Electric Power Engineering",
          "X: Electric Power Engineering",
          "X: Electric Power Engineering",
          "X: Electric Power Engineering",
          "X: Electric Power Engineering",
          "X: Electric Power Engineering",
          "X: Electric Power Engineering",
          "X: Electric Power Engineering",
          "X: Electric Power Engineering",
          "X: Electric Power Engineering",
          "X: Electric Power Engineering",
          "X: Electric Power Engineering",
          "",
          "",
          "",
          "",
          "",
          "",
          "",
          "",
          "",
          "",
          "",
          "",
          "",
          "",
          "",
          "",
          "",
          "",
          "",
          ""
         ],
         "type": "sunburst",
         "values": [
          437,
          166,
          262,
          1616,
          751,
          288,
          462,
          970,
          1028,
          858,
          232,
          678,
          4056,
          1761,
          104,
          88,
          589,
          926,
          835,
          1586,
          4081,
          319,
          229,
          4722,
          2917,
          35,
          2221,
          2293,
          741,
          2250,
          2727,
          3041,
          111,
          922,
          503,
          4498,
          1219,
          280,
          2944,
          34,
          280,
          333,
          924,
          91,
          685,
          331,
          364,
          352,
          3358,
          685,
          4251,
          4452,
          41,
          223,
          1243,
          2510,
          312,
          5,
          142,
          258,
          194,
          655,
          400,
          61,
          224,
          426,
          134,
          13,
          21,
          60,
          22,
          339,
          298,
          330,
          415,
          104,
          1607,
          132,
          747,
          489,
          625,
          988,
          420,
          918,
          1255,
          101,
          872,
          44,
          1135,
          813,
          249,
          110,
          150,
          46,
          57,
          1220,
          3,
          135,
          258,
          68,
          311,
          148,
          86,
          403,
          5248,
          3408,
          413,
          4115,
          2,
          118,
          46,
          26,
          22,
          19,
          4,
          58,
          41,
          114,
          63,
          136,
          95,
          686,
          1104,
          4563,
          502,
          132,
          967,
          134,
          264,
          1871,
          3219,
          1224,
          397,
          397,
          331,
          122,
          244,
          1918,
          902,
          4019,
          2797,
          318,
          1451,
          767,
          428,
          1433,
          1661,
          1209,
          1829,
          2839,
          4219,
          2494,
          2836,
          4090,
          1473,
          1913,
          4304,
          4013,
          4676,
          989,
          3697,
          1883,
          3413,
          2152,
          3782,
          3333,
          4624,
          904,
          2314,
          743,
          695,
          2136,
          928,
          159,
          316,
          292,
          363,
          3072,
          1057,
          7,
          796,
          1750,
          366,
          738,
          352,
          456,
          1708,
          490,
          318,
          2341,
          604,
          1037,
          611,
          1220,
          908,
          940,
          3607,
          4344,
          873,
          3619,
          4491,
          3460,
          3861,
          4029,
          4466,
          3293,
          1030,
          2413,
          4243,
          2222,
          1838,
          2992,
          1070,
          586,
          26,
          857,
          1341,
          1551,
          754,
          1198,
          945,
          3357,
          1460,
          710,
          2226,
          2763,
          4065,
          867,
          1792,
          375,
          1542,
          4102,
          2937,
          3270,
          1380,
          1596,
          709,
          4296,
          4920,
          5662,
          255,
          4451,
          1227,
          12704,
          15,
          167,
          3092,
          3998,
          3690,
          832,
          4179,
          2537,
          622,
          2996,
          887,
          471,
          167,
          1582,
          177,
          385,
          1354,
          1162,
          5314,
          719,
          4346,
          2467,
          527,
          5803,
          4449,
          1557,
          5060,
          4224,
          4116,
          490,
          2970,
          4522,
          3723,
          144,
          3991,
          4738,
          3931,
          2305,
          854,
          2706,
          5140,
          3660,
          4506,
          43269,
          10477,
          2678,
          17938,
          5693,
          6415,
          2604,
          2632,
          13398,
          530,
          6353,
          9804,
          91360,
          103983,
          20811,
          24498,
          13618,
          16274,
          25699,
          43190
         ]
        }
       ],
       "layout": {
        "legend": {
         "tracegroupgap": 0
        },
        "margin": {
         "b": 0,
         "l": 0,
         "r": 0,
         "t": 50
        },
        "sunburstcolorway": [
         "rgb(102, 197, 204)",
         "rgb(246, 207, 113)",
         "rgb(248, 156, 116)",
         "rgb(220, 176, 242)",
         "rgb(135, 197, 95)",
         "rgb(158, 185, 243)",
         "rgb(254, 136, 177)",
         "rgb(201, 219, 116)",
         "rgb(139, 224, 164)",
         "rgb(180, 151, 231)",
         "rgb(179, 179, 179)"
        ],
        "template": {
         "data": {
          "bar": [
           {
            "error_x": {
             "color": "#2a3f5f"
            },
            "error_y": {
             "color": "#2a3f5f"
            },
            "marker": {
             "line": {
              "color": "#E5ECF6",
              "width": 0.5
             },
             "pattern": {
              "fillmode": "overlay",
              "size": 10,
              "solidity": 0.2
             }
            },
            "type": "bar"
           }
          ],
          "barpolar": [
           {
            "marker": {
             "line": {
              "color": "#E5ECF6",
              "width": 0.5
             },
             "pattern": {
              "fillmode": "overlay",
              "size": 10,
              "solidity": 0.2
             }
            },
            "type": "barpolar"
           }
          ],
          "carpet": [
           {
            "aaxis": {
             "endlinecolor": "#2a3f5f",
             "gridcolor": "white",
             "linecolor": "white",
             "minorgridcolor": "white",
             "startlinecolor": "#2a3f5f"
            },
            "baxis": {
             "endlinecolor": "#2a3f5f",
             "gridcolor": "white",
             "linecolor": "white",
             "minorgridcolor": "white",
             "startlinecolor": "#2a3f5f"
            },
            "type": "carpet"
           }
          ],
          "choropleth": [
           {
            "colorbar": {
             "outlinewidth": 0,
             "ticks": ""
            },
            "type": "choropleth"
           }
          ],
          "contour": [
           {
            "colorbar": {
             "outlinewidth": 0,
             "ticks": ""
            },
            "colorscale": [
             [
              0,
              "#0d0887"
             ],
             [
              0.1111111111111111,
              "#46039f"
             ],
             [
              0.2222222222222222,
              "#7201a8"
             ],
             [
              0.3333333333333333,
              "#9c179e"
             ],
             [
              0.4444444444444444,
              "#bd3786"
             ],
             [
              0.5555555555555556,
              "#d8576b"
             ],
             [
              0.6666666666666666,
              "#ed7953"
             ],
             [
              0.7777777777777778,
              "#fb9f3a"
             ],
             [
              0.8888888888888888,
              "#fdca26"
             ],
             [
              1,
              "#f0f921"
             ]
            ],
            "type": "contour"
           }
          ],
          "contourcarpet": [
           {
            "colorbar": {
             "outlinewidth": 0,
             "ticks": ""
            },
            "type": "contourcarpet"
           }
          ],
          "heatmap": [
           {
            "colorbar": {
             "outlinewidth": 0,
             "ticks": ""
            },
            "colorscale": [
             [
              0,
              "#0d0887"
             ],
             [
              0.1111111111111111,
              "#46039f"
             ],
             [
              0.2222222222222222,
              "#7201a8"
             ],
             [
              0.3333333333333333,
              "#9c179e"
             ],
             [
              0.4444444444444444,
              "#bd3786"
             ],
             [
              0.5555555555555556,
              "#d8576b"
             ],
             [
              0.6666666666666666,
              "#ed7953"
             ],
             [
              0.7777777777777778,
              "#fb9f3a"
             ],
             [
              0.8888888888888888,
              "#fdca26"
             ],
             [
              1,
              "#f0f921"
             ]
            ],
            "type": "heatmap"
           }
          ],
          "heatmapgl": [
           {
            "colorbar": {
             "outlinewidth": 0,
             "ticks": ""
            },
            "colorscale": [
             [
              0,
              "#0d0887"
             ],
             [
              0.1111111111111111,
              "#46039f"
             ],
             [
              0.2222222222222222,
              "#7201a8"
             ],
             [
              0.3333333333333333,
              "#9c179e"
             ],
             [
              0.4444444444444444,
              "#bd3786"
             ],
             [
              0.5555555555555556,
              "#d8576b"
             ],
             [
              0.6666666666666666,
              "#ed7953"
             ],
             [
              0.7777777777777778,
              "#fb9f3a"
             ],
             [
              0.8888888888888888,
              "#fdca26"
             ],
             [
              1,
              "#f0f921"
             ]
            ],
            "type": "heatmapgl"
           }
          ],
          "histogram": [
           {
            "marker": {
             "pattern": {
              "fillmode": "overlay",
              "size": 10,
              "solidity": 0.2
             }
            },
            "type": "histogram"
           }
          ],
          "histogram2d": [
           {
            "colorbar": {
             "outlinewidth": 0,
             "ticks": ""
            },
            "colorscale": [
             [
              0,
              "#0d0887"
             ],
             [
              0.1111111111111111,
              "#46039f"
             ],
             [
              0.2222222222222222,
              "#7201a8"
             ],
             [
              0.3333333333333333,
              "#9c179e"
             ],
             [
              0.4444444444444444,
              "#bd3786"
             ],
             [
              0.5555555555555556,
              "#d8576b"
             ],
             [
              0.6666666666666666,
              "#ed7953"
             ],
             [
              0.7777777777777778,
              "#fb9f3a"
             ],
             [
              0.8888888888888888,
              "#fdca26"
             ],
             [
              1,
              "#f0f921"
             ]
            ],
            "type": "histogram2d"
           }
          ],
          "histogram2dcontour": [
           {
            "colorbar": {
             "outlinewidth": 0,
             "ticks": ""
            },
            "colorscale": [
             [
              0,
              "#0d0887"
             ],
             [
              0.1111111111111111,
              "#46039f"
             ],
             [
              0.2222222222222222,
              "#7201a8"
             ],
             [
              0.3333333333333333,
              "#9c179e"
             ],
             [
              0.4444444444444444,
              "#bd3786"
             ],
             [
              0.5555555555555556,
              "#d8576b"
             ],
             [
              0.6666666666666666,
              "#ed7953"
             ],
             [
              0.7777777777777778,
              "#fb9f3a"
             ],
             [
              0.8888888888888888,
              "#fdca26"
             ],
             [
              1,
              "#f0f921"
             ]
            ],
            "type": "histogram2dcontour"
           }
          ],
          "mesh3d": [
           {
            "colorbar": {
             "outlinewidth": 0,
             "ticks": ""
            },
            "type": "mesh3d"
           }
          ],
          "parcoords": [
           {
            "line": {
             "colorbar": {
              "outlinewidth": 0,
              "ticks": ""
             }
            },
            "type": "parcoords"
           }
          ],
          "pie": [
           {
            "automargin": true,
            "type": "pie"
           }
          ],
          "scatter": [
           {
            "fillpattern": {
             "fillmode": "overlay",
             "size": 10,
             "solidity": 0.2
            },
            "type": "scatter"
           }
          ],
          "scatter3d": [
           {
            "line": {
             "colorbar": {
              "outlinewidth": 0,
              "ticks": ""
             }
            },
            "marker": {
             "colorbar": {
              "outlinewidth": 0,
              "ticks": ""
             }
            },
            "type": "scatter3d"
           }
          ],
          "scattercarpet": [
           {
            "marker": {
             "colorbar": {
              "outlinewidth": 0,
              "ticks": ""
             }
            },
            "type": "scattercarpet"
           }
          ],
          "scattergeo": [
           {
            "marker": {
             "colorbar": {
              "outlinewidth": 0,
              "ticks": ""
             }
            },
            "type": "scattergeo"
           }
          ],
          "scattergl": [
           {
            "marker": {
             "colorbar": {
              "outlinewidth": 0,
              "ticks": ""
             }
            },
            "type": "scattergl"
           }
          ],
          "scattermapbox": [
           {
            "marker": {
             "colorbar": {
              "outlinewidth": 0,
              "ticks": ""
             }
            },
            "type": "scattermapbox"
           }
          ],
          "scatterpolar": [
           {
            "marker": {
             "colorbar": {
              "outlinewidth": 0,
              "ticks": ""
             }
            },
            "type": "scatterpolar"
           }
          ],
          "scatterpolargl": [
           {
            "marker": {
             "colorbar": {
              "outlinewidth": 0,
              "ticks": ""
             }
            },
            "type": "scatterpolargl"
           }
          ],
          "scatterternary": [
           {
            "marker": {
             "colorbar": {
              "outlinewidth": 0,
              "ticks": ""
             }
            },
            "type": "scatterternary"
           }
          ],
          "surface": [
           {
            "colorbar": {
             "outlinewidth": 0,
             "ticks": ""
            },
            "colorscale": [
             [
              0,
              "#0d0887"
             ],
             [
              0.1111111111111111,
              "#46039f"
             ],
             [
              0.2222222222222222,
              "#7201a8"
             ],
             [
              0.3333333333333333,
              "#9c179e"
             ],
             [
              0.4444444444444444,
              "#bd3786"
             ],
             [
              0.5555555555555556,
              "#d8576b"
             ],
             [
              0.6666666666666666,
              "#ed7953"
             ],
             [
              0.7777777777777778,
              "#fb9f3a"
             ],
             [
              0.8888888888888888,
              "#fdca26"
             ],
             [
              1,
              "#f0f921"
             ]
            ],
            "type": "surface"
           }
          ],
          "table": [
           {
            "cells": {
             "fill": {
              "color": "#EBF0F8"
             },
             "line": {
              "color": "white"
             }
            },
            "header": {
             "fill": {
              "color": "#C8D4E3"
             },
             "line": {
              "color": "white"
             }
            },
            "type": "table"
           }
          ]
         },
         "layout": {
          "annotationdefaults": {
           "arrowcolor": "#2a3f5f",
           "arrowhead": 0,
           "arrowwidth": 1
          },
          "autotypenumbers": "strict",
          "coloraxis": {
           "colorbar": {
            "outlinewidth": 0,
            "ticks": ""
           }
          },
          "colorscale": {
           "diverging": [
            [
             0,
             "#8e0152"
            ],
            [
             0.1,
             "#c51b7d"
            ],
            [
             0.2,
             "#de77ae"
            ],
            [
             0.3,
             "#f1b6da"
            ],
            [
             0.4,
             "#fde0ef"
            ],
            [
             0.5,
             "#f7f7f7"
            ],
            [
             0.6,
             "#e6f5d0"
            ],
            [
             0.7,
             "#b8e186"
            ],
            [
             0.8,
             "#7fbc41"
            ],
            [
             0.9,
             "#4d9221"
            ],
            [
             1,
             "#276419"
            ]
           ],
           "sequential": [
            [
             0,
             "#0d0887"
            ],
            [
             0.1111111111111111,
             "#46039f"
            ],
            [
             0.2222222222222222,
             "#7201a8"
            ],
            [
             0.3333333333333333,
             "#9c179e"
            ],
            [
             0.4444444444444444,
             "#bd3786"
            ],
            [
             0.5555555555555556,
             "#d8576b"
            ],
            [
             0.6666666666666666,
             "#ed7953"
            ],
            [
             0.7777777777777778,
             "#fb9f3a"
            ],
            [
             0.8888888888888888,
             "#fdca26"
            ],
            [
             1,
             "#f0f921"
            ]
           ],
           "sequentialminus": [
            [
             0,
             "#0d0887"
            ],
            [
             0.1111111111111111,
             "#46039f"
            ],
            [
             0.2222222222222222,
             "#7201a8"
            ],
            [
             0.3333333333333333,
             "#9c179e"
            ],
            [
             0.4444444444444444,
             "#bd3786"
            ],
            [
             0.5555555555555556,
             "#d8576b"
            ],
            [
             0.6666666666666666,
             "#ed7953"
            ],
            [
             0.7777777777777778,
             "#fb9f3a"
            ],
            [
             0.8888888888888888,
             "#fdca26"
            ],
            [
             1,
             "#f0f921"
            ]
           ]
          },
          "colorway": [
           "#636efa",
           "#EF553B",
           "#00cc96",
           "#ab63fa",
           "#FFA15A",
           "#19d3f3",
           "#FF6692",
           "#B6E880",
           "#FF97FF",
           "#FECB52"
          ],
          "font": {
           "color": "#2a3f5f"
          },
          "geo": {
           "bgcolor": "white",
           "lakecolor": "white",
           "landcolor": "#E5ECF6",
           "showlakes": true,
           "showland": true,
           "subunitcolor": "white"
          },
          "hoverlabel": {
           "align": "left"
          },
          "hovermode": "closest",
          "mapbox": {
           "style": "light"
          },
          "paper_bgcolor": "white",
          "plot_bgcolor": "#E5ECF6",
          "polar": {
           "angularaxis": {
            "gridcolor": "white",
            "linecolor": "white",
            "ticks": ""
           },
           "bgcolor": "#E5ECF6",
           "radialaxis": {
            "gridcolor": "white",
            "linecolor": "white",
            "ticks": ""
           }
          },
          "scene": {
           "xaxis": {
            "backgroundcolor": "#E5ECF6",
            "gridcolor": "white",
            "gridwidth": 2,
            "linecolor": "white",
            "showbackground": true,
            "ticks": "",
            "zerolinecolor": "white"
           },
           "yaxis": {
            "backgroundcolor": "#E5ECF6",
            "gridcolor": "white",
            "gridwidth": 2,
            "linecolor": "white",
            "showbackground": true,
            "ticks": "",
            "zerolinecolor": "white"
           },
           "zaxis": {
            "backgroundcolor": "#E5ECF6",
            "gridcolor": "white",
            "gridwidth": 2,
            "linecolor": "white",
            "showbackground": true,
            "ticks": "",
            "zerolinecolor": "white"
           }
          },
          "shapedefaults": {
           "line": {
            "color": "#2a3f5f"
           }
          },
          "ternary": {
           "aaxis": {
            "gridcolor": "white",
            "linecolor": "white",
            "ticks": ""
           },
           "baxis": {
            "gridcolor": "white",
            "linecolor": "white",
            "ticks": ""
           },
           "bgcolor": "#E5ECF6",
           "caxis": {
            "gridcolor": "white",
            "linecolor": "white",
            "ticks": ""
           }
          },
          "title": {
           "x": 0.05
          },
          "xaxis": {
           "automargin": true,
           "gridcolor": "white",
           "linecolor": "white",
           "ticks": "",
           "title": {
            "standoff": 15
           },
           "zerolinecolor": "white",
           "zerolinewidth": 2
          },
          "yaxis": {
           "automargin": true,
           "gridcolor": "white",
           "linecolor": "white",
           "ticks": "",
           "title": {
            "standoff": 15
           },
           "zerolinecolor": "white",
           "zerolinewidth": 2
          }
         }
        },
        "title": {
         "font": {
          "size": 20
         },
         "text": "Bifurcation of class codes upto the section level",
         "x": 0.5,
         "xanchor": "center"
        }
       }
      }
     },
     "metadata": {},
     "output_type": "display_data"
    }
   ],
   "source": [
    "import plotly.express as px\n",
    "import pandas as pd\n",
    "\n",
    "# Extract unique main categories (first letter) and full codes\n",
    "main_categories = []\n",
    "subcategories = []\n",
    "\n",
    "# Assuming df is defined with the 'CLASS' column\n",
    "for classes in df['CLASS']:\n",
    "    for cls_code in classes:\n",
    "        main_categories.append(cls_code[0])  # First letter of each code\n",
    "        subcategories.append(cls_code)         # Full code\n",
    "\n",
    "# Strip any leading/trailing whitespace from the 'Class' column\n",
    "class_title_mapping['Class'] = class_title_mapping['Class'].str.strip()\n",
    "\n",
    "# Create the mapping dictionary without extra spaces\n",
    "class_title_dict = {row['Class']: f\"{row['Class']}: {row['Title']}\" for _, row in class_title_mapping.iterrows()}\n",
    "\n",
    "# Update each item in main_categories to include the title\n",
    "for idx, char in enumerate(main_categories):\n",
    "    main_categories[idx] = class_title_dict.get(char, char)  # Use dictionary to replace with \"Class: Title\" format\n",
    "\n",
    "# Create a new DataFrame for the sunburst chart\n",
    "sunburst_df = pd.DataFrame({\n",
    "    'Main Category': main_categories,\n",
    "    'Subcategory': subcategories\n",
    "})\n",
    "\n",
    "# Plot the sunburst chart\n",
    "fig = px.sunburst(\n",
    "    sunburst_df,\n",
    "    path=['Main Category', 'Subcategory'],\n",
    "    color_discrete_sequence=px.colors.qualitative.Pastel  # Color palette for clear differentiation\n",
    ")\n",
    "\n",
    "# Customize the layout with a centered title\n",
    "fig.update_layout(\n",
    "    title=dict(\n",
    "        text=\"Bifurcation of class codes upto the section level\",  # Title text\n",
    "        font=dict(size=20),  # Title font size\n",
    "        x=0.5,  # Center the title\n",
    "        xanchor='center'  # Anchor the title in the center\n",
    "    ),\n",
    "    margin=dict(t=50, l=0, r=0, b=0)  # Increase top margin for the title\n",
    ")\n",
    "\n",
    "# Display the plot\n",
    "fig.show()\n"
   ]
  },
  {
   "cell_type": "code",
   "execution_count": 209,
   "metadata": {},
   "outputs": [
    {
     "data": {
      "text/html": [
       "<div>\n",
       "<style scoped>\n",
       "    .dataframe tbody tr th:only-of-type {\n",
       "        vertical-align: middle;\n",
       "    }\n",
       "\n",
       "    .dataframe tbody tr th {\n",
       "        vertical-align: top;\n",
       "    }\n",
       "\n",
       "    .dataframe thead th {\n",
       "        text-align: right;\n",
       "    }\n",
       "</style>\n",
       "<table border=\"1\" class=\"dataframe\">\n",
       "  <thead>\n",
       "    <tr style=\"text-align: right;\">\n",
       "      <th></th>\n",
       "      <th>A: Polymers &amp; Plastics</th>\n",
       "      <th>B: Pharmaceuticals</th>\n",
       "      <th>C: Agricultural Chemicals</th>\n",
       "      <th>D: Food, Fermentation, Disinfectants, Detergents</th>\n",
       "      <th>E: General Chemicals</th>\n",
       "      <th>F: Textiles,  Paper, Cellulose</th>\n",
       "      <th>G: Printing, Coating, Photographic</th>\n",
       "      <th>H: Petroleum</th>\n",
       "      <th>J: Chemical Engineering</th>\n",
       "      <th>K: Nucleonics, Explosives, Protection</th>\n",
       "      <th>L: Glass, Ceramics, Electro(in) Organics</th>\n",
       "      <th>M: Metallurgy</th>\n",
       "      <th>P: General</th>\n",
       "      <th>Q: Mechanical</th>\n",
       "      <th>S: Instrumentation, Measuring and Testing</th>\n",
       "      <th>T: Computing and Control</th>\n",
       "      <th>U: Semiconductors and Electronic Circuitry</th>\n",
       "      <th>V: Electronic Components</th>\n",
       "      <th>W: Communications</th>\n",
       "      <th>X: Electric Power Engineering</th>\n",
       "    </tr>\n",
       "  </thead>\n",
       "  <tbody>\n",
       "    <tr>\n",
       "      <th>A: Polymers &amp; Plastics</th>\n",
       "      <td>0</td>\n",
       "      <td>1459</td>\n",
       "      <td>309</td>\n",
       "      <td>2485</td>\n",
       "      <td>1124</td>\n",
       "      <td>1986</td>\n",
       "      <td>2867</td>\n",
       "      <td>419</td>\n",
       "      <td>827</td>\n",
       "      <td>60</td>\n",
       "      <td>2128</td>\n",
       "      <td>385</td>\n",
       "      <td>5913</td>\n",
       "      <td>4926</td>\n",
       "      <td>850</td>\n",
       "      <td>431</td>\n",
       "      <td>992</td>\n",
       "      <td>1023</td>\n",
       "      <td>556</td>\n",
       "      <td>2016</td>\n",
       "    </tr>\n",
       "    <tr>\n",
       "      <th>B: Pharmaceuticals</th>\n",
       "      <td>1459</td>\n",
       "      <td>0</td>\n",
       "      <td>546</td>\n",
       "      <td>2592</td>\n",
       "      <td>52</td>\n",
       "      <td>61</td>\n",
       "      <td>22</td>\n",
       "      <td>3</td>\n",
       "      <td>237</td>\n",
       "      <td>44</td>\n",
       "      <td>14</td>\n",
       "      <td>22</td>\n",
       "      <td>1228</td>\n",
       "      <td>416</td>\n",
       "      <td>573</td>\n",
       "      <td>137</td>\n",
       "      <td>26</td>\n",
       "      <td>31</td>\n",
       "      <td>49</td>\n",
       "      <td>44</td>\n",
       "    </tr>\n",
       "    <tr>\n",
       "      <th>C: Agricultural Chemicals</th>\n",
       "      <td>309</td>\n",
       "      <td>546</td>\n",
       "      <td>0</td>\n",
       "      <td>697</td>\n",
       "      <td>39</td>\n",
       "      <td>26</td>\n",
       "      <td>18</td>\n",
       "      <td>14</td>\n",
       "      <td>92</td>\n",
       "      <td>3</td>\n",
       "      <td>8</td>\n",
       "      <td>4</td>\n",
       "      <td>669</td>\n",
       "      <td>48</td>\n",
       "      <td>46</td>\n",
       "      <td>19</td>\n",
       "      <td>5</td>\n",
       "      <td>6</td>\n",
       "      <td>14</td>\n",
       "      <td>7</td>\n",
       "    </tr>\n",
       "    <tr>\n",
       "      <th>D: Food, Fermentation, Disinfectants, Detergents</th>\n",
       "      <td>2485</td>\n",
       "      <td>2592</td>\n",
       "      <td>697</td>\n",
       "      <td>0</td>\n",
       "      <td>629</td>\n",
       "      <td>461</td>\n",
       "      <td>111</td>\n",
       "      <td>111</td>\n",
       "      <td>500</td>\n",
       "      <td>16</td>\n",
       "      <td>67</td>\n",
       "      <td>49</td>\n",
       "      <td>2127</td>\n",
       "      <td>1178</td>\n",
       "      <td>512</td>\n",
       "      <td>202</td>\n",
       "      <td>43</td>\n",
       "      <td>92</td>\n",
       "      <td>83</td>\n",
       "      <td>278</td>\n",
       "    </tr>\n",
       "    <tr>\n",
       "      <th>E: General Chemicals</th>\n",
       "      <td>1124</td>\n",
       "      <td>52</td>\n",
       "      <td>39</td>\n",
       "      <td>629</td>\n",
       "      <td>0</td>\n",
       "      <td>81</td>\n",
       "      <td>247</td>\n",
       "      <td>214</td>\n",
       "      <td>982</td>\n",
       "      <td>33</td>\n",
       "      <td>339</td>\n",
       "      <td>100</td>\n",
       "      <td>237</td>\n",
       "      <td>238</td>\n",
       "      <td>127</td>\n",
       "      <td>29</td>\n",
       "      <td>387</td>\n",
       "      <td>72</td>\n",
       "      <td>35</td>\n",
       "      <td>269</td>\n",
       "    </tr>\n",
       "    <tr>\n",
       "      <th>F: Textiles,  Paper, Cellulose</th>\n",
       "      <td>1986</td>\n",
       "      <td>61</td>\n",
       "      <td>26</td>\n",
       "      <td>461</td>\n",
       "      <td>81</td>\n",
       "      <td>0</td>\n",
       "      <td>121</td>\n",
       "      <td>20</td>\n",
       "      <td>74</td>\n",
       "      <td>4</td>\n",
       "      <td>76</td>\n",
       "      <td>23</td>\n",
       "      <td>930</td>\n",
       "      <td>572</td>\n",
       "      <td>55</td>\n",
       "      <td>53</td>\n",
       "      <td>15</td>\n",
       "      <td>48</td>\n",
       "      <td>27</td>\n",
       "      <td>171</td>\n",
       "    </tr>\n",
       "    <tr>\n",
       "      <th>G: Printing, Coating, Photographic</th>\n",
       "      <td>2867</td>\n",
       "      <td>22</td>\n",
       "      <td>18</td>\n",
       "      <td>111</td>\n",
       "      <td>247</td>\n",
       "      <td>121</td>\n",
       "      <td>0</td>\n",
       "      <td>17</td>\n",
       "      <td>47</td>\n",
       "      <td>2</td>\n",
       "      <td>249</td>\n",
       "      <td>36</td>\n",
       "      <td>440</td>\n",
       "      <td>132</td>\n",
       "      <td>77</td>\n",
       "      <td>20</td>\n",
       "      <td>186</td>\n",
       "      <td>83</td>\n",
       "      <td>27</td>\n",
       "      <td>68</td>\n",
       "    </tr>\n",
       "    <tr>\n",
       "      <th>H: Petroleum</th>\n",
       "      <td>419</td>\n",
       "      <td>3</td>\n",
       "      <td>14</td>\n",
       "      <td>111</td>\n",
       "      <td>214</td>\n",
       "      <td>20</td>\n",
       "      <td>17</td>\n",
       "      <td>0</td>\n",
       "      <td>177</td>\n",
       "      <td>3</td>\n",
       "      <td>19</td>\n",
       "      <td>47</td>\n",
       "      <td>74</td>\n",
       "      <td>765</td>\n",
       "      <td>37</td>\n",
       "      <td>38</td>\n",
       "      <td>4</td>\n",
       "      <td>12</td>\n",
       "      <td>37</td>\n",
       "      <td>77</td>\n",
       "    </tr>\n",
       "    <tr>\n",
       "      <th>J: Chemical Engineering</th>\n",
       "      <td>827</td>\n",
       "      <td>237</td>\n",
       "      <td>92</td>\n",
       "      <td>500</td>\n",
       "      <td>982</td>\n",
       "      <td>74</td>\n",
       "      <td>47</td>\n",
       "      <td>177</td>\n",
       "      <td>0</td>\n",
       "      <td>16</td>\n",
       "      <td>102</td>\n",
       "      <td>126</td>\n",
       "      <td>1127</td>\n",
       "      <td>1033</td>\n",
       "      <td>336</td>\n",
       "      <td>80</td>\n",
       "      <td>60</td>\n",
       "      <td>158</td>\n",
       "      <td>75</td>\n",
       "      <td>354</td>\n",
       "    </tr>\n",
       "    <tr>\n",
       "      <th>K: Nucleonics, Explosives, Protection</th>\n",
       "      <td>60</td>\n",
       "      <td>44</td>\n",
       "      <td>3</td>\n",
       "      <td>16</td>\n",
       "      <td>33</td>\n",
       "      <td>4</td>\n",
       "      <td>2</td>\n",
       "      <td>3</td>\n",
       "      <td>16</td>\n",
       "      <td>0</td>\n",
       "      <td>8</td>\n",
       "      <td>14</td>\n",
       "      <td>29</td>\n",
       "      <td>79</td>\n",
       "      <td>19</td>\n",
       "      <td>15</td>\n",
       "      <td>4</td>\n",
       "      <td>11</td>\n",
       "      <td>9</td>\n",
       "      <td>48</td>\n",
       "    </tr>\n",
       "    <tr>\n",
       "      <th>L: Glass, Ceramics, Electro(in) Organics</th>\n",
       "      <td>2128</td>\n",
       "      <td>14</td>\n",
       "      <td>8</td>\n",
       "      <td>67</td>\n",
       "      <td>339</td>\n",
       "      <td>76</td>\n",
       "      <td>249</td>\n",
       "      <td>19</td>\n",
       "      <td>102</td>\n",
       "      <td>8</td>\n",
       "      <td>0</td>\n",
       "      <td>191</td>\n",
       "      <td>484</td>\n",
       "      <td>256</td>\n",
       "      <td>72</td>\n",
       "      <td>86</td>\n",
       "      <td>1007</td>\n",
       "      <td>434</td>\n",
       "      <td>136</td>\n",
       "      <td>911</td>\n",
       "    </tr>\n",
       "    <tr>\n",
       "      <th>M: Metallurgy</th>\n",
       "      <td>385</td>\n",
       "      <td>22</td>\n",
       "      <td>4</td>\n",
       "      <td>49</td>\n",
       "      <td>100</td>\n",
       "      <td>23</td>\n",
       "      <td>36</td>\n",
       "      <td>47</td>\n",
       "      <td>126</td>\n",
       "      <td>14</td>\n",
       "      <td>191</td>\n",
       "      <td>0</td>\n",
       "      <td>2666</td>\n",
       "      <td>475</td>\n",
       "      <td>90</td>\n",
       "      <td>111</td>\n",
       "      <td>65</td>\n",
       "      <td>204</td>\n",
       "      <td>52</td>\n",
       "      <td>1351</td>\n",
       "    </tr>\n",
       "    <tr>\n",
       "      <th>P: General</th>\n",
       "      <td>5913</td>\n",
       "      <td>1228</td>\n",
       "      <td>669</td>\n",
       "      <td>2127</td>\n",
       "      <td>237</td>\n",
       "      <td>930</td>\n",
       "      <td>440</td>\n",
       "      <td>74</td>\n",
       "      <td>1127</td>\n",
       "      <td>29</td>\n",
       "      <td>484</td>\n",
       "      <td>2666</td>\n",
       "      <td>0</td>\n",
       "      <td>5760</td>\n",
       "      <td>2756</td>\n",
       "      <td>2088</td>\n",
       "      <td>744</td>\n",
       "      <td>1915</td>\n",
       "      <td>1879</td>\n",
       "      <td>3288</td>\n",
       "    </tr>\n",
       "    <tr>\n",
       "      <th>Q: Mechanical</th>\n",
       "      <td>4926</td>\n",
       "      <td>416</td>\n",
       "      <td>48</td>\n",
       "      <td>1178</td>\n",
       "      <td>238</td>\n",
       "      <td>572</td>\n",
       "      <td>132</td>\n",
       "      <td>765</td>\n",
       "      <td>1033</td>\n",
       "      <td>79</td>\n",
       "      <td>256</td>\n",
       "      <td>475</td>\n",
       "      <td>5760</td>\n",
       "      <td>0</td>\n",
       "      <td>974</td>\n",
       "      <td>1331</td>\n",
       "      <td>376</td>\n",
       "      <td>981</td>\n",
       "      <td>1286</td>\n",
       "      <td>5685</td>\n",
       "    </tr>\n",
       "    <tr>\n",
       "      <th>S: Instrumentation, Measuring and Testing</th>\n",
       "      <td>850</td>\n",
       "      <td>573</td>\n",
       "      <td>46</td>\n",
       "      <td>512</td>\n",
       "      <td>127</td>\n",
       "      <td>55</td>\n",
       "      <td>77</td>\n",
       "      <td>37</td>\n",
       "      <td>336</td>\n",
       "      <td>19</td>\n",
       "      <td>72</td>\n",
       "      <td>90</td>\n",
       "      <td>2756</td>\n",
       "      <td>974</td>\n",
       "      <td>0</td>\n",
       "      <td>1197</td>\n",
       "      <td>519</td>\n",
       "      <td>635</td>\n",
       "      <td>1044</td>\n",
       "      <td>1068</td>\n",
       "    </tr>\n",
       "    <tr>\n",
       "      <th>T: Computing and Control</th>\n",
       "      <td>431</td>\n",
       "      <td>137</td>\n",
       "      <td>19</td>\n",
       "      <td>202</td>\n",
       "      <td>29</td>\n",
       "      <td>53</td>\n",
       "      <td>20</td>\n",
       "      <td>38</td>\n",
       "      <td>80</td>\n",
       "      <td>15</td>\n",
       "      <td>86</td>\n",
       "      <td>111</td>\n",
       "      <td>2088</td>\n",
       "      <td>1331</td>\n",
       "      <td>1197</td>\n",
       "      <td>0</td>\n",
       "      <td>645</td>\n",
       "      <td>501</td>\n",
       "      <td>3201</td>\n",
       "      <td>1659</td>\n",
       "    </tr>\n",
       "    <tr>\n",
       "      <th>U: Semiconductors and Electronic Circuitry</th>\n",
       "      <td>992</td>\n",
       "      <td>26</td>\n",
       "      <td>5</td>\n",
       "      <td>43</td>\n",
       "      <td>387</td>\n",
       "      <td>15</td>\n",
       "      <td>186</td>\n",
       "      <td>4</td>\n",
       "      <td>60</td>\n",
       "      <td>4</td>\n",
       "      <td>1007</td>\n",
       "      <td>65</td>\n",
       "      <td>744</td>\n",
       "      <td>376</td>\n",
       "      <td>519</td>\n",
       "      <td>645</td>\n",
       "      <td>0</td>\n",
       "      <td>708</td>\n",
       "      <td>934</td>\n",
       "      <td>1281</td>\n",
       "    </tr>\n",
       "    <tr>\n",
       "      <th>V: Electronic Components</th>\n",
       "      <td>1023</td>\n",
       "      <td>31</td>\n",
       "      <td>6</td>\n",
       "      <td>92</td>\n",
       "      <td>72</td>\n",
       "      <td>48</td>\n",
       "      <td>83</td>\n",
       "      <td>12</td>\n",
       "      <td>158</td>\n",
       "      <td>11</td>\n",
       "      <td>434</td>\n",
       "      <td>204</td>\n",
       "      <td>1915</td>\n",
       "      <td>981</td>\n",
       "      <td>635</td>\n",
       "      <td>501</td>\n",
       "      <td>708</td>\n",
       "      <td>0</td>\n",
       "      <td>831</td>\n",
       "      <td>2427</td>\n",
       "    </tr>\n",
       "    <tr>\n",
       "      <th>W: Communications</th>\n",
       "      <td>556</td>\n",
       "      <td>49</td>\n",
       "      <td>14</td>\n",
       "      <td>83</td>\n",
       "      <td>35</td>\n",
       "      <td>27</td>\n",
       "      <td>27</td>\n",
       "      <td>37</td>\n",
       "      <td>75</td>\n",
       "      <td>9</td>\n",
       "      <td>136</td>\n",
       "      <td>52</td>\n",
       "      <td>1879</td>\n",
       "      <td>1286</td>\n",
       "      <td>1044</td>\n",
       "      <td>3201</td>\n",
       "      <td>934</td>\n",
       "      <td>831</td>\n",
       "      <td>0</td>\n",
       "      <td>1227</td>\n",
       "    </tr>\n",
       "    <tr>\n",
       "      <th>X: Electric Power Engineering</th>\n",
       "      <td>2016</td>\n",
       "      <td>44</td>\n",
       "      <td>7</td>\n",
       "      <td>278</td>\n",
       "      <td>269</td>\n",
       "      <td>171</td>\n",
       "      <td>68</td>\n",
       "      <td>77</td>\n",
       "      <td>354</td>\n",
       "      <td>48</td>\n",
       "      <td>911</td>\n",
       "      <td>1351</td>\n",
       "      <td>3288</td>\n",
       "      <td>5685</td>\n",
       "      <td>1068</td>\n",
       "      <td>1659</td>\n",
       "      <td>1281</td>\n",
       "      <td>2427</td>\n",
       "      <td>1227</td>\n",
       "      <td>0</td>\n",
       "    </tr>\n",
       "  </tbody>\n",
       "</table>\n",
       "</div>"
      ],
      "text/plain": [
       "                                                  A: Polymers & Plastics  \\\n",
       "A: Polymers & Plastics                                                 0   \n",
       "B: Pharmaceuticals                                                  1459   \n",
       "C: Agricultural Chemicals                                            309   \n",
       "D: Food, Fermentation, Disinfectants, Detergents                    2485   \n",
       "E: General Chemicals                                                1124   \n",
       "F: Textiles,  Paper, Cellulose                                      1986   \n",
       "G: Printing, Coating, Photographic                                  2867   \n",
       "H: Petroleum                                                         419   \n",
       "J: Chemical Engineering                                              827   \n",
       "K: Nucleonics, Explosives, Protection                                 60   \n",
       "L: Glass, Ceramics, Electro(in) Organics                            2128   \n",
       "M: Metallurgy                                                        385   \n",
       "P: General                                                          5913   \n",
       "Q: Mechanical                                                       4926   \n",
       "S: Instrumentation, Measuring and Testing                            850   \n",
       "T: Computing and Control                                             431   \n",
       "U: Semiconductors and Electronic Circuitry                           992   \n",
       "V: Electronic Components                                            1023   \n",
       "W: Communications                                                    556   \n",
       "X: Electric Power Engineering                                       2016   \n",
       "\n",
       "                                                  B: Pharmaceuticals  \\\n",
       "A: Polymers & Plastics                                          1459   \n",
       "B: Pharmaceuticals                                                 0   \n",
       "C: Agricultural Chemicals                                        546   \n",
       "D: Food, Fermentation, Disinfectants, Detergents                2592   \n",
       "E: General Chemicals                                              52   \n",
       "F: Textiles,  Paper, Cellulose                                    61   \n",
       "G: Printing, Coating, Photographic                                22   \n",
       "H: Petroleum                                                       3   \n",
       "J: Chemical Engineering                                          237   \n",
       "K: Nucleonics, Explosives, Protection                             44   \n",
       "L: Glass, Ceramics, Electro(in) Organics                          14   \n",
       "M: Metallurgy                                                     22   \n",
       "P: General                                                      1228   \n",
       "Q: Mechanical                                                    416   \n",
       "S: Instrumentation, Measuring and Testing                        573   \n",
       "T: Computing and Control                                         137   \n",
       "U: Semiconductors and Electronic Circuitry                        26   \n",
       "V: Electronic Components                                          31   \n",
       "W: Communications                                                 49   \n",
       "X: Electric Power Engineering                                     44   \n",
       "\n",
       "                                                  C: Agricultural Chemicals  \\\n",
       "A: Polymers & Plastics                                                  309   \n",
       "B: Pharmaceuticals                                                      546   \n",
       "C: Agricultural Chemicals                                                 0   \n",
       "D: Food, Fermentation, Disinfectants, Detergents                        697   \n",
       "E: General Chemicals                                                     39   \n",
       "F: Textiles,  Paper, Cellulose                                           26   \n",
       "G: Printing, Coating, Photographic                                       18   \n",
       "H: Petroleum                                                             14   \n",
       "J: Chemical Engineering                                                  92   \n",
       "K: Nucleonics, Explosives, Protection                                     3   \n",
       "L: Glass, Ceramics, Electro(in) Organics                                  8   \n",
       "M: Metallurgy                                                             4   \n",
       "P: General                                                              669   \n",
       "Q: Mechanical                                                            48   \n",
       "S: Instrumentation, Measuring and Testing                                46   \n",
       "T: Computing and Control                                                 19   \n",
       "U: Semiconductors and Electronic Circuitry                                5   \n",
       "V: Electronic Components                                                  6   \n",
       "W: Communications                                                        14   \n",
       "X: Electric Power Engineering                                             7   \n",
       "\n",
       "                                                  D: Food, Fermentation, Disinfectants, Detergents  \\\n",
       "A: Polymers & Plastics                                                                        2485   \n",
       "B: Pharmaceuticals                                                                            2592   \n",
       "C: Agricultural Chemicals                                                                      697   \n",
       "D: Food, Fermentation, Disinfectants, Detergents                                                 0   \n",
       "E: General Chemicals                                                                           629   \n",
       "F: Textiles,  Paper, Cellulose                                                                 461   \n",
       "G: Printing, Coating, Photographic                                                             111   \n",
       "H: Petroleum                                                                                   111   \n",
       "J: Chemical Engineering                                                                        500   \n",
       "K: Nucleonics, Explosives, Protection                                                           16   \n",
       "L: Glass, Ceramics, Electro(in) Organics                                                        67   \n",
       "M: Metallurgy                                                                                   49   \n",
       "P: General                                                                                    2127   \n",
       "Q: Mechanical                                                                                 1178   \n",
       "S: Instrumentation, Measuring and Testing                                                      512   \n",
       "T: Computing and Control                                                                       202   \n",
       "U: Semiconductors and Electronic Circuitry                                                      43   \n",
       "V: Electronic Components                                                                        92   \n",
       "W: Communications                                                                               83   \n",
       "X: Electric Power Engineering                                                                  278   \n",
       "\n",
       "                                                  E: General Chemicals  \\\n",
       "A: Polymers & Plastics                                            1124   \n",
       "B: Pharmaceuticals                                                  52   \n",
       "C: Agricultural Chemicals                                           39   \n",
       "D: Food, Fermentation, Disinfectants, Detergents                   629   \n",
       "E: General Chemicals                                                 0   \n",
       "F: Textiles,  Paper, Cellulose                                      81   \n",
       "G: Printing, Coating, Photographic                                 247   \n",
       "H: Petroleum                                                       214   \n",
       "J: Chemical Engineering                                            982   \n",
       "K: Nucleonics, Explosives, Protection                               33   \n",
       "L: Glass, Ceramics, Electro(in) Organics                           339   \n",
       "M: Metallurgy                                                      100   \n",
       "P: General                                                         237   \n",
       "Q: Mechanical                                                      238   \n",
       "S: Instrumentation, Measuring and Testing                          127   \n",
       "T: Computing and Control                                            29   \n",
       "U: Semiconductors and Electronic Circuitry                         387   \n",
       "V: Electronic Components                                            72   \n",
       "W: Communications                                                   35   \n",
       "X: Electric Power Engineering                                      269   \n",
       "\n",
       "                                                  F: Textiles,  Paper, Cellulose  \\\n",
       "A: Polymers & Plastics                                                      1986   \n",
       "B: Pharmaceuticals                                                            61   \n",
       "C: Agricultural Chemicals                                                     26   \n",
       "D: Food, Fermentation, Disinfectants, Detergents                             461   \n",
       "E: General Chemicals                                                          81   \n",
       "F: Textiles,  Paper, Cellulose                                                 0   \n",
       "G: Printing, Coating, Photographic                                           121   \n",
       "H: Petroleum                                                                  20   \n",
       "J: Chemical Engineering                                                       74   \n",
       "K: Nucleonics, Explosives, Protection                                          4   \n",
       "L: Glass, Ceramics, Electro(in) Organics                                      76   \n",
       "M: Metallurgy                                                                 23   \n",
       "P: General                                                                   930   \n",
       "Q: Mechanical                                                                572   \n",
       "S: Instrumentation, Measuring and Testing                                     55   \n",
       "T: Computing and Control                                                      53   \n",
       "U: Semiconductors and Electronic Circuitry                                    15   \n",
       "V: Electronic Components                                                      48   \n",
       "W: Communications                                                             27   \n",
       "X: Electric Power Engineering                                                171   \n",
       "\n",
       "                                                  G: Printing, Coating, Photographic  \\\n",
       "A: Polymers & Plastics                                                          2867   \n",
       "B: Pharmaceuticals                                                                22   \n",
       "C: Agricultural Chemicals                                                         18   \n",
       "D: Food, Fermentation, Disinfectants, Detergents                                 111   \n",
       "E: General Chemicals                                                             247   \n",
       "F: Textiles,  Paper, Cellulose                                                   121   \n",
       "G: Printing, Coating, Photographic                                                 0   \n",
       "H: Petroleum                                                                      17   \n",
       "J: Chemical Engineering                                                           47   \n",
       "K: Nucleonics, Explosives, Protection                                              2   \n",
       "L: Glass, Ceramics, Electro(in) Organics                                         249   \n",
       "M: Metallurgy                                                                     36   \n",
       "P: General                                                                       440   \n",
       "Q: Mechanical                                                                    132   \n",
       "S: Instrumentation, Measuring and Testing                                         77   \n",
       "T: Computing and Control                                                          20   \n",
       "U: Semiconductors and Electronic Circuitry                                       186   \n",
       "V: Electronic Components                                                          83   \n",
       "W: Communications                                                                 27   \n",
       "X: Electric Power Engineering                                                     68   \n",
       "\n",
       "                                                  H: Petroleum  \\\n",
       "A: Polymers & Plastics                                     419   \n",
       "B: Pharmaceuticals                                           3   \n",
       "C: Agricultural Chemicals                                   14   \n",
       "D: Food, Fermentation, Disinfectants, Detergents           111   \n",
       "E: General Chemicals                                       214   \n",
       "F: Textiles,  Paper, Cellulose                              20   \n",
       "G: Printing, Coating, Photographic                          17   \n",
       "H: Petroleum                                                 0   \n",
       "J: Chemical Engineering                                    177   \n",
       "K: Nucleonics, Explosives, Protection                        3   \n",
       "L: Glass, Ceramics, Electro(in) Organics                    19   \n",
       "M: Metallurgy                                               47   \n",
       "P: General                                                  74   \n",
       "Q: Mechanical                                              765   \n",
       "S: Instrumentation, Measuring and Testing                   37   \n",
       "T: Computing and Control                                    38   \n",
       "U: Semiconductors and Electronic Circuitry                   4   \n",
       "V: Electronic Components                                    12   \n",
       "W: Communications                                           37   \n",
       "X: Electric Power Engineering                               77   \n",
       "\n",
       "                                                  J: Chemical Engineering  \\\n",
       "A: Polymers & Plastics                                                827   \n",
       "B: Pharmaceuticals                                                    237   \n",
       "C: Agricultural Chemicals                                              92   \n",
       "D: Food, Fermentation, Disinfectants, Detergents                      500   \n",
       "E: General Chemicals                                                  982   \n",
       "F: Textiles,  Paper, Cellulose                                         74   \n",
       "G: Printing, Coating, Photographic                                     47   \n",
       "H: Petroleum                                                          177   \n",
       "J: Chemical Engineering                                                 0   \n",
       "K: Nucleonics, Explosives, Protection                                  16   \n",
       "L: Glass, Ceramics, Electro(in) Organics                              102   \n",
       "M: Metallurgy                                                         126   \n",
       "P: General                                                           1127   \n",
       "Q: Mechanical                                                        1033   \n",
       "S: Instrumentation, Measuring and Testing                             336   \n",
       "T: Computing and Control                                               80   \n",
       "U: Semiconductors and Electronic Circuitry                             60   \n",
       "V: Electronic Components                                              158   \n",
       "W: Communications                                                      75   \n",
       "X: Electric Power Engineering                                         354   \n",
       "\n",
       "                                                  K: Nucleonics, Explosives, Protection  \\\n",
       "A: Polymers & Plastics                                                               60   \n",
       "B: Pharmaceuticals                                                                   44   \n",
       "C: Agricultural Chemicals                                                             3   \n",
       "D: Food, Fermentation, Disinfectants, Detergents                                     16   \n",
       "E: General Chemicals                                                                 33   \n",
       "F: Textiles,  Paper, Cellulose                                                        4   \n",
       "G: Printing, Coating, Photographic                                                    2   \n",
       "H: Petroleum                                                                          3   \n",
       "J: Chemical Engineering                                                              16   \n",
       "K: Nucleonics, Explosives, Protection                                                 0   \n",
       "L: Glass, Ceramics, Electro(in) Organics                                              8   \n",
       "M: Metallurgy                                                                        14   \n",
       "P: General                                                                           29   \n",
       "Q: Mechanical                                                                        79   \n",
       "S: Instrumentation, Measuring and Testing                                            19   \n",
       "T: Computing and Control                                                             15   \n",
       "U: Semiconductors and Electronic Circuitry                                            4   \n",
       "V: Electronic Components                                                             11   \n",
       "W: Communications                                                                     9   \n",
       "X: Electric Power Engineering                                                        48   \n",
       "\n",
       "                                                  L: Glass, Ceramics, Electro(in) Organics  \\\n",
       "A: Polymers & Plastics                                                                2128   \n",
       "B: Pharmaceuticals                                                                      14   \n",
       "C: Agricultural Chemicals                                                                8   \n",
       "D: Food, Fermentation, Disinfectants, Detergents                                        67   \n",
       "E: General Chemicals                                                                   339   \n",
       "F: Textiles,  Paper, Cellulose                                                          76   \n",
       "G: Printing, Coating, Photographic                                                     249   \n",
       "H: Petroleum                                                                            19   \n",
       "J: Chemical Engineering                                                                102   \n",
       "K: Nucleonics, Explosives, Protection                                                    8   \n",
       "L: Glass, Ceramics, Electro(in) Organics                                                 0   \n",
       "M: Metallurgy                                                                          191   \n",
       "P: General                                                                             484   \n",
       "Q: Mechanical                                                                          256   \n",
       "S: Instrumentation, Measuring and Testing                                               72   \n",
       "T: Computing and Control                                                                86   \n",
       "U: Semiconductors and Electronic Circuitry                                            1007   \n",
       "V: Electronic Components                                                               434   \n",
       "W: Communications                                                                      136   \n",
       "X: Electric Power Engineering                                                          911   \n",
       "\n",
       "                                                  M: Metallurgy  P: General  \\\n",
       "A: Polymers & Plastics                                      385        5913   \n",
       "B: Pharmaceuticals                                           22        1228   \n",
       "C: Agricultural Chemicals                                     4         669   \n",
       "D: Food, Fermentation, Disinfectants, Detergents             49        2127   \n",
       "E: General Chemicals                                        100         237   \n",
       "F: Textiles,  Paper, Cellulose                               23         930   \n",
       "G: Printing, Coating, Photographic                           36         440   \n",
       "H: Petroleum                                                 47          74   \n",
       "J: Chemical Engineering                                     126        1127   \n",
       "K: Nucleonics, Explosives, Protection                        14          29   \n",
       "L: Glass, Ceramics, Electro(in) Organics                    191         484   \n",
       "M: Metallurgy                                                 0        2666   \n",
       "P: General                                                 2666           0   \n",
       "Q: Mechanical                                               475        5760   \n",
       "S: Instrumentation, Measuring and Testing                    90        2756   \n",
       "T: Computing and Control                                    111        2088   \n",
       "U: Semiconductors and Electronic Circuitry                   65         744   \n",
       "V: Electronic Components                                    204        1915   \n",
       "W: Communications                                            52        1879   \n",
       "X: Electric Power Engineering                              1351        3288   \n",
       "\n",
       "                                                  Q: Mechanical  \\\n",
       "A: Polymers & Plastics                                     4926   \n",
       "B: Pharmaceuticals                                          416   \n",
       "C: Agricultural Chemicals                                    48   \n",
       "D: Food, Fermentation, Disinfectants, Detergents           1178   \n",
       "E: General Chemicals                                        238   \n",
       "F: Textiles,  Paper, Cellulose                              572   \n",
       "G: Printing, Coating, Photographic                          132   \n",
       "H: Petroleum                                                765   \n",
       "J: Chemical Engineering                                    1033   \n",
       "K: Nucleonics, Explosives, Protection                        79   \n",
       "L: Glass, Ceramics, Electro(in) Organics                    256   \n",
       "M: Metallurgy                                               475   \n",
       "P: General                                                 5760   \n",
       "Q: Mechanical                                                 0   \n",
       "S: Instrumentation, Measuring and Testing                   974   \n",
       "T: Computing and Control                                   1331   \n",
       "U: Semiconductors and Electronic Circuitry                  376   \n",
       "V: Electronic Components                                    981   \n",
       "W: Communications                                          1286   \n",
       "X: Electric Power Engineering                              5685   \n",
       "\n",
       "                                                  S: Instrumentation, Measuring and Testing  \\\n",
       "A: Polymers & Plastics                                                                  850   \n",
       "B: Pharmaceuticals                                                                      573   \n",
       "C: Agricultural Chemicals                                                                46   \n",
       "D: Food, Fermentation, Disinfectants, Detergents                                        512   \n",
       "E: General Chemicals                                                                    127   \n",
       "F: Textiles,  Paper, Cellulose                                                           55   \n",
       "G: Printing, Coating, Photographic                                                       77   \n",
       "H: Petroleum                                                                             37   \n",
       "J: Chemical Engineering                                                                 336   \n",
       "K: Nucleonics, Explosives, Protection                                                    19   \n",
       "L: Glass, Ceramics, Electro(in) Organics                                                 72   \n",
       "M: Metallurgy                                                                            90   \n",
       "P: General                                                                             2756   \n",
       "Q: Mechanical                                                                           974   \n",
       "S: Instrumentation, Measuring and Testing                                                 0   \n",
       "T: Computing and Control                                                               1197   \n",
       "U: Semiconductors and Electronic Circuitry                                              519   \n",
       "V: Electronic Components                                                                635   \n",
       "W: Communications                                                                      1044   \n",
       "X: Electric Power Engineering                                                          1068   \n",
       "\n",
       "                                                  T: Computing and Control  \\\n",
       "A: Polymers & Plastics                                                 431   \n",
       "B: Pharmaceuticals                                                     137   \n",
       "C: Agricultural Chemicals                                               19   \n",
       "D: Food, Fermentation, Disinfectants, Detergents                       202   \n",
       "E: General Chemicals                                                    29   \n",
       "F: Textiles,  Paper, Cellulose                                          53   \n",
       "G: Printing, Coating, Photographic                                      20   \n",
       "H: Petroleum                                                            38   \n",
       "J: Chemical Engineering                                                 80   \n",
       "K: Nucleonics, Explosives, Protection                                   15   \n",
       "L: Glass, Ceramics, Electro(in) Organics                                86   \n",
       "M: Metallurgy                                                          111   \n",
       "P: General                                                            2088   \n",
       "Q: Mechanical                                                         1331   \n",
       "S: Instrumentation, Measuring and Testing                             1197   \n",
       "T: Computing and Control                                                 0   \n",
       "U: Semiconductors and Electronic Circuitry                             645   \n",
       "V: Electronic Components                                               501   \n",
       "W: Communications                                                     3201   \n",
       "X: Electric Power Engineering                                         1659   \n",
       "\n",
       "                                                  U: Semiconductors and Electronic Circuitry  \\\n",
       "A: Polymers & Plastics                                                                   992   \n",
       "B: Pharmaceuticals                                                                        26   \n",
       "C: Agricultural Chemicals                                                                  5   \n",
       "D: Food, Fermentation, Disinfectants, Detergents                                          43   \n",
       "E: General Chemicals                                                                     387   \n",
       "F: Textiles,  Paper, Cellulose                                                            15   \n",
       "G: Printing, Coating, Photographic                                                       186   \n",
       "H: Petroleum                                                                               4   \n",
       "J: Chemical Engineering                                                                   60   \n",
       "K: Nucleonics, Explosives, Protection                                                      4   \n",
       "L: Glass, Ceramics, Electro(in) Organics                                                1007   \n",
       "M: Metallurgy                                                                             65   \n",
       "P: General                                                                               744   \n",
       "Q: Mechanical                                                                            376   \n",
       "S: Instrumentation, Measuring and Testing                                                519   \n",
       "T: Computing and Control                                                                 645   \n",
       "U: Semiconductors and Electronic Circuitry                                                 0   \n",
       "V: Electronic Components                                                                 708   \n",
       "W: Communications                                                                        934   \n",
       "X: Electric Power Engineering                                                           1281   \n",
       "\n",
       "                                                  V: Electronic Components  \\\n",
       "A: Polymers & Plastics                                                1023   \n",
       "B: Pharmaceuticals                                                      31   \n",
       "C: Agricultural Chemicals                                                6   \n",
       "D: Food, Fermentation, Disinfectants, Detergents                        92   \n",
       "E: General Chemicals                                                    72   \n",
       "F: Textiles,  Paper, Cellulose                                          48   \n",
       "G: Printing, Coating, Photographic                                      83   \n",
       "H: Petroleum                                                            12   \n",
       "J: Chemical Engineering                                                158   \n",
       "K: Nucleonics, Explosives, Protection                                   11   \n",
       "L: Glass, Ceramics, Electro(in) Organics                               434   \n",
       "M: Metallurgy                                                          204   \n",
       "P: General                                                            1915   \n",
       "Q: Mechanical                                                          981   \n",
       "S: Instrumentation, Measuring and Testing                              635   \n",
       "T: Computing and Control                                               501   \n",
       "U: Semiconductors and Electronic Circuitry                             708   \n",
       "V: Electronic Components                                                 0   \n",
       "W: Communications                                                      831   \n",
       "X: Electric Power Engineering                                         2427   \n",
       "\n",
       "                                                  W: Communications  \\\n",
       "A: Polymers & Plastics                                          556   \n",
       "B: Pharmaceuticals                                               49   \n",
       "C: Agricultural Chemicals                                        14   \n",
       "D: Food, Fermentation, Disinfectants, Detergents                 83   \n",
       "E: General Chemicals                                             35   \n",
       "F: Textiles,  Paper, Cellulose                                   27   \n",
       "G: Printing, Coating, Photographic                               27   \n",
       "H: Petroleum                                                     37   \n",
       "J: Chemical Engineering                                          75   \n",
       "K: Nucleonics, Explosives, Protection                             9   \n",
       "L: Glass, Ceramics, Electro(in) Organics                        136   \n",
       "M: Metallurgy                                                    52   \n",
       "P: General                                                     1879   \n",
       "Q: Mechanical                                                  1286   \n",
       "S: Instrumentation, Measuring and Testing                      1044   \n",
       "T: Computing and Control                                       3201   \n",
       "U: Semiconductors and Electronic Circuitry                      934   \n",
       "V: Electronic Components                                        831   \n",
       "W: Communications                                                 0   \n",
       "X: Electric Power Engineering                                  1227   \n",
       "\n",
       "                                                  X: Electric Power Engineering  \n",
       "A: Polymers & Plastics                                                     2016  \n",
       "B: Pharmaceuticals                                                           44  \n",
       "C: Agricultural Chemicals                                                     7  \n",
       "D: Food, Fermentation, Disinfectants, Detergents                            278  \n",
       "E: General Chemicals                                                        269  \n",
       "F: Textiles,  Paper, Cellulose                                              171  \n",
       "G: Printing, Coating, Photographic                                           68  \n",
       "H: Petroleum                                                                 77  \n",
       "J: Chemical Engineering                                                     354  \n",
       "K: Nucleonics, Explosives, Protection                                        48  \n",
       "L: Glass, Ceramics, Electro(in) Organics                                    911  \n",
       "M: Metallurgy                                                              1351  \n",
       "P: General                                                                 3288  \n",
       "Q: Mechanical                                                              5685  \n",
       "S: Instrumentation, Measuring and Testing                                  1068  \n",
       "T: Computing and Control                                                   1659  \n",
       "U: Semiconductors and Electronic Circuitry                                 1281  \n",
       "V: Electronic Components                                                   2427  \n",
       "W: Communications                                                          1227  \n",
       "X: Electric Power Engineering                                                 0  "
      ]
     },
     "execution_count": 209,
     "metadata": {},
     "output_type": "execute_result"
    }
   ],
   "source": [
    "import numpy as np\n",
    "from itertools import combinations\n",
    "\n",
    "# Strip to only the main class letters (first character) in each entry\n",
    "df['category'] = df['CLASS'].apply(lambda classes: [cls[0] for cls in classes])\n",
    "\n",
    "# Filter rows where there are multiple classes\n",
    "df_multi_category = df[df['category'].apply(lambda x: len(x) > 1)]\n",
    "\n",
    "# Get unique main classes\n",
    "unique_classes = sorted(set([cls for sublist in df_multi_category['category'] for cls in sublist]))\n",
    "\n",
    "# Initialize an empty co-occurrence matrix\n",
    "cooccurrence_matrix = pd.DataFrame(0, index=unique_classes, columns=unique_classes)\n",
    "\n",
    "# Populate the co-occurrence matrix\n",
    "for classes in df_multi_category['category']:\n",
    "    for (class1, class2) in combinations(classes, 2):\n",
    "        cooccurrence_matrix.loc[class1, class2] += 1\n",
    "        cooccurrence_matrix.loc[class2, class1] += 1  # Ensure symmetry\n",
    "\n",
    "# Set the diagonal to zero\n",
    "np.fill_diagonal(cooccurrence_matrix.values, 0)\n",
    "\n",
    "# Display the co-occurrence matrix\n",
    "cooccurrence_matrix.index = sorted(list(set(main_categories)))\n",
    "cooccurrence_matrix.columns = sorted(list(set(main_categories)))\n",
    "cooccurrence_matrix"
   ]
  },
  {
   "cell_type": "code",
   "execution_count": 210,
   "metadata": {},
   "outputs": [
    {
     "data": {
      "image/png": "[encoded data removed]",
      "text/plain": [
       "<Figure size 800x600 with 2 Axes>"
      ]
     },
     "metadata": {},
     "output_type": "display_data"
    }
   ],
   "source": [
    "import seaborn as sns\n",
    "import matplotlib.pyplot as plt\n",
    "\n",
    "# Assuming `cooccurrence_matrix` is already created as shown in previous code\n",
    "plt.figure(figsize=(8, 6))\n",
    "sns.heatmap(cooccurrence_matrix, annot=False, cmap=\"YlOrRd\", cbar=True, square=True)\n",
    "\n",
    "# Customize the plot\n",
    "plt.title(\"DWPI Classes Cooccurrence Matrix on the Section Level\")\n",
    "plt.xlabel(\"Class\")\n",
    "plt.ylabel(\"Class\")\n",
    "plt.show()"
   ]
  },
  {
   "cell_type": "code",
   "execution_count": 260,
   "metadata": {},
   "outputs": [
    {
     "data": {
      "application/vnd.plotly.v1+json": {
       "config": {
        "plotlyServerURL": "https://plot.ly"
       },
       "data": [
        {
         "alignmentgroup": "True",
         "hovertemplate": "Patent Category=%{y}<br>Number of Patents=%{x}<extra></extra>",
         "legendgroup": "Q: Mechanical",
         "marker": {
          "color": "#1f77b4",
          "pattern": {
           "shape": ""
          }
         },
         "name": "Q: Mechanical",
         "offsetgroup": "Q: Mechanical",
         "orientation": "h",
         "showlegend": true,
         "textposition": "auto",
         "type": "bar",
         "x": [
          103983
         ],
         "xaxis": "x",
         "y": [
          "Q: Mechanical"
         ],
         "yaxis": "y"
        },
        {
         "alignmentgroup": "True",
         "hovertemplate": "Patent Category=%{y}<br>Number of Patents=%{x}<extra></extra>",
         "legendgroup": "P: General",
         "marker": {
          "color": "#ff7f0e",
          "pattern": {
           "shape": ""
          }
         },
         "name": "P: General",
         "offsetgroup": "P: General",
         "orientation": "h",
         "showlegend": true,
         "textposition": "auto",
         "type": "bar",
         "x": [
          91360
         ],
         "xaxis": "x",
         "y": [
          "P: General"
         ],
         "yaxis": "y"
        },
        {
         "alignmentgroup": "True",
         "hovertemplate": "Patent Category=%{y}<br>Number of Patents=%{x}<extra></extra>",
         "legendgroup": "A: Polymers & Plastics",
         "marker": {
          "color": "#2ca02c",
          "pattern": {
           "shape": ""
          }
         },
         "name": "A: Polymers & Plastics",
         "offsetgroup": "A: Polymers & Plastics",
         "orientation": "h",
         "showlegend": true,
         "textposition": "auto",
         "type": "bar",
         "x": [
          43269
         ],
         "xaxis": "x",
         "y": [
          "A: Polymers & Plastics"
         ],
         "yaxis": "y"
        },
        {
         "alignmentgroup": "True",
         "hovertemplate": "Patent Category=%{y}<br>Number of Patents=%{x}<extra></extra>",
         "legendgroup": "X: Electric Power Engineering",
         "marker": {
          "color": "#d62728",
          "pattern": {
           "shape": ""
          }
         },
         "name": "X: Electric Power Engineering",
         "offsetgroup": "X: Electric Power Engineering",
         "orientation": "h",
         "showlegend": true,
         "textposition": "auto",
         "type": "bar",
         "x": [
          43190
         ],
         "xaxis": "x",
         "y": [
          "X: Electric Power Engineering"
         ],
         "yaxis": "y"
        },
        {
         "alignmentgroup": "True",
         "hovertemplate": "Patent Category=%{y}<br>Number of Patents=%{x}<extra></extra>",
         "legendgroup": "W: Communications",
         "marker": {
          "color": "#9467bd",
          "pattern": {
           "shape": ""
          }
         },
         "name": "W: Communications",
         "offsetgroup": "W: Communications",
         "orientation": "h",
         "showlegend": true,
         "textposition": "auto",
         "type": "bar",
         "x": [
          25699
         ],
         "xaxis": "x",
         "y": [
          "W: Communications"
         ],
         "yaxis": "y"
        },
        {
         "alignmentgroup": "True",
         "hovertemplate": "Patent Category=%{y}<br>Number of Patents=%{x}<extra></extra>",
         "legendgroup": "T: Computing and Control",
         "marker": {
          "color": "#8c564b",
          "pattern": {
           "shape": ""
          }
         },
         "name": "T: Computing and Control",
         "offsetgroup": "T: Computing and Control",
         "orientation": "h",
         "showlegend": true,
         "textposition": "auto",
         "type": "bar",
         "x": [
          24498
         ],
         "xaxis": "x",
         "y": [
          "T: Computing and Control"
         ],
         "yaxis": "y"
        },
        {
         "alignmentgroup": "True",
         "hovertemplate": "Patent Category=%{y}<br>Number of Patents=%{x}<extra></extra>",
         "legendgroup": "S: Instrumentation, Measuring and Testing",
         "marker": {
          "color": "#e377c2",
          "pattern": {
           "shape": ""
          }
         },
         "name": "S: Instrumentation, Measuring and Testing",
         "offsetgroup": "S: Instrumentation, Measuring and Testing",
         "orientation": "h",
         "showlegend": true,
         "textposition": "auto",
         "type": "bar",
         "x": [
          20811
         ],
         "xaxis": "x",
         "y": [
          "S: Instrumentation, Measuring and Testing"
         ],
         "yaxis": "y"
        },
        {
         "alignmentgroup": "True",
         "hovertemplate": "Patent Category=%{y}<br>Number of Patents=%{x}<extra></extra>",
         "legendgroup": "D: Food, Fermentation, Disinfectants, Detergents",
         "marker": {
          "color": "#7f7f7f",
          "pattern": {
           "shape": ""
          }
         },
         "name": "D: Food, Fermentation, Disinfectants, Detergents",
         "offsetgroup": "D: Food, Fermentation, Disinfectants, Detergents",
         "orientation": "h",
         "showlegend": true,
         "textposition": "auto",
         "type": "bar",
         "x": [
          17938
         ],
         "xaxis": "x",
         "y": [
          "D: Food, Fermentation, Disinfectants, Detergents"
         ],
         "yaxis": "y"
        },
        {
         "alignmentgroup": "True",
         "hovertemplate": "Patent Category=%{y}<br>Number of Patents=%{x}<extra></extra>",
         "legendgroup": "V: Electronic Components",
         "marker": {
          "color": "#bcbd22",
          "pattern": {
           "shape": ""
          }
         },
         "name": "V: Electronic Components",
         "offsetgroup": "V: Electronic Components",
         "orientation": "h",
         "showlegend": true,
         "textposition": "auto",
         "type": "bar",
         "x": [
          16274
         ],
         "xaxis": "x",
         "y": [
          "V: Electronic Components"
         ],
         "yaxis": "y"
        },
        {
         "alignmentgroup": "True",
         "hovertemplate": "Patent Category=%{y}<br>Number of Patents=%{x}<extra></extra>",
         "legendgroup": "U: Semiconductors and Electronic Circuitry",
         "marker": {
          "color": "#17becf",
          "pattern": {
           "shape": ""
          }
         },
         "name": "U: Semiconductors and Electronic Circuitry",
         "offsetgroup": "U: Semiconductors and Electronic Circuitry",
         "orientation": "h",
         "showlegend": true,
         "textposition": "auto",
         "type": "bar",
         "x": [
          13618
         ],
         "xaxis": "x",
         "y": [
          "U: Semiconductors and Electronic Circuitry"
         ],
         "yaxis": "y"
        },
        {
         "alignmentgroup": "True",
         "hovertemplate": "Patent Category=%{y}<br>Number of Patents=%{x}<extra></extra>",
         "legendgroup": "J: Chemical Engineering",
         "marker": {
          "color": "#aec7e8",
          "pattern": {
           "shape": ""
          }
         },
         "name": "J: Chemical Engineering",
         "offsetgroup": "J: Chemical Engineering",
         "orientation": "h",
         "showlegend": true,
         "textposition": "auto",
         "type": "bar",
         "x": [
          13398
         ],
         "xaxis": "x",
         "y": [
          "J: Chemical Engineering"
         ],
         "yaxis": "y"
        },
        {
         "alignmentgroup": "True",
         "hovertemplate": "Patent Category=%{y}<br>Number of Patents=%{x}<extra></extra>",
         "legendgroup": "B: Pharmaceuticals",
         "marker": {
          "color": "#ffbb78",
          "pattern": {
           "shape": ""
          }
         },
         "name": "B: Pharmaceuticals",
         "offsetgroup": "B: Pharmaceuticals",
         "orientation": "h",
         "showlegend": true,
         "textposition": "auto",
         "type": "bar",
         "x": [
          10477
         ],
         "xaxis": "x",
         "y": [
          "B: Pharmaceuticals"
         ],
         "yaxis": "y"
        },
        {
         "alignmentgroup": "True",
         "hovertemplate": "Patent Category=%{y}<br>Number of Patents=%{x}<extra></extra>",
         "legendgroup": "M: Metallurgy",
         "marker": {
          "color": "#98df8a",
          "pattern": {
           "shape": ""
          }
         },
         "name": "M: Metallurgy",
         "offsetgroup": "M: Metallurgy",
         "orientation": "h",
         "showlegend": true,
         "textposition": "auto",
         "type": "bar",
         "x": [
          9804
         ],
         "xaxis": "x",
         "y": [
          "M: Metallurgy"
         ],
         "yaxis": "y"
        },
        {
         "alignmentgroup": "True",
         "hovertemplate": "Patent Category=%{y}<br>Number of Patents=%{x}<extra></extra>",
         "legendgroup": "F: Textiles,  Paper, Cellulose",
         "marker": {
          "color": "#ff9896",
          "pattern": {
           "shape": ""
          }
         },
         "name": "F: Textiles,  Paper, Cellulose",
         "offsetgroup": "F: Textiles,  Paper, Cellulose",
         "orientation": "h",
         "showlegend": true,
         "textposition": "auto",
         "type": "bar",
         "x": [
          6415
         ],
         "xaxis": "x",
         "y": [
          "F: Textiles,  Paper, Cellulose"
         ],
         "yaxis": "y"
        },
        {
         "alignmentgroup": "True",
         "hovertemplate": "Patent Category=%{y}<br>Number of Patents=%{x}<extra></extra>",
         "legendgroup": "L: Glass, Ceramics, Electro(in) Organics",
         "marker": {
          "color": "#c5b0d5",
          "pattern": {
           "shape": ""
          }
         },
         "name": "L: Glass, Ceramics, Electro(in) Organics",
         "offsetgroup": "L: Glass, Ceramics, Electro(in) Organics",
         "orientation": "h",
         "showlegend": true,
         "textposition": "auto",
         "type": "bar",
         "x": [
          6353
         ],
         "xaxis": "x",
         "y": [
          "L: Glass, Ceramics, Electro(in) Organics"
         ],
         "yaxis": "y"
        },
        {
         "alignmentgroup": "True",
         "hovertemplate": "Patent Category=%{y}<br>Number of Patents=%{x}<extra></extra>",
         "legendgroup": "E: General Chemicals",
         "marker": {
          "color": "#c49c94",
          "pattern": {
           "shape": ""
          }
         },
         "name": "E: General Chemicals",
         "offsetgroup": "E: General Chemicals",
         "orientation": "h",
         "showlegend": true,
         "textposition": "auto",
         "type": "bar",
         "x": [
          5693
         ],
         "xaxis": "x",
         "y": [
          "E: General Chemicals"
         ],
         "yaxis": "y"
        },
        {
         "alignmentgroup": "True",
         "hovertemplate": "Patent Category=%{y}<br>Number of Patents=%{x}<extra></extra>",
         "legendgroup": "C: Agricultural Chemicals",
         "marker": {
          "color": "#f7b6d2",
          "pattern": {
           "shape": ""
          }
         },
         "name": "C: Agricultural Chemicals",
         "offsetgroup": "C: Agricultural Chemicals",
         "orientation": "h",
         "showlegend": true,
         "textposition": "auto",
         "type": "bar",
         "x": [
          2678
         ],
         "xaxis": "x",
         "y": [
          "C: Agricultural Chemicals"
         ],
         "yaxis": "y"
        },
        {
         "alignmentgroup": "True",
         "hovertemplate": "Patent Category=%{y}<br>Number of Patents=%{x}<extra></extra>",
         "legendgroup": "H: Petroleum",
         "marker": {
          "color": "#c7c7c7",
          "pattern": {
           "shape": ""
          }
         },
         "name": "H: Petroleum",
         "offsetgroup": "H: Petroleum",
         "orientation": "h",
         "showlegend": true,
         "textposition": "auto",
         "type": "bar",
         "x": [
          2632
         ],
         "xaxis": "x",
         "y": [
          "H: Petroleum"
         ],
         "yaxis": "y"
        },
        {
         "alignmentgroup": "True",
         "hovertemplate": "Patent Category=%{y}<br>Number of Patents=%{x}<extra></extra>",
         "legendgroup": "G: Printing, Coating, Photographic",
         "marker": {
          "color": "#dbdb8d",
          "pattern": {
           "shape": ""
          }
         },
         "name": "G: Printing, Coating, Photographic",
         "offsetgroup": "G: Printing, Coating, Photographic",
         "orientation": "h",
         "showlegend": true,
         "textposition": "auto",
         "type": "bar",
         "x": [
          2604
         ],
         "xaxis": "x",
         "y": [
          "G: Printing, Coating, Photographic"
         ],
         "yaxis": "y"
        },
        {
         "alignmentgroup": "True",
         "hovertemplate": "Patent Category=%{y}<br>Number of Patents=%{x}<extra></extra>",
         "legendgroup": "K: Nucleonics, Explosives, Protection",
         "marker": {
          "color": "#9edae5",
          "pattern": {
           "shape": ""
          }
         },
         "name": "K: Nucleonics, Explosives, Protection",
         "offsetgroup": "K: Nucleonics, Explosives, Protection",
         "orientation": "h",
         "showlegend": true,
         "textposition": "auto",
         "type": "bar",
         "x": [
          530
         ],
         "xaxis": "x",
         "y": [
          "K: Nucleonics, Explosives, Protection"
         ],
         "yaxis": "y"
        }
       ],
       "layout": {
        "barmode": "relative",
        "height": 800,
        "legend": {
         "title": {
          "text": "Patent Category"
         },
         "tracegroupgap": 0
        },
        "showlegend": false,
        "template": {
         "data": {
          "bar": [
           {
            "error_x": {
             "color": "#2a3f5f"
            },
            "error_y": {
             "color": "#2a3f5f"
            },
            "marker": {
             "line": {
              "color": "#E5ECF6",
              "width": 0.5
             },
             "pattern": {
              "fillmode": "overlay",
              "size": 10,
              "solidity": 0.2
             }
            },
            "type": "bar"
           }
          ],
          "barpolar": [
           {
            "marker": {
             "line": {
              "color": "#E5ECF6",
              "width": 0.5
             },
             "pattern": {
              "fillmode": "overlay",
              "size": 10,
              "solidity": 0.2
             }
            },
            "type": "barpolar"
           }
          ],
          "carpet": [
           {
            "aaxis": {
             "endlinecolor": "#2a3f5f",
             "gridcolor": "white",
             "linecolor": "white",
             "minorgridcolor": "white",
             "startlinecolor": "#2a3f5f"
            },
            "baxis": {
             "endlinecolor": "#2a3f5f",
             "gridcolor": "white",
             "linecolor": "white",
             "minorgridcolor": "white",
             "startlinecolor": "#2a3f5f"
            },
            "type": "carpet"
           }
          ],
          "choropleth": [
           {
            "colorbar": {
             "outlinewidth": 0,
             "ticks": ""
            },
            "type": "choropleth"
           }
          ],
          "contour": [
           {
            "colorbar": {
             "outlinewidth": 0,
             "ticks": ""
            },
            "colorscale": [
             [
              0,
              "#0d0887"
             ],
             [
              0.1111111111111111,
              "#46039f"
             ],
             [
              0.2222222222222222,
              "#7201a8"
             ],
             [
              0.3333333333333333,
              "#9c179e"
             ],
             [
              0.4444444444444444,
              "#bd3786"
             ],
             [
              0.5555555555555556,
              "#d8576b"
             ],
             [
              0.6666666666666666,
              "#ed7953"
             ],
             [
              0.7777777777777778,
              "#fb9f3a"
             ],
             [
              0.8888888888888888,
              "#fdca26"
             ],
             [
              1,
              "#f0f921"
             ]
            ],
            "type": "contour"
           }
          ],
          "contourcarpet": [
           {
            "colorbar": {
             "outlinewidth": 0,
             "ticks": ""
            },
            "type": "contourcarpet"
           }
          ],
          "heatmap": [
           {
            "colorbar": {
             "outlinewidth": 0,
             "ticks": ""
            },
            "colorscale": [
             [
              0,
              "#0d0887"
             ],
             [
              0.1111111111111111,
              "#46039f"
             ],
             [
              0.2222222222222222,
              "#7201a8"
             ],
             [
              0.3333333333333333,
              "#9c179e"
             ],
             [
              0.4444444444444444,
              "#bd3786"
             ],
             [
              0.5555555555555556,
              "#d8576b"
             ],
             [
              0.6666666666666666,
              "#ed7953"
             ],
             [
              0.7777777777777778,
              "#fb9f3a"
             ],
             [
              0.8888888888888888,
              "#fdca26"
             ],
             [
              1,
              "#f0f921"
             ]
            ],
            "type": "heatmap"
           }
          ],
          "heatmapgl": [
           {
            "colorbar": {
             "outlinewidth": 0,
             "ticks": ""
            },
            "colorscale": [
             [
              0,
              "#0d0887"
             ],
             [
              0.1111111111111111,
              "#46039f"
             ],
             [
              0.2222222222222222,
              "#7201a8"
             ],
             [
              0.3333333333333333,
              "#9c179e"
             ],
             [
              0.4444444444444444,
              "#bd3786"
             ],
             [
              0.5555555555555556,
              "#d8576b"
             ],
             [
              0.6666666666666666,
              "#ed7953"
             ],
             [
              0.7777777777777778,
              "#fb9f3a"
             ],
             [
              0.8888888888888888,
              "#fdca26"
             ],
             [
              1,
              "#f0f921"
             ]
            ],
            "type": "heatmapgl"
           }
          ],
          "histogram": [
           {
            "marker": {
             "pattern": {
              "fillmode": "overlay",
              "size": 10,
              "solidity": 0.2
             }
            },
            "type": "histogram"
           }
          ],
          "histogram2d": [
           {
            "colorbar": {
             "outlinewidth": 0,
             "ticks": ""
            },
            "colorscale": [
             [
              0,
              "#0d0887"
             ],
             [
              0.1111111111111111,
              "#46039f"
             ],
             [
              0.2222222222222222,
              "#7201a8"
             ],
             [
              0.3333333333333333,
              "#9c179e"
             ],
             [
              0.4444444444444444,
              "#bd3786"
             ],
             [
              0.5555555555555556,
              "#d8576b"
             ],
             [
              0.6666666666666666,
              "#ed7953"
             ],
             [
              0.7777777777777778,
              "#fb9f3a"
             ],
             [
              0.8888888888888888,
              "#fdca26"
             ],
             [
              1,
              "#f0f921"
             ]
            ],
            "type": "histogram2d"
           }
          ],
          "histogram2dcontour": [
           {
            "colorbar": {
             "outlinewidth": 0,
             "ticks": ""
            },
            "colorscale": [
             [
              0,
              "#0d0887"
             ],
             [
              0.1111111111111111,
              "#46039f"
             ],
             [
              0.2222222222222222,
              "#7201a8"
             ],
             [
              0.3333333333333333,
              "#9c179e"
             ],
             [
              0.4444444444444444,
              "#bd3786"
             ],
             [
              0.5555555555555556,
              "#d8576b"
             ],
             [
              0.6666666666666666,
              "#ed7953"
             ],
             [
              0.7777777777777778,
              "#fb9f3a"
             ],
             [
              0.8888888888888888,
              "#fdca26"
             ],
             [
              1,
              "#f0f921"
             ]
            ],
            "type": "histogram2dcontour"
           }
          ],
          "mesh3d": [
           {
            "colorbar": {
             "outlinewidth": 0,
             "ticks": ""
            },
            "type": "mesh3d"
           }
          ],
          "parcoords": [
           {
            "line": {
             "colorbar": {
              "outlinewidth": 0,
              "ticks": ""
             }
            },
            "type": "parcoords"
           }
          ],
          "pie": [
           {
            "automargin": true,
            "type": "pie"
           }
          ],
          "scatter": [
           {
            "fillpattern": {
             "fillmode": "overlay",
             "size": 10,
             "solidity": 0.2
            },
            "type": "scatter"
           }
          ],
          "scatter3d": [
           {
            "line": {
             "colorbar": {
              "outlinewidth": 0,
              "ticks": ""
             }
            },
            "marker": {
             "colorbar": {
              "outlinewidth": 0,
              "ticks": ""
             }
            },
            "type": "scatter3d"
           }
          ],
          "scattercarpet": [
           {
            "marker": {
             "colorbar": {
              "outlinewidth": 0,
              "ticks": ""
             }
            },
            "type": "scattercarpet"
           }
          ],
          "scattergeo": [
           {
            "marker": {
             "colorbar": {
              "outlinewidth": 0,
              "ticks": ""
             }
            },
            "type": "scattergeo"
           }
          ],
          "scattergl": [
           {
            "marker": {
             "colorbar": {
              "outlinewidth": 0,
              "ticks": ""
             }
            },
            "type": "scattergl"
           }
          ],
          "scattermapbox": [
           {
            "marker": {
             "colorbar": {
              "outlinewidth": 0,
              "ticks": ""
             }
            },
            "type": "scattermapbox"
           }
          ],
          "scatterpolar": [
           {
            "marker": {
             "colorbar": {
              "outlinewidth": 0,
              "ticks": ""
             }
            },
            "type": "scatterpolar"
           }
          ],
          "scatterpolargl": [
           {
            "marker": {
             "colorbar": {
              "outlinewidth": 0,
              "ticks": ""
             }
            },
            "type": "scatterpolargl"
           }
          ],
          "scatterternary": [
           {
            "marker": {
             "colorbar": {
              "outlinewidth": 0,
              "ticks": ""
             }
            },
            "type": "scatterternary"
           }
          ],
          "surface": [
           {
            "colorbar": {
             "outlinewidth": 0,
             "ticks": ""
            },
            "colorscale": [
             [
              0,
              "#0d0887"
             ],
             [
              0.1111111111111111,
              "#46039f"
             ],
             [
              0.2222222222222222,
              "#7201a8"
             ],
             [
              0.3333333333333333,
              "#9c179e"
             ],
             [
              0.4444444444444444,
              "#bd3786"
             ],
             [
              0.5555555555555556,
              "#d8576b"
             ],
             [
              0.6666666666666666,
              "#ed7953"
             ],
             [
              0.7777777777777778,
              "#fb9f3a"
             ],
             [
              0.8888888888888888,
              "#fdca26"
             ],
             [
              1,
              "#f0f921"
             ]
            ],
            "type": "surface"
           }
          ],
          "table": [
           {
            "cells": {
             "fill": {
              "color": "#EBF0F8"
             },
             "line": {
              "color": "white"
             }
            },
            "header": {
             "fill": {
              "color": "#C8D4E3"
             },
             "line": {
              "color": "white"
             }
            },
            "type": "table"
           }
          ]
         },
         "layout": {
          "annotationdefaults": {
           "arrowcolor": "#2a3f5f",
           "arrowhead": 0,
           "arrowwidth": 1
          },
          "autotypenumbers": "strict",
          "coloraxis": {
           "colorbar": {
            "outlinewidth": 0,
            "ticks": ""
           }
          },
          "colorscale": {
           "diverging": [
            [
             0,
             "#8e0152"
            ],
            [
             0.1,
             "#c51b7d"
            ],
            [
             0.2,
             "#de77ae"
            ],
            [
             0.3,
             "#f1b6da"
            ],
            [
             0.4,
             "#fde0ef"
            ],
            [
             0.5,
             "#f7f7f7"
            ],
            [
             0.6,
             "#e6f5d0"
            ],
            [
             0.7,
             "#b8e186"
            ],
            [
             0.8,
             "#7fbc41"
            ],
            [
             0.9,
             "#4d9221"
            ],
            [
             1,
             "#276419"
            ]
           ],
           "sequential": [
            [
             0,
             "#0d0887"
            ],
            [
             0.1111111111111111,
             "#46039f"
            ],
            [
             0.2222222222222222,
             "#7201a8"
            ],
            [
             0.3333333333333333,
             "#9c179e"
            ],
            [
             0.4444444444444444,
             "#bd3786"
            ],
            [
             0.5555555555555556,
             "#d8576b"
            ],
            [
             0.6666666666666666,
             "#ed7953"
            ],
            [
             0.7777777777777778,
             "#fb9f3a"
            ],
            [
             0.8888888888888888,
             "#fdca26"
            ],
            [
             1,
             "#f0f921"
            ]
           ],
           "sequentialminus": [
            [
             0,
             "#0d0887"
            ],
            [
             0.1111111111111111,
             "#46039f"
            ],
            [
             0.2222222222222222,
             "#7201a8"
            ],
            [
             0.3333333333333333,
             "#9c179e"
            ],
            [
             0.4444444444444444,
             "#bd3786"
            ],
            [
             0.5555555555555556,
             "#d8576b"
            ],
            [
             0.6666666666666666,
             "#ed7953"
            ],
            [
             0.7777777777777778,
             "#fb9f3a"
            ],
            [
             0.8888888888888888,
             "#fdca26"
            ],
            [
             1,
             "#f0f921"
            ]
           ]
          },
          "colorway": [
           "#636efa",
           "#EF553B",
           "#00cc96",
           "#ab63fa",
           "#FFA15A",
           "#19d3f3",
           "#FF6692",
           "#B6E880",
           "#FF97FF",
           "#FECB52"
          ],
          "font": {
           "color": "#2a3f5f"
          },
          "geo": {
           "bgcolor": "white",
           "lakecolor": "white",
           "landcolor": "#E5ECF6",
           "showlakes": true,
           "showland": true,
           "subunitcolor": "white"
          },
          "hoverlabel": {
           "align": "left"
          },
          "hovermode": "closest",
          "mapbox": {
           "style": "light"
          },
          "paper_bgcolor": "white",
          "plot_bgcolor": "#E5ECF6",
          "polar": {
           "angularaxis": {
            "gridcolor": "white",
            "linecolor": "white",
            "ticks": ""
           },
           "bgcolor": "#E5ECF6",
           "radialaxis": {
            "gridcolor": "white",
            "linecolor": "white",
            "ticks": ""
           }
          },
          "scene": {
           "xaxis": {
            "backgroundcolor": "#E5ECF6",
            "gridcolor": "white",
            "gridwidth": 2,
            "linecolor": "white",
            "showbackground": true,
            "ticks": "",
            "zerolinecolor": "white"
           },
           "yaxis": {
            "backgroundcolor": "#E5ECF6",
            "gridcolor": "white",
            "gridwidth": 2,
            "linecolor": "white",
            "showbackground": true,
            "ticks": "",
            "zerolinecolor": "white"
           },
           "zaxis": {
            "backgroundcolor": "#E5ECF6",
            "gridcolor": "white",
            "gridwidth": 2,
            "linecolor": "white",
            "showbackground": true,
            "ticks": "",
            "zerolinecolor": "white"
           }
          },
          "shapedefaults": {
           "line": {
            "color": "#2a3f5f"
           }
          },
          "ternary": {
           "aaxis": {
            "gridcolor": "white",
            "linecolor": "white",
            "ticks": ""
           },
           "baxis": {
            "gridcolor": "white",
            "linecolor": "white",
            "ticks": ""
           },
           "bgcolor": "#E5ECF6",
           "caxis": {
            "gridcolor": "white",
            "linecolor": "white",
            "ticks": ""
           }
          },
          "title": {
           "x": 0.05
          },
          "xaxis": {
           "automargin": true,
           "gridcolor": "white",
           "linecolor": "white",
           "ticks": "",
           "title": {
            "standoff": 15
           },
           "zerolinecolor": "white",
           "zerolinewidth": 2
          },
          "yaxis": {
           "automargin": true,
           "gridcolor": "white",
           "linecolor": "white",
           "ticks": "",
           "title": {
            "standoff": 15
           },
           "zerolinecolor": "white",
           "zerolinewidth": 2
          }
         }
        },
        "title": {
         "text": "Count of Patents Filed for Each Category",
         "x": 0.5
        },
        "xaxis": {
         "anchor": "y",
         "domain": [
          0,
          1
         ],
         "title": {
          "text": "Number of Patents"
         }
        },
        "yaxis": {
         "anchor": "x",
         "categoryarray": [
          "K: Nucleonics, Explosives, Protection",
          "G: Printing, Coating, Photographic",
          "H: Petroleum",
          "C: Agricultural Chemicals",
          "E: General Chemicals",
          "L: Glass, Ceramics, Electro(in) Organics",
          "F: Textiles,  Paper, Cellulose",
          "M: Metallurgy",
          "B: Pharmaceuticals",
          "J: Chemical Engineering",
          "U: Semiconductors and Electronic Circuitry",
          "V: Electronic Components",
          "D: Food, Fermentation, Disinfectants, Detergents",
          "S: Instrumentation, Measuring and Testing",
          "T: Computing and Control",
          "W: Communications",
          "X: Electric Power Engineering",
          "A: Polymers & Plastics",
          "P: General",
          "Q: Mechanical"
         ],
         "categoryorder": "array",
         "domain": [
          0,
          1
         ],
         "tickmode": "linear",
         "title": {
          "text": "Patent Category"
         }
        }
       }
      }
     },
     "metadata": {},
     "output_type": "display_data"
    }
   ],
   "source": [
    "df_category_exploded = df.explode('category')\n",
    "\n",
    "# Step 2: Count occurrences of each category\n",
    "category_counts = df_category_exploded['category'].value_counts().reset_index()\n",
    "category_counts.columns = ['category', 'Count']\n",
    "\n",
    "sorted_unique_main_categories = sorted(list(set(main_categories)))\n",
    "\n",
    "for idx in range(len(category_counts)):\n",
    "    char = category_counts.at[idx, 'category'][0] # Get the first character\n",
    "    for title in sorted_unique_main_categories:\n",
    "        if char == title[0]:  # Check if the first character is in any of the titles\n",
    "            category_counts.at[idx, 'category'] = title  # Replace with the full title\n",
    "            \n",
    "# Define 20 distinct colors for the bars\n",
    "distinct_colors = [\n",
    "    \"#1f77b4\", \"#ff7f0e\", \"#2ca02c\", \"#d62728\", \"#9467bd\", \n",
    "    \"#8c564b\", \"#e377c2\", \"#7f7f7f\", \"#bcbd22\", \"#17becf\",\n",
    "    \"#aec7e8\", \"#ffbb78\", \"#98df8a\", \"#ff9896\", \"#c5b0d5\",\n",
    "    \"#c49c94\", \"#f7b6d2\", \"#c7c7c7\", \"#dbdb8d\", \"#9edae5\"\n",
    "]\n",
    "\n",
    "# Step 3: Create a horizontal bar plot with distinct colors and a centered title\n",
    "fig = px.bar(\n",
    "    category_counts,\n",
    "    x='Count',\n",
    "    y='category',\n",
    "    orientation='h',  # Horizontal bar plot\n",
    "    title='Count of Patents Filed for Each Category',\n",
    "    labels={'Count': 'Number of Patents', 'category': 'Patent Category'},\n",
    "    color='category',  # Color each bar differently\n",
    "    color_discrete_sequence=distinct_colors  # Use a custom color palette with 20 distinct colors\n",
    ")\n",
    "\n",
    "# Adjust layout\n",
    "fig.update_layout(\n",
    "    height=800,  # Increase height for more space\n",
    "    yaxis=dict(tickmode='linear'),  # Ensure all labels show\n",
    "    title={'x': 0.5},  # Center title\n",
    "    showlegend=False  # Hide legend if not needed\n",
    ")\n",
    "\n",
    "# Show the plot\n",
    "fig.show()"
   ]
  },
  {
   "cell_type": "code",
   "execution_count": 169,
   "metadata": {},
   "outputs": [
    {
     "data": {
      "text/plain": [
       "' \\nDWPI_TITLE and DWPI_NOVELTY columns can be combined into a single column and then embeddings can be generated for this combined column.\\nPATENT column doesnt seem to have any meaning because it is unique for each row. It seems like a primary key which is not important for classification.\\nSome patents have more than 1 Class/Alphabet associated with them such as [J01, X25]. \\nThe classifier at the top level needs to predict both J and X for this patent.\\nThen, I will send this patent to be further classified into the sections of J and X by using different classifiers trained for J and X respectively.\\n'"
      ]
     },
     "execution_count": 169,
     "metadata": {},
     "output_type": "execute_result"
    }
   ],
   "source": [
    "# Make different dataframes for each class starting alphabet and plot alphabet count for each country\n",
    "''' \n",
    "DWPI_TITLE and DWPI_NOVELTY columns can be combined into a single column and then embeddings can be generated for this combined column.\n",
    "PATENT column doesnt seem to have any meaning because it is unique for each row. It seems like a primary key which is not important for classification.\n",
    "Some patents have more than 1 Class/Alphabet associated with them such as [J01, X25]. \n",
    "The classifier at the top level needs to predict both J and X for this patent.\n",
    "Then, I will send this patent to be further classified into the sections of J and X by using different classifiers trained for J and X respectively.\n",
    "'''"
   ]
  }
 ],
 "metadata": {
  "kernelspec": {
   "display_name": "base",
   "language": "python",
   "name": "python3"
  },
  "language_info": {
   "codemirror_mode": {
    "name": "ipython",
    "version": 3
   },
   "file_extension": ".py",
   "mimetype": "text/x-python",
   "name": "python",
   "nbconvert_exporter": "python",
   "pygments_lexer": "ipython3",
   "version": "3.12.4"
  }
 },
 "nbformat": 4,
 "nbformat_minor": 2
}
